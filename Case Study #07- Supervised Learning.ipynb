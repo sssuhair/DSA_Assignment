{
 "cells": [
  {
   "cell_type": "code",
   "execution_count": 1,
   "id": "0aa4221f",
   "metadata": {},
   "outputs": [],
   "source": [
    "import numpy as np\n",
    "import pandas as pd\n",
    "import matplotlib.pyplot as plt\n",
    "import seaborn as sns"
   ]
  },
  {
   "cell_type": "code",
   "execution_count": 3,
   "id": "fe92ef9c",
   "metadata": {},
   "outputs": [],
   "source": [
    "data = pd.read_excel(r'C:\\Users\\SUHAIR\\Desktop\\DSA\\iris1.xls')"
   ]
  },
  {
   "cell_type": "code",
   "execution_count": 4,
   "id": "56560c2b",
   "metadata": {},
   "outputs": [
    {
     "data": {
      "text/html": [
       "<div>\n",
       "<style scoped>\n",
       "    .dataframe tbody tr th:only-of-type {\n",
       "        vertical-align: middle;\n",
       "    }\n",
       "\n",
       "    .dataframe tbody tr th {\n",
       "        vertical-align: top;\n",
       "    }\n",
       "\n",
       "    .dataframe thead th {\n",
       "        text-align: right;\n",
       "    }\n",
       "</style>\n",
       "<table border=\"1\" class=\"dataframe\">\n",
       "  <thead>\n",
       "    <tr style=\"text-align: right;\">\n",
       "      <th></th>\n",
       "      <th>SL</th>\n",
       "      <th>SW</th>\n",
       "      <th>PL</th>\n",
       "      <th>PW</th>\n",
       "      <th>Classification</th>\n",
       "    </tr>\n",
       "  </thead>\n",
       "  <tbody>\n",
       "    <tr>\n",
       "      <th>0</th>\n",
       "      <td>5.1</td>\n",
       "      <td>3.5</td>\n",
       "      <td>1.4</td>\n",
       "      <td>0.2</td>\n",
       "      <td>Iris-setosa</td>\n",
       "    </tr>\n",
       "    <tr>\n",
       "      <th>1</th>\n",
       "      <td>4.9</td>\n",
       "      <td>3.0</td>\n",
       "      <td>1.4</td>\n",
       "      <td>0.2</td>\n",
       "      <td>Iris-setosa</td>\n",
       "    </tr>\n",
       "    <tr>\n",
       "      <th>2</th>\n",
       "      <td>NaN</td>\n",
       "      <td>3.2</td>\n",
       "      <td>1.3</td>\n",
       "      <td>0.2</td>\n",
       "      <td>Iris-setosa</td>\n",
       "    </tr>\n",
       "    <tr>\n",
       "      <th>3</th>\n",
       "      <td>4.6</td>\n",
       "      <td>3.1</td>\n",
       "      <td>1.5</td>\n",
       "      <td>0.2</td>\n",
       "      <td>Iris-setosa</td>\n",
       "    </tr>\n",
       "    <tr>\n",
       "      <th>4</th>\n",
       "      <td>5.0</td>\n",
       "      <td>3.6</td>\n",
       "      <td>1.4</td>\n",
       "      <td>0.2</td>\n",
       "      <td>Iris-setosa</td>\n",
       "    </tr>\n",
       "  </tbody>\n",
       "</table>\n",
       "</div>"
      ],
      "text/plain": [
       "    SL   SW   PL   PW Classification\n",
       "0  5.1  3.5  1.4  0.2    Iris-setosa\n",
       "1  4.9  3.0  1.4  0.2    Iris-setosa\n",
       "2  NaN  3.2  1.3  0.2    Iris-setosa\n",
       "3  4.6  3.1  1.5  0.2    Iris-setosa\n",
       "4  5.0  3.6  1.4  0.2    Iris-setosa"
      ]
     },
     "execution_count": 4,
     "metadata": {},
     "output_type": "execute_result"
    }
   ],
   "source": [
    "data.head()"
   ]
  },
  {
   "cell_type": "code",
   "execution_count": 5,
   "id": "30bd3d6b",
   "metadata": {},
   "outputs": [
    {
     "name": "stdout",
     "output_type": "stream",
     "text": [
      "<class 'pandas.core.frame.DataFrame'>\n",
      "RangeIndex: 150 entries, 0 to 149\n",
      "Data columns (total 5 columns):\n",
      " #   Column          Non-Null Count  Dtype  \n",
      "---  ------          --------------  -----  \n",
      " 0   SL              143 non-null    float64\n",
      " 1   SW              144 non-null    float64\n",
      " 2   PL              144 non-null    float64\n",
      " 3   PW              150 non-null    float64\n",
      " 4   Classification  150 non-null    object \n",
      "dtypes: float64(4), object(1)\n",
      "memory usage: 6.0+ KB\n"
     ]
    }
   ],
   "source": [
    "data.info()"
   ]
  },
  {
   "cell_type": "code",
   "execution_count": 6,
   "id": "b2f675cb",
   "metadata": {},
   "outputs": [
    {
     "data": {
      "text/plain": [
       "SL                7\n",
       "SW                6\n",
       "PL                6\n",
       "PW                0\n",
       "Classification    0\n",
       "dtype: int64"
      ]
     },
     "execution_count": 6,
     "metadata": {},
     "output_type": "execute_result"
    }
   ],
   "source": [
    "data.isna().sum()"
   ]
  },
  {
   "cell_type": "markdown",
   "id": "e7ebc15c",
   "metadata": {},
   "source": [
    "\n",
    "Missing values present in the dataset."
   ]
  },
  {
   "cell_type": "code",
   "execution_count": 7,
   "id": "30dcf593",
   "metadata": {},
   "outputs": [
    {
     "data": {
      "text/html": [
       "<div>\n",
       "<style scoped>\n",
       "    .dataframe tbody tr th:only-of-type {\n",
       "        vertical-align: middle;\n",
       "    }\n",
       "\n",
       "    .dataframe tbody tr th {\n",
       "        vertical-align: top;\n",
       "    }\n",
       "\n",
       "    .dataframe thead th {\n",
       "        text-align: right;\n",
       "    }\n",
       "</style>\n",
       "<table border=\"1\" class=\"dataframe\">\n",
       "  <thead>\n",
       "    <tr style=\"text-align: right;\">\n",
       "      <th></th>\n",
       "      <th>count</th>\n",
       "      <th>mean</th>\n",
       "      <th>std</th>\n",
       "      <th>min</th>\n",
       "      <th>25%</th>\n",
       "      <th>50%</th>\n",
       "      <th>75%</th>\n",
       "      <th>max</th>\n",
       "    </tr>\n",
       "  </thead>\n",
       "  <tbody>\n",
       "    <tr>\n",
       "      <th>SL</th>\n",
       "      <td>143.0</td>\n",
       "      <td>5.855944</td>\n",
       "      <td>0.828168</td>\n",
       "      <td>4.3</td>\n",
       "      <td>5.1</td>\n",
       "      <td>5.80</td>\n",
       "      <td>6.4</td>\n",
       "      <td>7.9</td>\n",
       "    </tr>\n",
       "    <tr>\n",
       "      <th>SW</th>\n",
       "      <td>144.0</td>\n",
       "      <td>3.049306</td>\n",
       "      <td>0.430644</td>\n",
       "      <td>2.0</td>\n",
       "      <td>2.8</td>\n",
       "      <td>3.00</td>\n",
       "      <td>3.3</td>\n",
       "      <td>4.4</td>\n",
       "    </tr>\n",
       "    <tr>\n",
       "      <th>PL</th>\n",
       "      <td>144.0</td>\n",
       "      <td>3.756250</td>\n",
       "      <td>1.761306</td>\n",
       "      <td>1.0</td>\n",
       "      <td>1.6</td>\n",
       "      <td>4.35</td>\n",
       "      <td>5.1</td>\n",
       "      <td>6.9</td>\n",
       "    </tr>\n",
       "    <tr>\n",
       "      <th>PW</th>\n",
       "      <td>150.0</td>\n",
       "      <td>1.198667</td>\n",
       "      <td>0.763161</td>\n",
       "      <td>0.1</td>\n",
       "      <td>0.3</td>\n",
       "      <td>1.30</td>\n",
       "      <td>1.8</td>\n",
       "      <td>2.5</td>\n",
       "    </tr>\n",
       "  </tbody>\n",
       "</table>\n",
       "</div>"
      ],
      "text/plain": [
       "    count      mean       std  min  25%   50%  75%  max\n",
       "SL  143.0  5.855944  0.828168  4.3  5.1  5.80  6.4  7.9\n",
       "SW  144.0  3.049306  0.430644  2.0  2.8  3.00  3.3  4.4\n",
       "PL  144.0  3.756250  1.761306  1.0  1.6  4.35  5.1  6.9\n",
       "PW  150.0  1.198667  0.763161  0.1  0.3  1.30  1.8  2.5"
      ]
     },
     "execution_count": 7,
     "metadata": {},
     "output_type": "execute_result"
    }
   ],
   "source": [
    "data.describe().T"
   ]
  },
  {
   "cell_type": "code",
   "execution_count": 8,
   "id": "4e175920",
   "metadata": {},
   "outputs": [
    {
     "data": {
      "text/plain": [
       "SL    5.80\n",
       "SW    3.00\n",
       "PL    4.35\n",
       "PW    1.30\n",
       "dtype: float64"
      ]
     },
     "execution_count": 8,
     "metadata": {},
     "output_type": "execute_result"
    }
   ],
   "source": [
    "data.median()"
   ]
  },
  {
   "cell_type": "code",
   "execution_count": 9,
   "id": "46e774dc",
   "metadata": {},
   "outputs": [
    {
     "data": {
      "text/plain": [
       "SL    5.855944\n",
       "SW    3.049306\n",
       "PL    3.756250\n",
       "PW    1.198667\n",
       "dtype: float64"
      ]
     },
     "execution_count": 9,
     "metadata": {},
     "output_type": "execute_result"
    }
   ],
   "source": [
    "data.mean()"
   ]
  },
  {
   "cell_type": "markdown",
   "id": "cdb08bdd",
   "metadata": {},
   "source": [
    "Replacing missing values with the median:"
   ]
  },
  {
   "cell_type": "code",
   "execution_count": 10,
   "id": "28c9e6bb",
   "metadata": {},
   "outputs": [],
   "source": [
    "col=['SL','SW','PL']\n",
    "for i in col:\n",
    "    data[i] = data[i].fillna(data[i].median())"
   ]
  },
  {
   "cell_type": "code",
   "execution_count": 11,
   "id": "680c15a8",
   "metadata": {},
   "outputs": [
    {
     "data": {
      "text/plain": [
       "SL                0\n",
       "SW                0\n",
       "PL                0\n",
       "PW                0\n",
       "Classification    0\n",
       "dtype: int64"
      ]
     },
     "execution_count": 11,
     "metadata": {},
     "output_type": "execute_result"
    }
   ],
   "source": [
    "data.isna().sum()"
   ]
  },
  {
   "cell_type": "code",
   "execution_count": 12,
   "id": "d036c30d",
   "metadata": {},
   "outputs": [
    {
     "data": {
      "text/plain": [
       "Text(0.5, 0.98, 'SL')"
      ]
     },
     "execution_count": 12,
     "metadata": {},
     "output_type": "execute_result"
    },
    {
     "data": {
      "image/png": "[encoded data removed]",
      "text/plain": [
       "<Figure size 360x216 with 1 Axes>"
      ]
     },
     "metadata": {
      "needs_background": "light"
     },
     "output_type": "display_data"
    }
   ],
   "source": [
    "fig = plt.figure(figsize=(5,3))\n",
    "data['SL'].plot(kind='box')\n",
    "fig.suptitle('SL')"
   ]
  },
  {
   "cell_type": "code",
   "execution_count": 13,
   "id": "b79d9c73",
   "metadata": {},
   "outputs": [
    {
     "data": {
      "text/plain": [
       "Text(0.5, 0.98, 'PL')"
      ]
     },
     "execution_count": 13,
     "metadata": {},
     "output_type": "execute_result"
    },
    {
     "data": {
      "image/png": "[encoded data removed]",
      "text/plain": [
       "<Figure size 360x216 with 1 Axes>"
      ]
     },
     "metadata": {
      "needs_background": "light"
     },
     "output_type": "display_data"
    }
   ],
   "source": [
    "fig = plt.figure(figsize=(5,3))\n",
    "data['SL'].plot(kind='box')\n",
    "fig.suptitle('PL')"
   ]
  },
  {
   "cell_type": "code",
   "execution_count": 14,
   "id": "7b9ea7c2",
   "metadata": {},
   "outputs": [
    {
     "data": {
      "text/plain": [
       "Text(0.5, 0.98, 'SW')"
      ]
     },
     "execution_count": 14,
     "metadata": {},
     "output_type": "execute_result"
    },
    {
     "data": {
      "image/png": "[encoded data removed]",
      "text/plain": [
       "<Figure size 360x216 with 1 Axes>"
      ]
     },
     "metadata": {
      "needs_background": "light"
     },
     "output_type": "display_data"
    }
   ],
   "source": [
    "fig = plt.figure(figsize=(5,3))\n",
    "data['SL'].plot(kind='box')\n",
    "fig.suptitle('SW')"
   ]
  },
  {
   "cell_type": "code",
   "execution_count": 15,
   "id": "a1f1226f",
   "metadata": {},
   "outputs": [
    {
     "data": {
      "text/plain": [
       "Text(0.5, 0.98, 'PW')"
      ]
     },
     "execution_count": 15,
     "metadata": {},
     "output_type": "execute_result"
    },
    {
     "data": {
      "image/png": "[encoded data removed]",
      "text/plain": [
       "<Figure size 360x216 with 1 Axes>"
      ]
     },
     "metadata": {
      "needs_background": "light"
     },
     "output_type": "display_data"
    }
   ],
   "source": [
    "fig = plt.figure(figsize=(5,3))\n",
    "data['SL'].plot(kind='box')\n",
    "fig.suptitle('PW')"
   ]
  },
  {
   "cell_type": "code",
   "execution_count": 16,
   "id": "4ca56180",
   "metadata": {},
   "outputs": [
    {
     "data": {
      "text/plain": [
       "Iris-versicolor    50\n",
       "Iris-virginica     50\n",
       "Iris-setosa        50\n",
       "Name: Classification, dtype: int64"
      ]
     },
     "execution_count": 16,
     "metadata": {},
     "output_type": "execute_result"
    }
   ],
   "source": [
    "data['Classification'].value_counts()"
   ]
  },
  {
   "cell_type": "markdown",
   "id": "cfc4a742",
   "metadata": {},
   "source": [
    "Scaling the categorical data into numerical value inorder to perform ML techniques:"
   ]
  },
  {
   "cell_type": "code",
   "execution_count": 25,
   "id": "df98a768",
   "metadata": {},
   "outputs": [
    {
     "data": {
      "text/plain": [
       "0    50\n",
       "1    50\n",
       "2    50\n",
       "Name: Classification, dtype: int64"
      ]
     },
     "execution_count": 25,
     "metadata": {},
     "output_type": "execute_result"
    }
   ],
   "source": [
    "from sklearn.preprocessing import LabelEncoder\n",
    "data['Classification'] = LabelEncoder().fit_transform(data['Classification'])\n",
    "data['Classification'].value_counts()"
   ]
  },
  {
   "cell_type": "markdown",
   "id": "151ec28b",
   "metadata": {},
   "source": [
    "Function to check model performances:"
   ]
  },
  {
   "cell_type": "code",
   "execution_count": 27,
   "id": "7ed425de",
   "metadata": {},
   "outputs": [
    {
     "name": "stdout",
     "output_type": "stream",
     "text": [
      "Feature shape: (150, 4)\n"
     ]
    }
   ],
   "source": [
    "x = data[data.columns[:-1]]\n",
    "y = data['Classification']\n",
    "print(f'Feature shape: {x.shape}')"
   ]
  },
  {
   "cell_type": "code",
   "execution_count": 28,
   "id": "28f52d40",
   "metadata": {},
   "outputs": [
    {
     "name": "stdout",
     "output_type": "stream",
     "text": [
      "Training set has 120 samples.\n",
      "Testing set has 30 samples.\n"
     ]
    }
   ],
   "source": [
    "from sklearn.model_selection import train_test_split\n",
    "x_train, x_test, y_train, y_test = train_test_split(x, y, random_state=42, test_size=0.2)\n",
    "\n",
    "print(\"Training set has {} samples.\".format(x_train.shape[0]))\n",
    "print(\"Testing set has {} samples.\".format(x_test.shape[0]))"
   ]
  },
  {
   "cell_type": "markdown",
   "id": "2a1ce55a",
   "metadata": {},
   "source": [
    "1.SVM Models: (Linear, Polynomial and RBF)\n",
    "\n"
   ]
  },
  {
   "cell_type": "code",
   "execution_count": 29,
   "id": "504a1823",
   "metadata": {},
   "outputs": [
    {
     "name": "stdout",
     "output_type": "stream",
     "text": [
      "Model Accuracy =  1.0\n",
      "Model Precision =  1.0\n",
      "Model Recall =  1.0\n",
      "Model F1 Score =  1.0\n",
      "Confusion Matrix = \n",
      " [[10  0  0]\n",
      " [ 0  9  0]\n",
      " [ 0  0 11]]\n"
     ]
    }
   ],
   "source": [
    "from sklearn.svm import SVC\n",
    "lin = SVC(kernel='linear', decision_function_shape='ovo') \n",
    "lin.fit(x_train, y_train)\n",
    "lin_pred = lin.predict(x_test)\n",
    "check_model_metrices(y_test, lin_pred)"
   ]
  },
  {
   "cell_type": "code",
   "execution_count": 30,
   "id": "89f0b1ef",
   "metadata": {},
   "outputs": [
    {
     "name": "stdout",
     "output_type": "stream",
     "text": [
      "Model Accuracy =  0.9666666666666667\n",
      "Model Precision =  0.9666666666666667\n",
      "Model Recall =  0.9666666666666667\n",
      "Model F1 Score =  0.9666666666666667\n",
      "Confusion Matrix = \n",
      " [[10  0  0]\n",
      " [ 0  8  1]\n",
      " [ 0  0 11]]\n"
     ]
    }
   ],
   "source": [
    "poly = SVC(kernel='poly', degree = 3, decision_function_shape='ovo')\n",
    "poly.fit(x_train, y_train)\n",
    "poly_pred = poly.predict(x_test)\n",
    "check_model_metrices(y_test, poly_pred)"
   ]
  },
  {
   "cell_type": "code",
   "execution_count": 31,
   "id": "885f5cc3",
   "metadata": {},
   "outputs": [
    {
     "name": "stdout",
     "output_type": "stream",
     "text": [
      "Model Accuracy =  1.0\n",
      "Model Precision =  1.0\n",
      "Model Recall =  1.0\n",
      "Model F1 Score =  1.0\n",
      "Confusion Matrix = \n",
      " [[10  0  0]\n",
      " [ 0  9  0]\n",
      " [ 0  0 11]]\n"
     ]
    }
   ],
   "source": [
    "rbf = SVC(kernel='rbf', decision_function_shape='ovo') \n",
    "rbf.fit(x_train, y_train)\n",
    "rbf_pred = rbf.predict(x_test)\n",
    "check_model_metrices(y_test, rbf_pred)"
   ]
  },
  {
   "cell_type": "markdown",
   "id": "3112c6ca",
   "metadata": {},
   "source": [
    "2. Decision Tree"
   ]
  },
  {
   "cell_type": "code",
   "execution_count": 32,
   "id": "d84597b8",
   "metadata": {},
   "outputs": [
    {
     "name": "stdout",
     "output_type": "stream",
     "text": [
      "Model Accuracy =  1.0\n",
      "Model Precision =  1.0\n",
      "Model Recall =  1.0\n",
      "Model F1 Score =  1.0\n",
      "Confusion Matrix = \n",
      " [[10  0  0]\n",
      " [ 0  9  0]\n",
      " [ 0  0 11]]\n"
     ]
    }
   ],
   "source": [
    "from sklearn.tree import DecisionTreeClassifier\n",
    "dtree_model = DecisionTreeClassifier()\n",
    "dtree_model.fit(x_train, y_train)\n",
    "dtree_pred = dtree_model.predict(x_test)\n",
    "\n",
    "check_model_metrices(y_test, dtree_pred)"
   ]
  },
  {
   "cell_type": "markdown",
   "id": "5b8f0044",
   "metadata": {},
   "source": [
    "3. Random Forest\n",
    "\n"
   ]
  },
  {
   "cell_type": "code",
   "execution_count": 33,
   "id": "2d002c0d",
   "metadata": {},
   "outputs": [
    {
     "name": "stdout",
     "output_type": "stream",
     "text": [
      "Model Accuracy =  1.0\n",
      "Model Precision =  1.0\n",
      "Model Recall =  1.0\n",
      "Model F1 Score =  1.0\n",
      "Confusion Matrix = \n",
      " [[10  0  0]\n",
      " [ 0  9  0]\n",
      " [ 0  0 11]]\n"
     ]
    }
   ],
   "source": [
    "from sklearn.ensemble import RandomForestClassifier\n",
    "rf = RandomForestClassifier()\n",
    "rf.fit(x_train, y_train)\n",
    "rf_pred = rf.predict(x_test)\n",
    "\n",
    "check_model_metrices(y_test, rf_pred)"
   ]
  },
  {
   "cell_type": "markdown",
   "id": "f8844f34",
   "metadata": {},
   "source": [
    "4.Linear Regression:\n",
    "\n"
   ]
  },
  {
   "cell_type": "code",
   "execution_count": 35,
   "id": "00bf5c55",
   "metadata": {},
   "outputs": [
    {
     "name": "stdout",
     "output_type": "stream",
     "text": [
      "Model Accuracy =  1.0\n",
      "Model Precision =  1.0\n",
      "Model Recall =  1.0\n",
      "Model F1 Score =  1.0\n",
      "Confusion Matrix = \n",
      " [[10  0  0]\n",
      " [ 0  9  0]\n",
      " [ 0  0 11]]\n"
     ]
    }
   ],
   "source": [
    "from sklearn.linear_model import LogisticRegression\n",
    "lnr = LogisticRegression(multi_class='multinomial', solver='newton-cg')\n",
    "lnr.fit(x_train, y_train)\n",
    "lnr_pred = lnr.predict(x_test)\n",
    "\n",
    "check_model_metrices(y_test, lnr_pred)"
   ]
  },
  {
   "cell_type": "markdown",
   "id": "31cee0e2",
   "metadata": {},
   "source": [
    "Applying Scaling:\n",
    "\n"
   ]
  },
  {
   "cell_type": "code",
   "execution_count": 36,
   "id": "dbda1d13",
   "metadata": {},
   "outputs": [],
   "source": [
    "from sklearn.preprocessing import StandardScaler\n",
    "scaler = StandardScaler()\n",
    "x_train = scaler.fit_transform(x_train) \n",
    "x_test = scaler.fit_transform(x_test)"
   ]
  },
  {
   "cell_type": "markdown",
   "id": "0b0b041e",
   "metadata": {},
   "source": [
    "# 1. Linear Regression After Scaling:\n",
    "\n"
   ]
  },
  {
   "cell_type": "code",
   "execution_count": 37,
   "id": "b69ab58f",
   "metadata": {},
   "outputs": [
    {
     "name": "stdout",
     "output_type": "stream",
     "text": [
      "Model Accuracy =  0.9666666666666667\n",
      "Model Precision =  0.9666666666666667\n",
      "Model Recall =  0.9666666666666667\n",
      "Model F1 Score =  0.9666666666666667\n",
      "Confusion Matrix = \n",
      " [[10  0  0]\n",
      " [ 0  9  0]\n",
      " [ 0  1 10]]\n"
     ]
    }
   ],
   "source": [
    "from sklearn.linear_model import LogisticRegression\n",
    "lnr = LogisticRegression(multi_class='multinomial', solver='newton-cg')\n",
    "lnr.fit(x_train, y_train)\n",
    "lnr_pred = lnr.predict(x_test)\n",
    "\n",
    "check_model_metrices(y_test, lnr_pred)"
   ]
  },
  {
   "cell_type": "markdown",
   "id": "6ca5e3c4",
   "metadata": {},
   "source": [
    "# 2. SVM models After Scaling:\n",
    "\n"
   ]
  },
  {
   "cell_type": "code",
   "execution_count": 38,
   "id": "d09ed3d5",
   "metadata": {},
   "outputs": [
    {
     "name": "stdout",
     "output_type": "stream",
     "text": [
      "Model Accuracy =  0.9333333333333333\n",
      "Model Precision =  0.9333333333333333\n",
      "Model Recall =  0.9333333333333333\n",
      "Model F1 Score =  0.9333333333333333\n",
      "Confusion Matrix = \n",
      " [[10  0  0]\n",
      " [ 0  8  1]\n",
      " [ 0  1 10]]\n"
     ]
    }
   ],
   "source": [
    "lin = SVC(kernel='linear', decision_function_shape='ovo') \n",
    "lin.fit(x_train, y_train)\n",
    "lin_pred = lin.predict(x_test)\n",
    "\n",
    "check_model_metrices(y_test, lin_pred)"
   ]
  },
  {
   "cell_type": "code",
   "execution_count": 39,
   "id": "16e377cb",
   "metadata": {},
   "outputs": [
    {
     "name": "stdout",
     "output_type": "stream",
     "text": [
      "Model Accuracy =  0.8666666666666667\n",
      "Model Precision =  0.8666666666666667\n",
      "Model Recall =  0.8666666666666667\n",
      "Model F1 Score =  0.8666666666666667\n",
      "Confusion Matrix = \n",
      " [[10  0  0]\n",
      " [ 0  8  1]\n",
      " [ 0  3  8]]\n"
     ]
    }
   ],
   "source": [
    "poly = SVC(kernel='poly', degree = 3, decision_function_shape='ovo')\n",
    "poly.fit(x_train, y_train)\n",
    "poly_pred = poly.predict(x_test)\n",
    "\n",
    "check_model_metrices(y_test, poly_pred)"
   ]
  },
  {
   "cell_type": "code",
   "execution_count": 40,
   "id": "1e9d0b7e",
   "metadata": {},
   "outputs": [
    {
     "name": "stdout",
     "output_type": "stream",
     "text": [
      "Model Accuracy =  0.9666666666666667\n",
      "Model Precision =  0.9666666666666667\n",
      "Model Recall =  0.9666666666666667\n",
      "Model F1 Score =  0.9666666666666667\n",
      "Confusion Matrix = \n",
      " [[10  0  0]\n",
      " [ 0  9  0]\n",
      " [ 0  1 10]]\n"
     ]
    }
   ],
   "source": [
    "rbf = SVC(kernel='rbf', decision_function_shape='ovo') \n",
    "rbf.fit(x_train, y_train)\n",
    "rbf_pred = rbf.predict(x_test)\n",
    "\n",
    "check_model_metrices(y_test, rbf_pred)"
   ]
  },
  {
   "cell_type": "markdown",
   "id": "31c8e34f",
   "metadata": {},
   "source": [
    "# 3. Decision Tree After Scaling:"
   ]
  },
  {
   "cell_type": "code",
   "execution_count": 41,
   "id": "ed50f11c",
   "metadata": {},
   "outputs": [
    {
     "name": "stdout",
     "output_type": "stream",
     "text": [
      "Model Accuracy =  0.9666666666666667\n",
      "Model Precision =  0.9666666666666667\n",
      "Model Recall =  0.9666666666666667\n",
      "Model F1 Score =  0.9666666666666667\n",
      "Confusion Matrix = \n",
      " [[10  0  0]\n",
      " [ 0  9  0]\n",
      " [ 0  1 10]]\n"
     ]
    }
   ],
   "source": [
    "from sklearn.tree import DecisionTreeClassifier\n",
    "dtree_model = DecisionTreeClassifier()\n",
    "dtree_model.fit(x_train, y_train)\n",
    "dtree_pred = dtree_model.predict(x_test)\n",
    "\n",
    "check_model_metrices(y_test, dtree_pred)"
   ]
  },
  {
   "cell_type": "markdown",
   "id": "8f662606",
   "metadata": {},
   "source": [
    "# 4. Random Forest After Scaling:"
   ]
  },
  {
   "cell_type": "code",
   "execution_count": 42,
   "id": "ec55e773",
   "metadata": {},
   "outputs": [
    {
     "name": "stdout",
     "output_type": "stream",
     "text": [
      "Model Accuracy =  1.0\n",
      "Model Precision =  1.0\n",
      "Model Recall =  1.0\n",
      "Model F1 Score =  1.0\n",
      "Confusion Matrix = \n",
      " [[10  0  0]\n",
      " [ 0  9  0]\n",
      " [ 0  0 11]]\n"
     ]
    }
   ],
   "source": [
    "from sklearn.ensemble import RandomForestClassifier\n",
    "rf = RandomForestClassifier()\n",
    "rf.fit(x_train, y_train)\n",
    "rf_pred = rf.predict(x_test)\n",
    "\n",
    "check_model_metrices(y_test, rf_pred)"
   ]
  },
  {
   "cell_type": "markdown",
   "id": "fa877549",
   "metadata": {},
   "source": [
    "# From the analysis, its obsereved that Decision tree gives the best performance scores after scaling.\n",
    "\n",
    "Followed by Random Forest model(96% accuracy), followed by SVM linear model(93%)."
   ]
  },
  {
   "cell_type": "code",
   "execution_count": null,
   "id": "5f74d1bc",
   "metadata": {},
   "outputs": [],
   "source": []
  }
 ],
 "metadata": {
  "kernelspec": {
   "display_name": "Python 3",
   "language": "python",
   "name": "python3"
  },
  "language_info": {
   "codemirror_mode": {
    "name": "ipython",
    "version": 3
   },
   "file_extension": ".py",
   "mimetype": "text/x-python",
   "name": "python",
   "nbconvert_exporter": "python",
   "pygments_lexer": "ipython3",
   "version": "3.8.8"
  }
 },
 "nbformat": 4,
 "nbformat_minor": 5
}
