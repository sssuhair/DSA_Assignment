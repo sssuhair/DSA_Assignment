{
 "cells": [
  {
   "cell_type": "markdown",
   "metadata": {
    "id": "4z_Z-K1tlrS7"
   },
   "source": [
    "## 1. Complete the following code to find the area of an equilateral triangle. Output should be as displayed"
   ]
  },
  {
   "cell_type": "code",
   "execution_count": 2,
   "metadata": {
    "colab": {
     "base_uri": "https://localhost:8080/"
    },
    "id": "rP2qFD_SlrS_",
    "outputId": "c3aaf35d-a160-451d-f1bf-ee02c3b7ea77"
   },
   "outputs": [
    {
     "name": "stdout",
     "output_type": "stream",
     "text": [
      "Enter the side of the equilateral triangle: \n",
      "5\n",
      "Area of the equilateral triangle =  10.825317547305483  sq. units\n"
     ]
    }
   ],
   "source": [
    "import math\n",
    "\n",
    "\n",
    "print(\"Enter the side of the equilateral triangle: \");\n",
    "side, area = float(input()), None\n",
    "#a = ((math.sqrt(3))/4)*pow(side,2)\n",
    "area = (math.sqrt(3) / 4) * (side * side)\n",
    "print(\"Area of the equilateral triangle = \", area, \" sq. units\") \n",
    "\n"
   ]
  },
  {
   "cell_type": "markdown",
   "metadata": {
    "id": "TjVKjIfclrTB"
   },
   "source": [
    "## 2. Write a program to count the number of each characters in a string"
   ]
  },
  {
   "cell_type": "code",
   "execution_count": 1,
   "metadata": {
    "id": "JY5seVUQlrTC"
   },
   "outputs": [
    {
     "name": "stdout",
     "output_type": "stream",
     "text": [
      "Enter string: sdsdsd dfdf\n"
     ]
    }
   ],
   "source": [
    "string = input(\"Enter string: \")\n",
    "def countstring(string):\n",
    "    lcount = 0\n",
    "    for c in string:\n",
    "            if c.ischar():\n",
    "                lcount+=1\n",
    "                \n",
    "                return lcount\n",
    "            letters = countstring(string)\n",
    "            print(\"No of count in char is \", letters)\n",
    "            \n",
    "            "
   ]
  },
  {
   "cell_type": "markdown",
   "metadata": {
    "id": "l3LCULfklrTD"
   },
   "source": [
    "## Write a program to find the area and perimeter of a rectangle using functions"
   ]
  },
  {
   "cell_type": "code",
   "execution_count": 8,
   "metadata": {
    "id": "8haQD8edlrTD"
   },
   "outputs": [
    {
     "name": "stdout",
     "output_type": "stream",
     "text": [
      "Enter width of the retangle:4.5\n",
      "Enter height of the rectangle:3.2\n",
      "\n",
      " area of a Rectangle is: 14.40\n"
     ]
    }
   ],
   "source": [
    "width = float(input(\"Enter width of the retangle:\"''))\n",
    "height = float(input(\"Enter height of the rectangle:\"''))\n",
    "area = width * height\n",
    "print(\"\\n area of a Rectangle is: %.2f\" %area)"
   ]
  },
  {
   "cell_type": "markdown",
   "metadata": {
    "id": "JHK4ZdsflrTE"
   },
   "source": [
    "## 4. Write a program to print the fibonacci series till a specified number"
   ]
  },
  {
   "cell_type": "code",
   "execution_count": 40,
   "metadata": {
    "id": "LyBEj-4SlrTE"
   },
   "outputs": [
    {
     "name": "stdout",
     "output_type": "stream",
     "text": [
      "enter the value8\n",
      "0\n",
      "1\n",
      "1\n",
      "2\n",
      "3\n",
      "5\n",
      "8\n",
      "13\n"
     ]
    }
   ],
   "source": [
    "num = int(input(\"enter the value\"))\n",
    "a=0\n",
    "b=1\n",
    "for num in range(0, num):\n",
    "    print(a)\n",
    "    c=a+b\n",
    "    a=b\n",
    "    b=c"
   ]
  },
  {
   "cell_type": "markdown",
   "metadata": {
    "id": "u4uBUcQKlrTE"
   },
   "source": [
    "## 5. Complete the following code to find the minimum of 3 number using cinditional statements. Output should be as displayed"
   ]
  },
  {
   "cell_type": "code",
   "execution_count": 41,
   "metadata": {
    "id": "XdZwrZjIlrTF"
   },
   "outputs": [
    {
     "name": "stdout",
     "output_type": "stream",
     "text": [
      "Enter three numbers followed by  : 8 6 3\n",
      "First number : 8\n",
      "Second number : 6\n",
      "Third number : 3\n",
      "3  is smallest\n"
     ]
    }
   ],
   "source": [
    "a,b,c = input(\"Enter three numbers followed by  : \").split()\n",
    "\n",
    "print(\"First number :\",a)\n",
    "print(\"Second number :\",b)\n",
    "print(\"Third number :\",c)\n",
    "if(a==b==c):\n",
    "    print(\"Entered numbers are equal!!!\")\n",
    "if(a<b and a<c):\n",
    "    print(a,\" is smallest\")\n",
    "if(b>a and b<c):\n",
    "    print(b,\" is smallest\")\n",
    "if(c<a and c<b):\n",
    "    print(c,\" is smallest\")"
   ]
  },
  {
   "cell_type": "code",
   "execution_count": null,
   "metadata": {
    "colab": {
     "base_uri": "https://localhost:8080/"
    },
    "id": "FTqqtb1yMB84",
    "outputId": "aefa444f-0f15-4571-9f7b-513468f993da"
   },
   "outputs": [],
   "source": []
  },
  {
   "cell_type": "markdown",
   "metadata": {
    "id": "aR_CnToWlrTG"
   },
   "source": [
    "## 6. Write a program to print star pyramind. The number of rows should be taken as input from the user"
   ]
  },
  {
   "cell_type": "code",
   "execution_count": 47,
   "metadata": {
    "id": "M37A-buplrTG"
   },
   "outputs": [
    {
     "ename": "IndentationError",
     "evalue": "unindent does not match any outer indentation level (<tokenize>, line 7)",
     "output_type": "error",
     "traceback": [
      "\u001b[1;36m  File \u001b[1;32m\"<tokenize>\"\u001b[1;36m, line \u001b[1;32m7\u001b[0m\n\u001b[1;33m    print(\"\")\u001b[0m\n\u001b[1;37m    ^\u001b[0m\n\u001b[1;31mIndentationError\u001b[0m\u001b[1;31m:\u001b[0m unindent does not match any outer indentation level\n"
     ]
    }
   ],
   "source": [
    "num=int(input(\"enter number of rows:\"))\n",
    "for i in range(1,num+1):\n",
    "    for j in range(num-i):\n",
    "               print(\" \",end=\"\")\n",
    "for j in range(int(i)):\n",
    "               print(\"* \",end=\"\")\n",
    "        print(\"\")\n",
    "                     "
   ]
  },
  {
   "cell_type": "markdown",
   "metadata": {
    "id": "tlY6aFWBlrTH"
   },
   "source": [
    "## 7. Complete the following code to convert hour into seconds. Output should be as displayed"
   ]
  },
  {
   "cell_type": "code",
   "execution_count": 48,
   "metadata": {
    "colab": {
     "base_uri": "https://localhost:8080/"
    },
    "id": "YOZQFk7FlrTH",
    "outputId": "164a6040-159f-4634-d98c-3851bc772288"
   },
   "outputs": [
    {
     "name": "stdout",
     "output_type": "stream",
     "text": [
      "enter hrs8\n",
      "8  Hour is equal to 28800  Seconds\n"
     ]
    }
   ],
   "source": [
    "def to_seconds(t):\n",
    "    t=t*60*60\n",
    "    return t\n",
    "time_in_hours = int(input(\"enter hrs\"))\n",
    "print(time_in_hours ,\" Hour is equal to\" ,to_seconds(time_in_hours) ,\" Seconds\")"
   ]
  },
  {
   "cell_type": "markdown",
   "metadata": {
    "id": "CnYorNiLlrTI"
   },
   "source": [
    "## 8. Write a program to print multiplication table as below"
   ]
  },
  {
   "cell_type": "code",
   "execution_count": 56,
   "metadata": {
    "colab": {
     "base_uri": "https://localhost:8080/"
    },
    "id": "dPQqDPuDlrTI",
    "outputId": "1fd8646d-bf0c-44a8-c3e6-663e5d5da748"
   },
   "outputs": [
    {
     "ename": "IndentationError",
     "evalue": "expected an indented block (<ipython-input-56-74e7eec8f4dc>, line 3)",
     "output_type": "error",
     "traceback": [
      "\u001b[1;36m  File \u001b[1;32m\"<ipython-input-56-74e7eec8f4dc>\"\u001b[1;36m, line \u001b[1;32m3\u001b[0m\n\u001b[1;33m    print(i,\"*\", number , \"=\",i*number)\u001b[0m\n\u001b[1;37m    ^\u001b[0m\n\u001b[1;31mIndentationError\u001b[0m\u001b[1;31m:\u001b[0m expected an indented block\n"
     ]
    }
   ],
   "source": [
    "number = int(input(\"enter num & its table\"))\n",
    "for i in range(1,10):\n",
    "print(i,\"*\", number , \"=\",i*number)"
   ]
  },
  {
   "cell_type": "markdown",
   "metadata": {
    "id": "Fiaez8iblrTI"
   },
   "source": [
    "## 9. Write a program to take your 5 favorite food as list and print each as 'I like Biriyani'"
   ]
  },
  {
   "cell_type": "code",
   "execution_count": 59,
   "metadata": {
    "colab": {
     "base_uri": "https://localhost:8080/"
    },
    "id": "39W1zFX7lrTJ",
    "outputId": "d9a7e962-0319-4f09-db93-13b7a379a7ae"
   },
   "outputs": [
    {
     "ename": "IndentationError",
     "evalue": "unexpected indent (<ipython-input-59-ee8a4f4735ba>, line 2)",
     "output_type": "error",
     "traceback": [
      "\u001b[1;36m  File \u001b[1;32m\"<ipython-input-59-ee8a4f4735ba>\"\u001b[1;36m, line \u001b[1;32m2\u001b[0m\n\u001b[1;33m    for i in menulist:\u001b[0m\n\u001b[1;37m    ^\u001b[0m\n\u001b[1;31mIndentationError\u001b[0m\u001b[1;31m:\u001b[0m unexpected indent\n"
     ]
    }
   ],
   "source": [
    " menulist = list(map(str, input(\"enter myfav menu\").split()))\n",
    "    for i in menulist:\n",
    "        print(\"i like \", i)"
   ]
  },
  {
   "cell_type": "markdown",
   "metadata": {
    "id": "3vlcDNNEP7d_"
   },
   "source": [
    "## 10. Find error(s) in the following code(if any) and rewrite code.\n",
    "\n"
   ]
  },
  {
   "cell_type": "code",
   "execution_count": 66,
   "metadata": {
    "id": "coREkcY3P9sG"
   },
   "outputs": [
    {
     "ename": "SyntaxError",
     "evalue": "invalid character in identifier (<ipython-input-66-8480ad7c4ad7>, line 1)",
     "output_type": "error",
     "traceback": [
      "\u001b[1;36m  File \u001b[1;32m\"<ipython-input-66-8480ad7c4ad7>\"\u001b[1;36m, line \u001b[1;32m1\u001b[0m\n\u001b[1;33m    x=int(input(“Enter value of x: ”))\u001b[0m\n\u001b[1;37m                     ^\u001b[0m\n\u001b[1;31mSyntaxError\u001b[0m\u001b[1;31m:\u001b[0m invalid character in identifier\n"
     ]
    }
   ],
   "source": [
    "x=int(input(“Enter value of x: ”))\n",
    "for y in range (0,10):\n",
    "     if x==y:\n",
    "          print(\"They are equal\")\n",
    "     else:\n",
    "         Print( \"They are unequal\")"
   ]
  },
  {
   "cell_type": "code",
   "execution_count": null,
   "metadata": {},
   "outputs": [],
   "source": []
  }
 ],
 "metadata": {
  "colab": {
   "collapsed_sections": [],
   "name": "Q&A activity student file.ipynb",
   "provenance": []
  },
  "kernelspec": {
   "display_name": "Python 3",
   "language": "python",
   "name": "python3"
  },
  "language_info": {
   "codemirror_mode": {
    "name": "ipython",
    "version": 3
   },
   "file_extension": ".py",
   "mimetype": "text/x-python",
   "name": "python",
   "nbconvert_exporter": "python",
   "pygments_lexer": "ipython3",
   "version": "3.8.8"
  }
 },
 "nbformat": 4,
 "nbformat_minor": 1
}
