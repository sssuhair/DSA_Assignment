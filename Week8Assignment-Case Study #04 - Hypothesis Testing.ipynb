{
  "nbformat": 4,
  "nbformat_minor": 0,
  "metadata": {
    "colab": {
      "name": "Week8Assignment.ipynb",
      "provenance": [],
      "collapsed_sections": [],
      "authorship_tag": "ABX9TyNy23TyC9ivmPP02aQ7vo2e",
      "include_colab_link": true
    },
    "kernelspec": {
      "name": "python3",
      "display_name": "Python 3"
    },
    "language_info": {
      "name": "python"
    }
  },
  "cells": [
    {
      "cell_type": "markdown",
      "metadata": {
        "id": "view-in-github",
        "colab_type": "text"
      },
      "source": [
        "<a href=\"https://colab.research.google.com/github/sssuhair/DSA_Assignment/blob/main/Week8Assignment-Case%20Study%20%2304%20-%20Hypothesis%20Testing.ipynb\" target=\"_parent\"><img src=\"https://colab.research.google.com/assets/colab-badge.svg\" alt=\"Open In Colab\"/></a>"
      ]
    },
    {
      "cell_type": "code",
      "execution_count": 1,
      "metadata": {
        "id": "TccLwVo8FXIc"
      },
      "outputs": [],
      "source": [
        "# Import the requried libraries\n",
        "import numpy as np\n",
        "import pandas as pd\n",
        "import matplotlib.pyplot as plt\n",
        "import seaborn as sns\n",
        "\n",
        "import warnings\n",
        "warnings.filterwarnings(\"ignore\")\n",
        "\n",
        "import scipy.stats as stats"
      ]
    },
    {
      "cell_type": "code",
      "source": [
        "# Loading the csv file into a pandas dataframe\n",
        "df = pd.read_csv('/content/Sales_add.csv')\n",
        "\n",
        "# display the contents in the data set\n",
        "df"
      ],
      "metadata": {
        "colab": {
          "base_uri": "https://localhost:8080/",
          "height": 739
        },
        "id": "kEZhRWlhTxFx",
        "outputId": "32edcff5-8ec7-456e-98c0-396349036185"
      },
      "execution_count": 4,
      "outputs": [
        {
          "output_type": "execute_result",
          "data": {
            "text/html": [
              "<div>\n",
              "<style scoped>\n",
              "    .dataframe tbody tr th:only-of-type {\n",
              "        vertical-align: middle;\n",
              "    }\n",
              "\n",
              "    .dataframe tbody tr th {\n",
              "        vertical-align: top;\n",
              "    }\n",
              "\n",
              "    .dataframe thead th {\n",
              "        text-align: right;\n",
              "    }\n",
              "</style>\n",
              "<table border=\"1\" class=\"dataframe\">\n",
              "  <thead>\n",
              "    <tr style=\"text-align: right;\">\n",
              "      <th></th>\n",
              "      <th>Month</th>\n",
              "      <th>Region</th>\n",
              "      <th>Manager</th>\n",
              "      <th>Sales_before_digital_add(in $)</th>\n",
              "      <th>Sales_After_digital_add(in $)</th>\n",
              "    </tr>\n",
              "  </thead>\n",
              "  <tbody>\n",
              "    <tr>\n",
              "      <th>0</th>\n",
              "      <td>Month-1</td>\n",
              "      <td>Region - A</td>\n",
              "      <td>Manager - A</td>\n",
              "      <td>132921</td>\n",
              "      <td>270390</td>\n",
              "    </tr>\n",
              "    <tr>\n",
              "      <th>1</th>\n",
              "      <td>Month-2</td>\n",
              "      <td>Region - A</td>\n",
              "      <td>Manager - C</td>\n",
              "      <td>149559</td>\n",
              "      <td>223334</td>\n",
              "    </tr>\n",
              "    <tr>\n",
              "      <th>2</th>\n",
              "      <td>Month-3</td>\n",
              "      <td>Region - B</td>\n",
              "      <td>Manager - A</td>\n",
              "      <td>146278</td>\n",
              "      <td>244243</td>\n",
              "    </tr>\n",
              "    <tr>\n",
              "      <th>3</th>\n",
              "      <td>Month-4</td>\n",
              "      <td>Region - B</td>\n",
              "      <td>Manager - B</td>\n",
              "      <td>152167</td>\n",
              "      <td>231808</td>\n",
              "    </tr>\n",
              "    <tr>\n",
              "      <th>4</th>\n",
              "      <td>Month-5</td>\n",
              "      <td>Region - C</td>\n",
              "      <td>Manager - B</td>\n",
              "      <td>159525</td>\n",
              "      <td>258402</td>\n",
              "    </tr>\n",
              "    <tr>\n",
              "      <th>5</th>\n",
              "      <td>Month-6</td>\n",
              "      <td>Region - A</td>\n",
              "      <td>Manager - B</td>\n",
              "      <td>137163</td>\n",
              "      <td>256948</td>\n",
              "    </tr>\n",
              "    <tr>\n",
              "      <th>6</th>\n",
              "      <td>Month-7</td>\n",
              "      <td>Region - C</td>\n",
              "      <td>Manager - C</td>\n",
              "      <td>130625</td>\n",
              "      <td>222106</td>\n",
              "    </tr>\n",
              "    <tr>\n",
              "      <th>7</th>\n",
              "      <td>Month-8</td>\n",
              "      <td>Region - A</td>\n",
              "      <td>Manager - A</td>\n",
              "      <td>131140</td>\n",
              "      <td>230637</td>\n",
              "    </tr>\n",
              "    <tr>\n",
              "      <th>8</th>\n",
              "      <td>Month-9</td>\n",
              "      <td>Region - B</td>\n",
              "      <td>Manager - C</td>\n",
              "      <td>171259</td>\n",
              "      <td>226261</td>\n",
              "    </tr>\n",
              "    <tr>\n",
              "      <th>9</th>\n",
              "      <td>Month-10</td>\n",
              "      <td>Region - C</td>\n",
              "      <td>Manager - B</td>\n",
              "      <td>141956</td>\n",
              "      <td>193735</td>\n",
              "    </tr>\n",
              "    <tr>\n",
              "      <th>10</th>\n",
              "      <td>Month-11</td>\n",
              "      <td>Region - B</td>\n",
              "      <td>Manager - C</td>\n",
              "      <td>159339</td>\n",
              "      <td>203175</td>\n",
              "    </tr>\n",
              "    <tr>\n",
              "      <th>11</th>\n",
              "      <td>Month-12</td>\n",
              "      <td>Region - A</td>\n",
              "      <td>Manager - A</td>\n",
              "      <td>178939</td>\n",
              "      <td>276279</td>\n",
              "    </tr>\n",
              "    <tr>\n",
              "      <th>12</th>\n",
              "      <td>Month-13</td>\n",
              "      <td>Region - B</td>\n",
              "      <td>Manager - A</td>\n",
              "      <td>145062</td>\n",
              "      <td>205180</td>\n",
              "    </tr>\n",
              "    <tr>\n",
              "      <th>13</th>\n",
              "      <td>Month-14</td>\n",
              "      <td>Region - A</td>\n",
              "      <td>Manager - A</td>\n",
              "      <td>151514</td>\n",
              "      <td>253131</td>\n",
              "    </tr>\n",
              "    <tr>\n",
              "      <th>14</th>\n",
              "      <td>Month-15</td>\n",
              "      <td>Region - C</td>\n",
              "      <td>Manager - A</td>\n",
              "      <td>147463</td>\n",
              "      <td>229336</td>\n",
              "    </tr>\n",
              "    <tr>\n",
              "      <th>15</th>\n",
              "      <td>Month-16</td>\n",
              "      <td>Region - A</td>\n",
              "      <td>Manager - B</td>\n",
              "      <td>177195</td>\n",
              "      <td>187305</td>\n",
              "    </tr>\n",
              "    <tr>\n",
              "      <th>16</th>\n",
              "      <td>Month-17</td>\n",
              "      <td>Region - A</td>\n",
              "      <td>Manager - C</td>\n",
              "      <td>140862</td>\n",
              "      <td>234908</td>\n",
              "    </tr>\n",
              "    <tr>\n",
              "      <th>17</th>\n",
              "      <td>Month-18</td>\n",
              "      <td>Region - C</td>\n",
              "      <td>Manager - B</td>\n",
              "      <td>167996</td>\n",
              "      <td>191517</td>\n",
              "    </tr>\n",
              "    <tr>\n",
              "      <th>18</th>\n",
              "      <td>Month-19</td>\n",
              "      <td>Region - B</td>\n",
              "      <td>Manager - A</td>\n",
              "      <td>132135</td>\n",
              "      <td>227040</td>\n",
              "    </tr>\n",
              "    <tr>\n",
              "      <th>19</th>\n",
              "      <td>Month-20</td>\n",
              "      <td>Region - A</td>\n",
              "      <td>Manager - B</td>\n",
              "      <td>152493</td>\n",
              "      <td>212579</td>\n",
              "    </tr>\n",
              "    <tr>\n",
              "      <th>20</th>\n",
              "      <td>Month-21</td>\n",
              "      <td>Region - B</td>\n",
              "      <td>Manager - A</td>\n",
              "      <td>147425</td>\n",
              "      <td>263388</td>\n",
              "    </tr>\n",
              "    <tr>\n",
              "      <th>21</th>\n",
              "      <td>Month-22</td>\n",
              "      <td>Region - A</td>\n",
              "      <td>Manager - C</td>\n",
              "      <td>130263</td>\n",
              "      <td>243020</td>\n",
              "    </tr>\n",
              "  </tbody>\n",
              "</table>\n",
              "</div>"
            ],
            "text/plain": [
              "       Month  ... Sales_After_digital_add(in $)\n",
              "0    Month-1  ...                        270390\n",
              "1    Month-2  ...                        223334\n",
              "2    Month-3  ...                        244243\n",
              "3    Month-4  ...                        231808\n",
              "4    Month-5  ...                        258402\n",
              "5    Month-6  ...                        256948\n",
              "6    Month-7  ...                        222106\n",
              "7    Month-8  ...                        230637\n",
              "8    Month-9  ...                        226261\n",
              "9   Month-10  ...                        193735\n",
              "10  Month-11  ...                        203175\n",
              "11  Month-12  ...                        276279\n",
              "12  Month-13  ...                        205180\n",
              "13  Month-14  ...                        253131\n",
              "14  Month-15  ...                        229336\n",
              "15  Month-16  ...                        187305\n",
              "16  Month-17  ...                        234908\n",
              "17  Month-18  ...                        191517\n",
              "18  Month-19  ...                        227040\n",
              "19  Month-20  ...                        212579\n",
              "20  Month-21  ...                        263388\n",
              "21  Month-22  ...                        243020\n",
              "\n",
              "[22 rows x 5 columns]"
            ]
          },
          "metadata": {},
          "execution_count": 4
        }
      ]
    },
    {
      "cell_type": "code",
      "source": [
        "# summary of the dataset\n",
        "df.info()"
      ],
      "metadata": {
        "colab": {
          "base_uri": "https://localhost:8080/"
        },
        "id": "eMGsyy0EUVN1",
        "outputId": "9cd3205a-5ce6-48ab-8130-e2dae2dfcf81"
      },
      "execution_count": 5,
      "outputs": [
        {
          "output_type": "stream",
          "name": "stdout",
          "text": [
            "<class 'pandas.core.frame.DataFrame'>\n",
            "RangeIndex: 22 entries, 0 to 21\n",
            "Data columns (total 5 columns):\n",
            " #   Column                          Non-Null Count  Dtype \n",
            "---  ------                          --------------  ----- \n",
            " 0   Month                           22 non-null     object\n",
            " 1   Region                          22 non-null     object\n",
            " 2   Manager                         22 non-null     object\n",
            " 3   Sales_before_digital_add(in $)  22 non-null     int64 \n",
            " 4   Sales_After_digital_add(in $)   22 non-null     int64 \n",
            "dtypes: int64(2), object(3)\n",
            "memory usage: 1008.0+ bytes\n"
          ]
        }
      ]
    },
    {
      "cell_type": "code",
      "source": [
        "# null values present in each columns \n",
        "df.isna().sum() "
      ],
      "metadata": {
        "colab": {
          "base_uri": "https://localhost:8080/"
        },
        "id": "X7gLkaVmUbHq",
        "outputId": "be4feaec-f3b3-42bb-a1ab-ad3f4f4add95"
      },
      "execution_count": 6,
      "outputs": [
        {
          "output_type": "execute_result",
          "data": {
            "text/plain": [
              "Month                             0\n",
              "Region                            0\n",
              "Manager                           0\n",
              "Sales_before_digital_add(in $)    0\n",
              "Sales_After_digital_add(in $)     0\n",
              "dtype: int64"
            ]
          },
          "metadata": {},
          "execution_count": 6
        }
      ]
    },
    {
      "cell_type": "code",
      "source": [
        "df.shape"
      ],
      "metadata": {
        "colab": {
          "base_uri": "https://localhost:8080/"
        },
        "id": "42ZcSFVtUmjs",
        "outputId": "fe6b3b60-753f-4b09-92d2-0d156d446242"
      },
      "execution_count": 7,
      "outputs": [
        {
          "output_type": "execute_result",
          "data": {
            "text/plain": [
              "(22, 5)"
            ]
          },
          "metadata": {},
          "execution_count": 7
        }
      ]
    },
    {
      "cell_type": "code",
      "source": [
        "# calculating the region feature with values inside in the dataset\n",
        "df.groupby('Region').count() "
      ],
      "metadata": {
        "colab": {
          "base_uri": "https://localhost:8080/",
          "height": 175
        },
        "id": "HDJ6slzqUwOB",
        "outputId": "4951215d-a0a2-4c67-ffb9-cadf895280f5"
      },
      "execution_count": 8,
      "outputs": [
        {
          "output_type": "execute_result",
          "data": {
            "text/html": [
              "<div>\n",
              "<style scoped>\n",
              "    .dataframe tbody tr th:only-of-type {\n",
              "        vertical-align: middle;\n",
              "    }\n",
              "\n",
              "    .dataframe tbody tr th {\n",
              "        vertical-align: top;\n",
              "    }\n",
              "\n",
              "    .dataframe thead th {\n",
              "        text-align: right;\n",
              "    }\n",
              "</style>\n",
              "<table border=\"1\" class=\"dataframe\">\n",
              "  <thead>\n",
              "    <tr style=\"text-align: right;\">\n",
              "      <th></th>\n",
              "      <th>Month</th>\n",
              "      <th>Manager</th>\n",
              "      <th>Sales_before_digital_add(in $)</th>\n",
              "      <th>Sales_After_digital_add(in $)</th>\n",
              "    </tr>\n",
              "    <tr>\n",
              "      <th>Region</th>\n",
              "      <th></th>\n",
              "      <th></th>\n",
              "      <th></th>\n",
              "      <th></th>\n",
              "    </tr>\n",
              "  </thead>\n",
              "  <tbody>\n",
              "    <tr>\n",
              "      <th>Region - A</th>\n",
              "      <td>10</td>\n",
              "      <td>10</td>\n",
              "      <td>10</td>\n",
              "      <td>10</td>\n",
              "    </tr>\n",
              "    <tr>\n",
              "      <th>Region - B</th>\n",
              "      <td>7</td>\n",
              "      <td>7</td>\n",
              "      <td>7</td>\n",
              "      <td>7</td>\n",
              "    </tr>\n",
              "    <tr>\n",
              "      <th>Region - C</th>\n",
              "      <td>5</td>\n",
              "      <td>5</td>\n",
              "      <td>5</td>\n",
              "      <td>5</td>\n",
              "    </tr>\n",
              "  </tbody>\n",
              "</table>\n",
              "</div>"
            ],
            "text/plain": [
              "            Month  ...  Sales_After_digital_add(in $)\n",
              "Region             ...                               \n",
              "Region - A     10  ...                             10\n",
              "Region - B      7  ...                              7\n",
              "Region - C      5  ...                              5\n",
              "\n",
              "[3 rows x 4 columns]"
            ]
          },
          "metadata": {},
          "execution_count": 8
        }
      ]
    },
    {
      "cell_type": "code",
      "source": [
        "df.groupby(['Region'])['Sales_before_digital_add(in $)','Sales_After_digital_add(in $)'].mean().round(2)"
      ],
      "metadata": {
        "colab": {
          "base_uri": "https://localhost:8080/",
          "height": 175
        },
        "id": "pWYp-ZOuU4AV",
        "outputId": "1800030f-92e2-4e5a-b145-20dcfa39e1d7"
      },
      "execution_count": 9,
      "outputs": [
        {
          "output_type": "execute_result",
          "data": {
            "text/html": [
              "<div>\n",
              "<style scoped>\n",
              "    .dataframe tbody tr th:only-of-type {\n",
              "        vertical-align: middle;\n",
              "    }\n",
              "\n",
              "    .dataframe tbody tr th {\n",
              "        vertical-align: top;\n",
              "    }\n",
              "\n",
              "    .dataframe thead th {\n",
              "        text-align: right;\n",
              "    }\n",
              "</style>\n",
              "<table border=\"1\" class=\"dataframe\">\n",
              "  <thead>\n",
              "    <tr style=\"text-align: right;\">\n",
              "      <th></th>\n",
              "      <th>Sales_before_digital_add(in $)</th>\n",
              "      <th>Sales_After_digital_add(in $)</th>\n",
              "    </tr>\n",
              "    <tr>\n",
              "      <th>Region</th>\n",
              "      <th></th>\n",
              "      <th></th>\n",
              "    </tr>\n",
              "  </thead>\n",
              "  <tbody>\n",
              "    <tr>\n",
              "      <th>Region - A</th>\n",
              "      <td>148204.90</td>\n",
              "      <td>238853.10</td>\n",
              "    </tr>\n",
              "    <tr>\n",
              "      <th>Region - B</th>\n",
              "      <td>150523.57</td>\n",
              "      <td>228727.86</td>\n",
              "    </tr>\n",
              "    <tr>\n",
              "      <th>Region - C</th>\n",
              "      <td>149513.00</td>\n",
              "      <td>219019.20</td>\n",
              "    </tr>\n",
              "  </tbody>\n",
              "</table>\n",
              "</div>"
            ],
            "text/plain": [
              "            Sales_before_digital_add(in $)  Sales_After_digital_add(in $)\n",
              "Region                                                                   \n",
              "Region - A                       148204.90                      238853.10\n",
              "Region - B                       150523.57                      228727.86\n",
              "Region - C                       149513.00                      219019.20"
            ]
          },
          "metadata": {},
          "execution_count": 9
        }
      ]
    },
    {
      "cell_type": "code",
      "source": [
        "# calculating the manager feature with values inside in dataset\n",
        "df.groupby('Manager').count() "
      ],
      "metadata": {
        "colab": {
          "base_uri": "https://localhost:8080/",
          "height": 175
        },
        "id": "h0LlUzEYU8b_",
        "outputId": "74c301a5-77a7-4c2c-8ffb-0edbf88d57f4"
      },
      "execution_count": 10,
      "outputs": [
        {
          "output_type": "execute_result",
          "data": {
            "text/html": [
              "<div>\n",
              "<style scoped>\n",
              "    .dataframe tbody tr th:only-of-type {\n",
              "        vertical-align: middle;\n",
              "    }\n",
              "\n",
              "    .dataframe tbody tr th {\n",
              "        vertical-align: top;\n",
              "    }\n",
              "\n",
              "    .dataframe thead th {\n",
              "        text-align: right;\n",
              "    }\n",
              "</style>\n",
              "<table border=\"1\" class=\"dataframe\">\n",
              "  <thead>\n",
              "    <tr style=\"text-align: right;\">\n",
              "      <th></th>\n",
              "      <th>Month</th>\n",
              "      <th>Region</th>\n",
              "      <th>Sales_before_digital_add(in $)</th>\n",
              "      <th>Sales_After_digital_add(in $)</th>\n",
              "    </tr>\n",
              "    <tr>\n",
              "      <th>Manager</th>\n",
              "      <th></th>\n",
              "      <th></th>\n",
              "      <th></th>\n",
              "      <th></th>\n",
              "    </tr>\n",
              "  </thead>\n",
              "  <tbody>\n",
              "    <tr>\n",
              "      <th>Manager - A</th>\n",
              "      <td>9</td>\n",
              "      <td>9</td>\n",
              "      <td>9</td>\n",
              "      <td>9</td>\n",
              "    </tr>\n",
              "    <tr>\n",
              "      <th>Manager - B</th>\n",
              "      <td>7</td>\n",
              "      <td>7</td>\n",
              "      <td>7</td>\n",
              "      <td>7</td>\n",
              "    </tr>\n",
              "    <tr>\n",
              "      <th>Manager - C</th>\n",
              "      <td>6</td>\n",
              "      <td>6</td>\n",
              "      <td>6</td>\n",
              "      <td>6</td>\n",
              "    </tr>\n",
              "  </tbody>\n",
              "</table>\n",
              "</div>"
            ],
            "text/plain": [
              "             Month  ...  Sales_After_digital_add(in $)\n",
              "Manager             ...                               \n",
              "Manager - A      9  ...                              9\n",
              "Manager - B      7  ...                              7\n",
              "Manager - C      6  ...                              6\n",
              "\n",
              "[3 rows x 4 columns]"
            ]
          },
          "metadata": {},
          "execution_count": 10
        }
      ]
    },
    {
      "cell_type": "code",
      "source": [
        "# calculating the average sales before and after on manager wise\n",
        "df.groupby(['Manager'])['Sales_before_digital_add(in $)','Sales_After_digital_add(in $)'].mean().round(2)"
      ],
      "metadata": {
        "colab": {
          "base_uri": "https://localhost:8080/",
          "height": 175
        },
        "id": "_0n7wCIyVCCR",
        "outputId": "57ab34fd-a38b-4389-fda0-adf71cfaf40c"
      },
      "execution_count": 11,
      "outputs": [
        {
          "output_type": "execute_result",
          "data": {
            "text/html": [
              "<div>\n",
              "<style scoped>\n",
              "    .dataframe tbody tr th:only-of-type {\n",
              "        vertical-align: middle;\n",
              "    }\n",
              "\n",
              "    .dataframe tbody tr th {\n",
              "        vertical-align: top;\n",
              "    }\n",
              "\n",
              "    .dataframe thead th {\n",
              "        text-align: right;\n",
              "    }\n",
              "</style>\n",
              "<table border=\"1\" class=\"dataframe\">\n",
              "  <thead>\n",
              "    <tr style=\"text-align: right;\">\n",
              "      <th></th>\n",
              "      <th>Sales_before_digital_add(in $)</th>\n",
              "      <th>Sales_After_digital_add(in $)</th>\n",
              "    </tr>\n",
              "    <tr>\n",
              "      <th>Manager</th>\n",
              "      <th></th>\n",
              "      <th></th>\n",
              "    </tr>\n",
              "  </thead>\n",
              "  <tbody>\n",
              "    <tr>\n",
              "      <th>Manager - A</th>\n",
              "      <td>145875.22</td>\n",
              "      <td>244402.67</td>\n",
              "    </tr>\n",
              "    <tr>\n",
              "      <th>Manager - B</th>\n",
              "      <td>155499.29</td>\n",
              "      <td>218899.14</td>\n",
              "    </tr>\n",
              "    <tr>\n",
              "      <th>Manager - C</th>\n",
              "      <td>146984.50</td>\n",
              "      <td>225467.33</td>\n",
              "    </tr>\n",
              "  </tbody>\n",
              "</table>\n",
              "</div>"
            ],
            "text/plain": [
              "             Sales_before_digital_add(in $)  Sales_After_digital_add(in $)\n",
              "Manager                                                                   \n",
              "Manager - A                       145875.22                      244402.67\n",
              "Manager - B                       155499.29                      218899.14\n",
              "Manager - C                       146984.50                      225467.33"
            ]
          },
          "metadata": {},
          "execution_count": 11
        }
      ]
    },
    {
      "cell_type": "code",
      "source": [
        "df.groupby(['Region','Manager']).count() "
      ],
      "metadata": {
        "colab": {
          "base_uri": "https://localhost:8080/",
          "height": 363
        },
        "id": "6QSvriW5VI9T",
        "outputId": "3080a135-9cce-4332-c43a-28a67c35e109"
      },
      "execution_count": 12,
      "outputs": [
        {
          "output_type": "execute_result",
          "data": {
            "text/html": [
              "<div>\n",
              "<style scoped>\n",
              "    .dataframe tbody tr th:only-of-type {\n",
              "        vertical-align: middle;\n",
              "    }\n",
              "\n",
              "    .dataframe tbody tr th {\n",
              "        vertical-align: top;\n",
              "    }\n",
              "\n",
              "    .dataframe thead th {\n",
              "        text-align: right;\n",
              "    }\n",
              "</style>\n",
              "<table border=\"1\" class=\"dataframe\">\n",
              "  <thead>\n",
              "    <tr style=\"text-align: right;\">\n",
              "      <th></th>\n",
              "      <th></th>\n",
              "      <th>Month</th>\n",
              "      <th>Sales_before_digital_add(in $)</th>\n",
              "      <th>Sales_After_digital_add(in $)</th>\n",
              "    </tr>\n",
              "    <tr>\n",
              "      <th>Region</th>\n",
              "      <th>Manager</th>\n",
              "      <th></th>\n",
              "      <th></th>\n",
              "      <th></th>\n",
              "    </tr>\n",
              "  </thead>\n",
              "  <tbody>\n",
              "    <tr>\n",
              "      <th rowspan=\"3\" valign=\"top\">Region - A</th>\n",
              "      <th>Manager - A</th>\n",
              "      <td>4</td>\n",
              "      <td>4</td>\n",
              "      <td>4</td>\n",
              "    </tr>\n",
              "    <tr>\n",
              "      <th>Manager - B</th>\n",
              "      <td>3</td>\n",
              "      <td>3</td>\n",
              "      <td>3</td>\n",
              "    </tr>\n",
              "    <tr>\n",
              "      <th>Manager - C</th>\n",
              "      <td>3</td>\n",
              "      <td>3</td>\n",
              "      <td>3</td>\n",
              "    </tr>\n",
              "    <tr>\n",
              "      <th rowspan=\"3\" valign=\"top\">Region - B</th>\n",
              "      <th>Manager - A</th>\n",
              "      <td>4</td>\n",
              "      <td>4</td>\n",
              "      <td>4</td>\n",
              "    </tr>\n",
              "    <tr>\n",
              "      <th>Manager - B</th>\n",
              "      <td>1</td>\n",
              "      <td>1</td>\n",
              "      <td>1</td>\n",
              "    </tr>\n",
              "    <tr>\n",
              "      <th>Manager - C</th>\n",
              "      <td>2</td>\n",
              "      <td>2</td>\n",
              "      <td>2</td>\n",
              "    </tr>\n",
              "    <tr>\n",
              "      <th rowspan=\"3\" valign=\"top\">Region - C</th>\n",
              "      <th>Manager - A</th>\n",
              "      <td>1</td>\n",
              "      <td>1</td>\n",
              "      <td>1</td>\n",
              "    </tr>\n",
              "    <tr>\n",
              "      <th>Manager - B</th>\n",
              "      <td>3</td>\n",
              "      <td>3</td>\n",
              "      <td>3</td>\n",
              "    </tr>\n",
              "    <tr>\n",
              "      <th>Manager - C</th>\n",
              "      <td>1</td>\n",
              "      <td>1</td>\n",
              "      <td>1</td>\n",
              "    </tr>\n",
              "  </tbody>\n",
              "</table>\n",
              "</div>"
            ],
            "text/plain": [
              "                        Month  ...  Sales_After_digital_add(in $)\n",
              "Region     Manager             ...                               \n",
              "Region - A Manager - A      4  ...                              4\n",
              "           Manager - B      3  ...                              3\n",
              "           Manager - C      3  ...                              3\n",
              "Region - B Manager - A      4  ...                              4\n",
              "           Manager - B      1  ...                              1\n",
              "           Manager - C      2  ...                              2\n",
              "Region - C Manager - A      1  ...                              1\n",
              "           Manager - B      3  ...                              3\n",
              "           Manager - C      1  ...                              1\n",
              "\n",
              "[9 rows x 3 columns]"
            ]
          },
          "metadata": {},
          "execution_count": 12
        }
      ]
    },
    {
      "cell_type": "code",
      "source": [
        "# calculating the average sales before and after on both region and manager \n",
        "df.groupby(['Region','Manager'])['Sales_before_digital_add(in $)','Sales_After_digital_add(in $)'].mean().round(2)"
      ],
      "metadata": {
        "colab": {
          "base_uri": "https://localhost:8080/",
          "height": 363
        },
        "id": "L5Vkq2hxVNRJ",
        "outputId": "830007b5-d53e-4eab-b1b1-cfc8d53a45c5"
      },
      "execution_count": 13,
      "outputs": [
        {
          "output_type": "execute_result",
          "data": {
            "text/html": [
              "<div>\n",
              "<style scoped>\n",
              "    .dataframe tbody tr th:only-of-type {\n",
              "        vertical-align: middle;\n",
              "    }\n",
              "\n",
              "    .dataframe tbody tr th {\n",
              "        vertical-align: top;\n",
              "    }\n",
              "\n",
              "    .dataframe thead th {\n",
              "        text-align: right;\n",
              "    }\n",
              "</style>\n",
              "<table border=\"1\" class=\"dataframe\">\n",
              "  <thead>\n",
              "    <tr style=\"text-align: right;\">\n",
              "      <th></th>\n",
              "      <th></th>\n",
              "      <th>Sales_before_digital_add(in $)</th>\n",
              "      <th>Sales_After_digital_add(in $)</th>\n",
              "    </tr>\n",
              "    <tr>\n",
              "      <th>Region</th>\n",
              "      <th>Manager</th>\n",
              "      <th></th>\n",
              "      <th></th>\n",
              "    </tr>\n",
              "  </thead>\n",
              "  <tbody>\n",
              "    <tr>\n",
              "      <th rowspan=\"3\" valign=\"top\">Region - A</th>\n",
              "      <th>Manager - A</th>\n",
              "      <td>148628.50</td>\n",
              "      <td>257609.25</td>\n",
              "    </tr>\n",
              "    <tr>\n",
              "      <th>Manager - B</th>\n",
              "      <td>155617.00</td>\n",
              "      <td>218944.00</td>\n",
              "    </tr>\n",
              "    <tr>\n",
              "      <th>Manager - C</th>\n",
              "      <td>140228.00</td>\n",
              "      <td>233754.00</td>\n",
              "    </tr>\n",
              "    <tr>\n",
              "      <th rowspan=\"3\" valign=\"top\">Region - B</th>\n",
              "      <th>Manager - A</th>\n",
              "      <td>142725.00</td>\n",
              "      <td>234962.75</td>\n",
              "    </tr>\n",
              "    <tr>\n",
              "      <th>Manager - B</th>\n",
              "      <td>152167.00</td>\n",
              "      <td>231808.00</td>\n",
              "    </tr>\n",
              "    <tr>\n",
              "      <th>Manager - C</th>\n",
              "      <td>165299.00</td>\n",
              "      <td>214718.00</td>\n",
              "    </tr>\n",
              "    <tr>\n",
              "      <th rowspan=\"3\" valign=\"top\">Region - C</th>\n",
              "      <th>Manager - A</th>\n",
              "      <td>147463.00</td>\n",
              "      <td>229336.00</td>\n",
              "    </tr>\n",
              "    <tr>\n",
              "      <th>Manager - B</th>\n",
              "      <td>156492.33</td>\n",
              "      <td>214551.33</td>\n",
              "    </tr>\n",
              "    <tr>\n",
              "      <th>Manager - C</th>\n",
              "      <td>130625.00</td>\n",
              "      <td>222106.00</td>\n",
              "    </tr>\n",
              "  </tbody>\n",
              "</table>\n",
              "</div>"
            ],
            "text/plain": [
              "                        Sales_before_digital_add(in $)  Sales_After_digital_add(in $)\n",
              "Region     Manager                                                                   \n",
              "Region - A Manager - A                       148628.50                      257609.25\n",
              "           Manager - B                       155617.00                      218944.00\n",
              "           Manager - C                       140228.00                      233754.00\n",
              "Region - B Manager - A                       142725.00                      234962.75\n",
              "           Manager - B                       152167.00                      231808.00\n",
              "           Manager - C                       165299.00                      214718.00\n",
              "Region - C Manager - A                       147463.00                      229336.00\n",
              "           Manager - B                       156492.33                      214551.33\n",
              "           Manager - C                       130625.00                      222106.00"
            ]
          },
          "metadata": {},
          "execution_count": 13
        }
      ]
    },
    {
      "cell_type": "code",
      "source": [
        "# statistical summary of the data\n",
        "df[['Sales_before_digital_add(in $)','Sales_After_digital_add(in $)']].describe().T  "
      ],
      "metadata": {
        "colab": {
          "base_uri": "https://localhost:8080/",
          "height": 112
        },
        "id": "AZfNCalJVSRj",
        "outputId": "f69786cf-ff57-437c-f7bf-76e8cb177724"
      },
      "execution_count": 14,
      "outputs": [
        {
          "output_type": "execute_result",
          "data": {
            "text/html": [
              "<div>\n",
              "<style scoped>\n",
              "    .dataframe tbody tr th:only-of-type {\n",
              "        vertical-align: middle;\n",
              "    }\n",
              "\n",
              "    .dataframe tbody tr th {\n",
              "        vertical-align: top;\n",
              "    }\n",
              "\n",
              "    .dataframe thead th {\n",
              "        text-align: right;\n",
              "    }\n",
              "</style>\n",
              "<table border=\"1\" class=\"dataframe\">\n",
              "  <thead>\n",
              "    <tr style=\"text-align: right;\">\n",
              "      <th></th>\n",
              "      <th>count</th>\n",
              "      <th>mean</th>\n",
              "      <th>std</th>\n",
              "      <th>min</th>\n",
              "      <th>25%</th>\n",
              "      <th>50%</th>\n",
              "      <th>75%</th>\n",
              "      <th>max</th>\n",
              "    </tr>\n",
              "  </thead>\n",
              "  <tbody>\n",
              "    <tr>\n",
              "      <th>Sales_before_digital_add(in $)</th>\n",
              "      <td>22.0</td>\n",
              "      <td>149239.954545</td>\n",
              "      <td>14844.042921</td>\n",
              "      <td>130263.0</td>\n",
              "      <td>138087.75</td>\n",
              "      <td>147444.0</td>\n",
              "      <td>157627.5</td>\n",
              "      <td>178939.0</td>\n",
              "    </tr>\n",
              "    <tr>\n",
              "      <th>Sales_After_digital_add(in $)</th>\n",
              "      <td>22.0</td>\n",
              "      <td>231123.727273</td>\n",
              "      <td>25556.777061</td>\n",
              "      <td>187305.0</td>\n",
              "      <td>214960.75</td>\n",
              "      <td>229986.5</td>\n",
              "      <td>250909.0</td>\n",
              "      <td>276279.0</td>\n",
              "    </tr>\n",
              "  </tbody>\n",
              "</table>\n",
              "</div>"
            ],
            "text/plain": [
              "                                count           mean  ...       75%       max\n",
              "Sales_before_digital_add(in $)   22.0  149239.954545  ...  157627.5  178939.0\n",
              "Sales_After_digital_add(in $)    22.0  231123.727273  ...  250909.0  276279.0\n",
              "\n",
              "[2 rows x 8 columns]"
            ]
          },
          "metadata": {},
          "execution_count": 14
        }
      ]
    },
    {
      "cell_type": "code",
      "source": [
        "# assign sales before and after values to the variables\n",
        "sales_before_add = df['Sales_before_digital_add(in $)']\n",
        "sales_after_add = df['Sales_After_digital_add(in $)']"
      ],
      "metadata": {
        "id": "nSsnN1LiVbIC"
      },
      "execution_count": 15,
      "outputs": []
    },
    {
      "cell_type": "code",
      "source": [
        "# ttest independence values of tvalue and pvalue\n",
        "tvalue, pvalue = stats.ttest_ind(sales_before_add,sales_after_add)\n",
        "stats.ttest_ind(sales_before_add,sales_after_add)"
      ],
      "metadata": {
        "colab": {
          "base_uri": "https://localhost:8080/"
        },
        "id": "r8LTssDzVmMS",
        "outputId": "40ae200b-b0f6-416b-997d-55a5929460c7"
      },
      "execution_count": 16,
      "outputs": [
        {
          "output_type": "execute_result",
          "data": {
            "text/plain": [
              "Ttest_indResult(statistic=-12.995084451110877, pvalue=2.614368006904645e-16)"
            ]
          },
          "metadata": {},
          "execution_count": 16
        }
      ]
    },
    {
      "cell_type": "code",
      "source": [
        "# 2 tail t test since sales can increase or decrease\n",
        "tcriteria=stats.t.ppf(1-0.05,40)\n",
        "# Percent Point Function\n",
        "stats.t.ppf(1-0.05,40)"
      ],
      "metadata": {
        "colab": {
          "base_uri": "https://localhost:8080/"
        },
        "id": "OJ-CbjKpVpKX",
        "outputId": "3aea52a0-1675-4299-809a-808b765a207f"
      },
      "execution_count": 17,
      "outputs": [
        {
          "output_type": "execute_result",
          "data": {
            "text/plain": [
              "1.68385101138658"
            ]
          },
          "metadata": {},
          "execution_count": 17
        }
      ]
    },
    {
      "cell_type": "code",
      "source": [
        "# checking Hypothesis condition\n",
        "if (tvalue>tcriteria and pvalue <0.05):\n",
        "    print('(Null Hypothesis) Reject H0: there is increase in sales after stepping into digital marketing')\n",
        "else:\n",
        "    print('(Alternate Hypothesis) Reject H1: there is no increase in sales after stepping into digital marketing')"
      ],
      "metadata": {
        "colab": {
          "base_uri": "https://localhost:8080/"
        },
        "id": "ubUOAourVtK7",
        "outputId": "12ef3166-8caa-4bae-f3c8-6f70bb32e8ef"
      },
      "execution_count": 18,
      "outputs": [
        {
          "output_type": "stream",
          "name": "stdout",
          "text": [
            "(Alternate Hypothesis) Reject H1: there is no increase in sales after stepping into digital marketing\n"
          ]
        }
      ]
    },
    {
      "cell_type": "code",
      "source": [
        "# calculating the manager feature with values inside in the dataset\n",
        "df.groupby(['Region','Manager']).count() "
      ],
      "metadata": {
        "colab": {
          "base_uri": "https://localhost:8080/",
          "height": 363
        },
        "id": "h9T_aXDgVxZy",
        "outputId": "23dbe5c1-b507-4b13-8853-a10f2f0e0b62"
      },
      "execution_count": 19,
      "outputs": [
        {
          "output_type": "execute_result",
          "data": {
            "text/html": [
              "<div>\n",
              "<style scoped>\n",
              "    .dataframe tbody tr th:only-of-type {\n",
              "        vertical-align: middle;\n",
              "    }\n",
              "\n",
              "    .dataframe tbody tr th {\n",
              "        vertical-align: top;\n",
              "    }\n",
              "\n",
              "    .dataframe thead th {\n",
              "        text-align: right;\n",
              "    }\n",
              "</style>\n",
              "<table border=\"1\" class=\"dataframe\">\n",
              "  <thead>\n",
              "    <tr style=\"text-align: right;\">\n",
              "      <th></th>\n",
              "      <th></th>\n",
              "      <th>Month</th>\n",
              "      <th>Sales_before_digital_add(in $)</th>\n",
              "      <th>Sales_After_digital_add(in $)</th>\n",
              "    </tr>\n",
              "    <tr>\n",
              "      <th>Region</th>\n",
              "      <th>Manager</th>\n",
              "      <th></th>\n",
              "      <th></th>\n",
              "      <th></th>\n",
              "    </tr>\n",
              "  </thead>\n",
              "  <tbody>\n",
              "    <tr>\n",
              "      <th rowspan=\"3\" valign=\"top\">Region - A</th>\n",
              "      <th>Manager - A</th>\n",
              "      <td>4</td>\n",
              "      <td>4</td>\n",
              "      <td>4</td>\n",
              "    </tr>\n",
              "    <tr>\n",
              "      <th>Manager - B</th>\n",
              "      <td>3</td>\n",
              "      <td>3</td>\n",
              "      <td>3</td>\n",
              "    </tr>\n",
              "    <tr>\n",
              "      <th>Manager - C</th>\n",
              "      <td>3</td>\n",
              "      <td>3</td>\n",
              "      <td>3</td>\n",
              "    </tr>\n",
              "    <tr>\n",
              "      <th rowspan=\"3\" valign=\"top\">Region - B</th>\n",
              "      <th>Manager - A</th>\n",
              "      <td>4</td>\n",
              "      <td>4</td>\n",
              "      <td>4</td>\n",
              "    </tr>\n",
              "    <tr>\n",
              "      <th>Manager - B</th>\n",
              "      <td>1</td>\n",
              "      <td>1</td>\n",
              "      <td>1</td>\n",
              "    </tr>\n",
              "    <tr>\n",
              "      <th>Manager - C</th>\n",
              "      <td>2</td>\n",
              "      <td>2</td>\n",
              "      <td>2</td>\n",
              "    </tr>\n",
              "    <tr>\n",
              "      <th rowspan=\"3\" valign=\"top\">Region - C</th>\n",
              "      <th>Manager - A</th>\n",
              "      <td>1</td>\n",
              "      <td>1</td>\n",
              "      <td>1</td>\n",
              "    </tr>\n",
              "    <tr>\n",
              "      <th>Manager - B</th>\n",
              "      <td>3</td>\n",
              "      <td>3</td>\n",
              "      <td>3</td>\n",
              "    </tr>\n",
              "    <tr>\n",
              "      <th>Manager - C</th>\n",
              "      <td>1</td>\n",
              "      <td>1</td>\n",
              "      <td>1</td>\n",
              "    </tr>\n",
              "  </tbody>\n",
              "</table>\n",
              "</div>"
            ],
            "text/plain": [
              "                        Month  ...  Sales_After_digital_add(in $)\n",
              "Region     Manager             ...                               \n",
              "Region - A Manager - A      4  ...                              4\n",
              "           Manager - B      3  ...                              3\n",
              "           Manager - C      3  ...                              3\n",
              "Region - B Manager - A      4  ...                              4\n",
              "           Manager - B      1  ...                              1\n",
              "           Manager - C      2  ...                              2\n",
              "Region - C Manager - A      1  ...                              1\n",
              "           Manager - B      3  ...                              3\n",
              "           Manager - C      1  ...                              1\n",
              "\n",
              "[9 rows x 3 columns]"
            ]
          },
          "metadata": {},
          "execution_count": 19
        }
      ]
    },
    {
      "cell_type": "code",
      "source": [
        "# calculating the average sales before and after on both region and manager \n",
        "df.groupby(['Region','Manager'])['Sales_before_digital_add(in $)','Sales_After_digital_add(in $)'].mean().round(2)"
      ],
      "metadata": {
        "colab": {
          "base_uri": "https://localhost:8080/",
          "height": 363
        },
        "id": "ybz7jLmNV2Mj",
        "outputId": "d26fcc16-ea60-4f8a-8850-89a62b345128"
      },
      "execution_count": 20,
      "outputs": [
        {
          "output_type": "execute_result",
          "data": {
            "text/html": [
              "<div>\n",
              "<style scoped>\n",
              "    .dataframe tbody tr th:only-of-type {\n",
              "        vertical-align: middle;\n",
              "    }\n",
              "\n",
              "    .dataframe tbody tr th {\n",
              "        vertical-align: top;\n",
              "    }\n",
              "\n",
              "    .dataframe thead th {\n",
              "        text-align: right;\n",
              "    }\n",
              "</style>\n",
              "<table border=\"1\" class=\"dataframe\">\n",
              "  <thead>\n",
              "    <tr style=\"text-align: right;\">\n",
              "      <th></th>\n",
              "      <th></th>\n",
              "      <th>Sales_before_digital_add(in $)</th>\n",
              "      <th>Sales_After_digital_add(in $)</th>\n",
              "    </tr>\n",
              "    <tr>\n",
              "      <th>Region</th>\n",
              "      <th>Manager</th>\n",
              "      <th></th>\n",
              "      <th></th>\n",
              "    </tr>\n",
              "  </thead>\n",
              "  <tbody>\n",
              "    <tr>\n",
              "      <th rowspan=\"3\" valign=\"top\">Region - A</th>\n",
              "      <th>Manager - A</th>\n",
              "      <td>148628.50</td>\n",
              "      <td>257609.25</td>\n",
              "    </tr>\n",
              "    <tr>\n",
              "      <th>Manager - B</th>\n",
              "      <td>155617.00</td>\n",
              "      <td>218944.00</td>\n",
              "    </tr>\n",
              "    <tr>\n",
              "      <th>Manager - C</th>\n",
              "      <td>140228.00</td>\n",
              "      <td>233754.00</td>\n",
              "    </tr>\n",
              "    <tr>\n",
              "      <th rowspan=\"3\" valign=\"top\">Region - B</th>\n",
              "      <th>Manager - A</th>\n",
              "      <td>142725.00</td>\n",
              "      <td>234962.75</td>\n",
              "    </tr>\n",
              "    <tr>\n",
              "      <th>Manager - B</th>\n",
              "      <td>152167.00</td>\n",
              "      <td>231808.00</td>\n",
              "    </tr>\n",
              "    <tr>\n",
              "      <th>Manager - C</th>\n",
              "      <td>165299.00</td>\n",
              "      <td>214718.00</td>\n",
              "    </tr>\n",
              "    <tr>\n",
              "      <th rowspan=\"3\" valign=\"top\">Region - C</th>\n",
              "      <th>Manager - A</th>\n",
              "      <td>147463.00</td>\n",
              "      <td>229336.00</td>\n",
              "    </tr>\n",
              "    <tr>\n",
              "      <th>Manager - B</th>\n",
              "      <td>156492.33</td>\n",
              "      <td>214551.33</td>\n",
              "    </tr>\n",
              "    <tr>\n",
              "      <th>Manager - C</th>\n",
              "      <td>130625.00</td>\n",
              "      <td>222106.00</td>\n",
              "    </tr>\n",
              "  </tbody>\n",
              "</table>\n",
              "</div>"
            ],
            "text/plain": [
              "                        Sales_before_digital_add(in $)  Sales_After_digital_add(in $)\n",
              "Region     Manager                                                                   \n",
              "Region - A Manager - A                       148628.50                      257609.25\n",
              "           Manager - B                       155617.00                      218944.00\n",
              "           Manager - C                       140228.00                      233754.00\n",
              "Region - B Manager - A                       142725.00                      234962.75\n",
              "           Manager - B                       152167.00                      231808.00\n",
              "           Manager - C                       165299.00                      214718.00\n",
              "Region - C Manager - A                       147463.00                      229336.00\n",
              "           Manager - B                       156492.33                      214551.33\n",
              "           Manager - C                       130625.00                      222106.00"
            ]
          },
          "metadata": {},
          "execution_count": 20
        }
      ]
    },
    {
      "cell_type": "code",
      "source": [
        "# unstack - Returns a DataFrame having a new level of column labels whose inner-most level consists of the pivoted index labels\n",
        "df1=df.groupby('Region')['Manager'].value_counts().unstack()\n",
        "df1"
      ],
      "metadata": {
        "colab": {
          "base_uri": "https://localhost:8080/",
          "height": 175
        },
        "id": "D0sk_Y7-V6g4",
        "outputId": "94330b05-9424-42c1-b3dd-d790f4fc357d"
      },
      "execution_count": 21,
      "outputs": [
        {
          "output_type": "execute_result",
          "data": {
            "text/html": [
              "<div>\n",
              "<style scoped>\n",
              "    .dataframe tbody tr th:only-of-type {\n",
              "        vertical-align: middle;\n",
              "    }\n",
              "\n",
              "    .dataframe tbody tr th {\n",
              "        vertical-align: top;\n",
              "    }\n",
              "\n",
              "    .dataframe thead th {\n",
              "        text-align: right;\n",
              "    }\n",
              "</style>\n",
              "<table border=\"1\" class=\"dataframe\">\n",
              "  <thead>\n",
              "    <tr style=\"text-align: right;\">\n",
              "      <th>Manager</th>\n",
              "      <th>Manager - A</th>\n",
              "      <th>Manager - B</th>\n",
              "      <th>Manager - C</th>\n",
              "    </tr>\n",
              "    <tr>\n",
              "      <th>Region</th>\n",
              "      <th></th>\n",
              "      <th></th>\n",
              "      <th></th>\n",
              "    </tr>\n",
              "  </thead>\n",
              "  <tbody>\n",
              "    <tr>\n",
              "      <th>Region - A</th>\n",
              "      <td>4</td>\n",
              "      <td>3</td>\n",
              "      <td>3</td>\n",
              "    </tr>\n",
              "    <tr>\n",
              "      <th>Region - B</th>\n",
              "      <td>4</td>\n",
              "      <td>1</td>\n",
              "      <td>2</td>\n",
              "    </tr>\n",
              "    <tr>\n",
              "      <th>Region - C</th>\n",
              "      <td>1</td>\n",
              "      <td>3</td>\n",
              "      <td>1</td>\n",
              "    </tr>\n",
              "  </tbody>\n",
              "</table>\n",
              "</div>"
            ],
            "text/plain": [
              "Manager     Manager - A  Manager - B  Manager - C\n",
              "Region                                           \n",
              "Region - A            4            3            3\n",
              "Region - B            4            1            2\n",
              "Region - C            1            3            1"
            ]
          },
          "metadata": {},
          "execution_count": 21
        }
      ]
    },
    {
      "cell_type": "code",
      "source": [
        "# perform the Chi-Square Test of Independence\n",
        "chivalue, pvalue, dof, expvalues = stats.chi2_contingency(df1)"
      ],
      "metadata": {
        "id": "KJFSUbe1V-JV"
      },
      "execution_count": 23,
      "outputs": []
    },
    {
      "cell_type": "code",
      "source": [
        "# Diplay the Chi-Square Test of Independence values\n",
        "print('Chi sqaure Test Statistic:',chivalue)\n",
        "print('Pvalue of test data;',pvalue)\n",
        "print('Degrees of Freedom:',dof)\n",
        "print('Expected observations of data:',expvalues)"
      ],
      "metadata": {
        "colab": {
          "base_uri": "https://localhost:8080/"
        },
        "id": "Rc0TvowSWDJC",
        "outputId": "6c31b9e5-db0c-4ac7-80da-2bc230bb56e1"
      },
      "execution_count": 24,
      "outputs": [
        {
          "output_type": "stream",
          "name": "stdout",
          "text": [
            "Chi sqaure Test Statistic: 3.050566893424036\n",
            "Pvalue of test data; 0.5493991051158094\n",
            "Degrees of Freedom: 4\n",
            "Expected observations of data: [[4.09090909 3.18181818 2.72727273]\n",
            " [2.86363636 2.22727273 1.90909091]\n",
            " [2.04545455 1.59090909 1.36363636]]\n"
          ]
        }
      ]
    },
    {
      "cell_type": "code",
      "source": [
        "# chi square criteria value for significance of 0.05 and degrees of freedom (3-1)*(3-1) =4 \n",
        "chicriteria=stats.chi2.ppf(1-0.05,4)\n",
        "stats.chi2.ppf(1-0.05,df=4)"
      ],
      "metadata": {
        "colab": {
          "base_uri": "https://localhost:8080/"
        },
        "id": "NSCdk8UxWMzh",
        "outputId": "49febca9-c0ca-4d95-b248-f75429bd44e9"
      },
      "execution_count": 25,
      "outputs": [
        {
          "output_type": "execute_result",
          "data": {
            "text/plain": [
              "9.487729036781154"
            ]
          },
          "metadata": {},
          "execution_count": 25
        }
      ]
    },
    {
      "cell_type": "code",
      "source": [
        "# checking Hypothesis condition\n",
        "\n",
        "if(chivalue>chicriteria and pvalue<0.05):\n",
        "    print('(Null Hypothesis) Reject H0: Region and Manager features are independent')\n",
        "else:\n",
        "    print('(Alternate Hypothesis) Reject H1: Region and Manager features are dependent')"
      ],
      "metadata": {
        "colab": {
          "base_uri": "https://localhost:8080/"
        },
        "id": "kICjrn0EWTX7",
        "outputId": "d61f5008-7219-419c-e68a-d934f23d11de"
      },
      "execution_count": 26,
      "outputs": [
        {
          "output_type": "stream",
          "name": "stdout",
          "text": [
            "(Alternate Hypothesis) Reject H1: Region and Manager features are dependent\n"
          ]
        }
      ]
    }
  ]
}