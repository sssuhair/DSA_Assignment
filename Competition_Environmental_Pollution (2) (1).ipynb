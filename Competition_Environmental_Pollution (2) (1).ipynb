{
 "cells": [
  {
   "cell_type": "markdown",
   "metadata": {
    "id": "rH9JZw0VgN5a"
   },
   "source": [
    "# **Topic : Death rates based on Air Pollution**"
   ]
  },
  {
   "cell_type": "code",
   "execution_count": 1,
   "metadata": {
    "id": "a-prrOn8gVoi"
   },
   "outputs": [],
   "source": [
    "import numpy as np\n",
    "import pandas as pd\n",
    "import matplotlib.pyplot as plt\n",
    "import seaborn as sns\n",
    "from sklearn.model_selection import train_test_split\n",
    "from sklearn.linear_model import LinearRegression"
   ]
  },
  {
   "cell_type": "code",
   "execution_count": 2,
   "metadata": {
    "id": "oUNk-uaQhQwi"
   },
   "outputs": [],
   "source": [
    "### ***Importing dataset***"
   ]
  },
  {
   "cell_type": "code",
   "execution_count": 3,
   "metadata": {
    "colab": {
     "base_uri": "https://localhost:8080/",
     "height": 485
    },
    "id": "KTmQPfuUhaiS",
    "outputId": "40c26b67-d7ab-4606-d29f-667f30518f91"
   },
   "outputs": [
    {
     "data": {
      "text/html": [
       "<div>\n",
       "<style scoped>\n",
       "    .dataframe tbody tr th:only-of-type {\n",
       "        vertical-align: middle;\n",
       "    }\n",
       "\n",
       "    .dataframe tbody tr th {\n",
       "        vertical-align: top;\n",
       "    }\n",
       "\n",
       "    .dataframe thead th {\n",
       "        text-align: right;\n",
       "    }\n",
       "</style>\n",
       "<table border=\"1\" class=\"dataframe\">\n",
       "  <thead>\n",
       "    <tr style=\"text-align: right;\">\n",
       "      <th></th>\n",
       "      <th>Entity</th>\n",
       "      <th>Code</th>\n",
       "      <th>Year</th>\n",
       "      <th>Air pollution (total) (deaths per 100,000)</th>\n",
       "      <th>Indoor air pollution (deaths per 100,000)</th>\n",
       "      <th>Outdoor particulate matter (deaths per 100,000)</th>\n",
       "      <th>Outdoor ozone pollution (deaths per 100,000)</th>\n",
       "    </tr>\n",
       "  </thead>\n",
       "  <tbody>\n",
       "    <tr>\n",
       "      <th>0</th>\n",
       "      <td>Afghanistan</td>\n",
       "      <td>AFG</td>\n",
       "      <td>1990</td>\n",
       "      <td>299.477309</td>\n",
       "      <td>250.362910</td>\n",
       "      <td>46.446589</td>\n",
       "      <td>5.616442</td>\n",
       "    </tr>\n",
       "    <tr>\n",
       "      <th>1</th>\n",
       "      <td>Afghanistan</td>\n",
       "      <td>AFG</td>\n",
       "      <td>1991</td>\n",
       "      <td>291.277967</td>\n",
       "      <td>242.575125</td>\n",
       "      <td>46.033841</td>\n",
       "      <td>5.603960</td>\n",
       "    </tr>\n",
       "    <tr>\n",
       "      <th>2</th>\n",
       "      <td>Afghanistan</td>\n",
       "      <td>AFG</td>\n",
       "      <td>1992</td>\n",
       "      <td>278.963056</td>\n",
       "      <td>232.043878</td>\n",
       "      <td>44.243766</td>\n",
       "      <td>5.611822</td>\n",
       "    </tr>\n",
       "    <tr>\n",
       "      <th>3</th>\n",
       "      <td>Afghanistan</td>\n",
       "      <td>AFG</td>\n",
       "      <td>1993</td>\n",
       "      <td>278.790815</td>\n",
       "      <td>231.648134</td>\n",
       "      <td>44.440148</td>\n",
       "      <td>5.655266</td>\n",
       "    </tr>\n",
       "    <tr>\n",
       "      <th>4</th>\n",
       "      <td>Afghanistan</td>\n",
       "      <td>AFG</td>\n",
       "      <td>1994</td>\n",
       "      <td>287.162923</td>\n",
       "      <td>238.837177</td>\n",
       "      <td>45.594328</td>\n",
       "      <td>5.718922</td>\n",
       "    </tr>\n",
       "    <tr>\n",
       "      <th>...</th>\n",
       "      <td>...</td>\n",
       "      <td>...</td>\n",
       "      <td>...</td>\n",
       "      <td>...</td>\n",
       "      <td>...</td>\n",
       "      <td>...</td>\n",
       "      <td>...</td>\n",
       "    </tr>\n",
       "    <tr>\n",
       "      <th>6463</th>\n",
       "      <td>Zimbabwe</td>\n",
       "      <td>ZWE</td>\n",
       "      <td>2013</td>\n",
       "      <td>143.850145</td>\n",
       "      <td>113.456097</td>\n",
       "      <td>27.589603</td>\n",
       "      <td>4.426291</td>\n",
       "    </tr>\n",
       "    <tr>\n",
       "      <th>6464</th>\n",
       "      <td>Zimbabwe</td>\n",
       "      <td>ZWE</td>\n",
       "      <td>2014</td>\n",
       "      <td>138.200536</td>\n",
       "      <td>108.703566</td>\n",
       "      <td>26.760618</td>\n",
       "      <td>4.296971</td>\n",
       "    </tr>\n",
       "    <tr>\n",
       "      <th>6465</th>\n",
       "      <td>Zimbabwe</td>\n",
       "      <td>ZWE</td>\n",
       "      <td>2015</td>\n",
       "      <td>132.752553</td>\n",
       "      <td>104.340506</td>\n",
       "      <td>25.715415</td>\n",
       "      <td>4.200907</td>\n",
       "    </tr>\n",
       "    <tr>\n",
       "      <th>6466</th>\n",
       "      <td>Zimbabwe</td>\n",
       "      <td>ZWE</td>\n",
       "      <td>2016</td>\n",
       "      <td>128.692138</td>\n",
       "      <td>100.392287</td>\n",
       "      <td>25.643570</td>\n",
       "      <td>4.117173</td>\n",
       "    </tr>\n",
       "    <tr>\n",
       "      <th>6467</th>\n",
       "      <td>Zimbabwe</td>\n",
       "      <td>ZWE</td>\n",
       "      <td>2017</td>\n",
       "      <td>125.028843</td>\n",
       "      <td>96.235996</td>\n",
       "      <td>26.166182</td>\n",
       "      <td>4.052495</td>\n",
       "    </tr>\n",
       "  </tbody>\n",
       "</table>\n",
       "<p>6468 rows × 7 columns</p>\n",
       "</div>"
      ],
      "text/plain": [
       "           Entity Code  Year  Air pollution (total) (deaths per 100,000)  \\\n",
       "0     Afghanistan  AFG  1990                                  299.477309   \n",
       "1     Afghanistan  AFG  1991                                  291.277967   \n",
       "2     Afghanistan  AFG  1992                                  278.963056   \n",
       "3     Afghanistan  AFG  1993                                  278.790815   \n",
       "4     Afghanistan  AFG  1994                                  287.162923   \n",
       "...           ...  ...   ...                                         ...   \n",
       "6463     Zimbabwe  ZWE  2013                                  143.850145   \n",
       "6464     Zimbabwe  ZWE  2014                                  138.200536   \n",
       "6465     Zimbabwe  ZWE  2015                                  132.752553   \n",
       "6466     Zimbabwe  ZWE  2016                                  128.692138   \n",
       "6467     Zimbabwe  ZWE  2017                                  125.028843   \n",
       "\n",
       "      Indoor air pollution (deaths per 100,000)  \\\n",
       "0                                    250.362910   \n",
       "1                                    242.575125   \n",
       "2                                    232.043878   \n",
       "3                                    231.648134   \n",
       "4                                    238.837177   \n",
       "...                                         ...   \n",
       "6463                                 113.456097   \n",
       "6464                                 108.703566   \n",
       "6465                                 104.340506   \n",
       "6466                                 100.392287   \n",
       "6467                                  96.235996   \n",
       "\n",
       "      Outdoor particulate matter (deaths per 100,000)  \\\n",
       "0                                           46.446589   \n",
       "1                                           46.033841   \n",
       "2                                           44.243766   \n",
       "3                                           44.440148   \n",
       "4                                           45.594328   \n",
       "...                                               ...   \n",
       "6463                                        27.589603   \n",
       "6464                                        26.760618   \n",
       "6465                                        25.715415   \n",
       "6466                                        25.643570   \n",
       "6467                                        26.166182   \n",
       "\n",
       "      Outdoor ozone pollution (deaths per 100,000)  \n",
       "0                                         5.616442  \n",
       "1                                         5.603960  \n",
       "2                                         5.611822  \n",
       "3                                         5.655266  \n",
       "4                                         5.718922  \n",
       "...                                            ...  \n",
       "6463                                      4.426291  \n",
       "6464                                      4.296971  \n",
       "6465                                      4.200907  \n",
       "6466                                      4.117173  \n",
       "6467                                      4.052495  \n",
       "\n",
       "[6468 rows x 7 columns]"
      ]
     },
     "execution_count": 3,
     "metadata": {},
     "output_type": "execute_result"
    }
   ],
   "source": [
    "#data = pd.read_csv('death_rate_based_on_air_pollution.csv')\n",
    "data = pd.read_csv(r'C:/Users/SUHAIR/Desktop/DSA/death-rates-from-air-pollution.csv')\n",
    "#C:/Users/SUHAIR/Desktop/DSA/death-rates-from-air-pollution.csv\n",
    "data"
   ]
  },
  {
   "cell_type": "markdown",
   "metadata": {
    "id": "lSz85RTOilsb"
   },
   "source": [
    "### *Checking null values*"
   ]
  },
  {
   "cell_type": "code",
   "execution_count": 4,
   "metadata": {
    "colab": {
     "base_uri": "https://localhost:8080/"
    },
    "id": "667im0QyirdC",
    "outputId": "1a0f636d-44aa-4fb8-c6f5-4e9377d121e9"
   },
   "outputs": [
    {
     "data": {
      "text/plain": [
       "Entity                                               0\n",
       "Code                                               980\n",
       "Year                                                 0\n",
       "Air pollution (total) (deaths per 100,000)           0\n",
       "Indoor air pollution (deaths per 100,000)            0\n",
       "Outdoor particulate matter (deaths per 100,000)      0\n",
       "Outdoor ozone pollution (deaths per 100,000)         0\n",
       "dtype: int64"
      ]
     },
     "execution_count": 4,
     "metadata": {},
     "output_type": "execute_result"
    }
   ],
   "source": [
    "data.isna().sum()"
   ]
  },
  {
   "cell_type": "markdown",
   "metadata": {
    "id": "V5a8P7RLjVyr"
   },
   "source": [
    "### *The column code contains 980 null values and that column is not much useful so we have to drop that column*"
   ]
  },
  {
   "cell_type": "code",
   "execution_count": 5,
   "metadata": {
    "colab": {
     "base_uri": "https://localhost:8080/",
     "height": 485
    },
    "id": "d8XyfXoNjwKL",
    "outputId": "20dc65c4-05a6-42d2-b5bb-b011fe2a77a8"
   },
   "outputs": [
    {
     "data": {
      "text/html": [
       "<div>\n",
       "<style scoped>\n",
       "    .dataframe tbody tr th:only-of-type {\n",
       "        vertical-align: middle;\n",
       "    }\n",
       "\n",
       "    .dataframe tbody tr th {\n",
       "        vertical-align: top;\n",
       "    }\n",
       "\n",
       "    .dataframe thead th {\n",
       "        text-align: right;\n",
       "    }\n",
       "</style>\n",
       "<table border=\"1\" class=\"dataframe\">\n",
       "  <thead>\n",
       "    <tr style=\"text-align: right;\">\n",
       "      <th></th>\n",
       "      <th>Entity</th>\n",
       "      <th>Year</th>\n",
       "      <th>Air pollution (total) (deaths per 100,000)</th>\n",
       "      <th>Indoor air pollution (deaths per 100,000)</th>\n",
       "      <th>Outdoor particulate matter (deaths per 100,000)</th>\n",
       "      <th>Outdoor ozone pollution (deaths per 100,000)</th>\n",
       "    </tr>\n",
       "  </thead>\n",
       "  <tbody>\n",
       "    <tr>\n",
       "      <th>0</th>\n",
       "      <td>Afghanistan</td>\n",
       "      <td>1990</td>\n",
       "      <td>299.477309</td>\n",
       "      <td>250.362910</td>\n",
       "      <td>46.446589</td>\n",
       "      <td>5.616442</td>\n",
       "    </tr>\n",
       "    <tr>\n",
       "      <th>1</th>\n",
       "      <td>Afghanistan</td>\n",
       "      <td>1991</td>\n",
       "      <td>291.277967</td>\n",
       "      <td>242.575125</td>\n",
       "      <td>46.033841</td>\n",
       "      <td>5.603960</td>\n",
       "    </tr>\n",
       "    <tr>\n",
       "      <th>2</th>\n",
       "      <td>Afghanistan</td>\n",
       "      <td>1992</td>\n",
       "      <td>278.963056</td>\n",
       "      <td>232.043878</td>\n",
       "      <td>44.243766</td>\n",
       "      <td>5.611822</td>\n",
       "    </tr>\n",
       "    <tr>\n",
       "      <th>3</th>\n",
       "      <td>Afghanistan</td>\n",
       "      <td>1993</td>\n",
       "      <td>278.790815</td>\n",
       "      <td>231.648134</td>\n",
       "      <td>44.440148</td>\n",
       "      <td>5.655266</td>\n",
       "    </tr>\n",
       "    <tr>\n",
       "      <th>4</th>\n",
       "      <td>Afghanistan</td>\n",
       "      <td>1994</td>\n",
       "      <td>287.162923</td>\n",
       "      <td>238.837177</td>\n",
       "      <td>45.594328</td>\n",
       "      <td>5.718922</td>\n",
       "    </tr>\n",
       "    <tr>\n",
       "      <th>...</th>\n",
       "      <td>...</td>\n",
       "      <td>...</td>\n",
       "      <td>...</td>\n",
       "      <td>...</td>\n",
       "      <td>...</td>\n",
       "      <td>...</td>\n",
       "    </tr>\n",
       "    <tr>\n",
       "      <th>6463</th>\n",
       "      <td>Zimbabwe</td>\n",
       "      <td>2013</td>\n",
       "      <td>143.850145</td>\n",
       "      <td>113.456097</td>\n",
       "      <td>27.589603</td>\n",
       "      <td>4.426291</td>\n",
       "    </tr>\n",
       "    <tr>\n",
       "      <th>6464</th>\n",
       "      <td>Zimbabwe</td>\n",
       "      <td>2014</td>\n",
       "      <td>138.200536</td>\n",
       "      <td>108.703566</td>\n",
       "      <td>26.760618</td>\n",
       "      <td>4.296971</td>\n",
       "    </tr>\n",
       "    <tr>\n",
       "      <th>6465</th>\n",
       "      <td>Zimbabwe</td>\n",
       "      <td>2015</td>\n",
       "      <td>132.752553</td>\n",
       "      <td>104.340506</td>\n",
       "      <td>25.715415</td>\n",
       "      <td>4.200907</td>\n",
       "    </tr>\n",
       "    <tr>\n",
       "      <th>6466</th>\n",
       "      <td>Zimbabwe</td>\n",
       "      <td>2016</td>\n",
       "      <td>128.692138</td>\n",
       "      <td>100.392287</td>\n",
       "      <td>25.643570</td>\n",
       "      <td>4.117173</td>\n",
       "    </tr>\n",
       "    <tr>\n",
       "      <th>6467</th>\n",
       "      <td>Zimbabwe</td>\n",
       "      <td>2017</td>\n",
       "      <td>125.028843</td>\n",
       "      <td>96.235996</td>\n",
       "      <td>26.166182</td>\n",
       "      <td>4.052495</td>\n",
       "    </tr>\n",
       "  </tbody>\n",
       "</table>\n",
       "<p>6468 rows × 6 columns</p>\n",
       "</div>"
      ],
      "text/plain": [
       "           Entity  Year  Air pollution (total) (deaths per 100,000)  \\\n",
       "0     Afghanistan  1990                                  299.477309   \n",
       "1     Afghanistan  1991                                  291.277967   \n",
       "2     Afghanistan  1992                                  278.963056   \n",
       "3     Afghanistan  1993                                  278.790815   \n",
       "4     Afghanistan  1994                                  287.162923   \n",
       "...           ...   ...                                         ...   \n",
       "6463     Zimbabwe  2013                                  143.850145   \n",
       "6464     Zimbabwe  2014                                  138.200536   \n",
       "6465     Zimbabwe  2015                                  132.752553   \n",
       "6466     Zimbabwe  2016                                  128.692138   \n",
       "6467     Zimbabwe  2017                                  125.028843   \n",
       "\n",
       "      Indoor air pollution (deaths per 100,000)  \\\n",
       "0                                    250.362910   \n",
       "1                                    242.575125   \n",
       "2                                    232.043878   \n",
       "3                                    231.648134   \n",
       "4                                    238.837177   \n",
       "...                                         ...   \n",
       "6463                                 113.456097   \n",
       "6464                                 108.703566   \n",
       "6465                                 104.340506   \n",
       "6466                                 100.392287   \n",
       "6467                                  96.235996   \n",
       "\n",
       "      Outdoor particulate matter (deaths per 100,000)  \\\n",
       "0                                           46.446589   \n",
       "1                                           46.033841   \n",
       "2                                           44.243766   \n",
       "3                                           44.440148   \n",
       "4                                           45.594328   \n",
       "...                                               ...   \n",
       "6463                                        27.589603   \n",
       "6464                                        26.760618   \n",
       "6465                                        25.715415   \n",
       "6466                                        25.643570   \n",
       "6467                                        26.166182   \n",
       "\n",
       "      Outdoor ozone pollution (deaths per 100,000)  \n",
       "0                                         5.616442  \n",
       "1                                         5.603960  \n",
       "2                                         5.611822  \n",
       "3                                         5.655266  \n",
       "4                                         5.718922  \n",
       "...                                            ...  \n",
       "6463                                      4.426291  \n",
       "6464                                      4.296971  \n",
       "6465                                      4.200907  \n",
       "6466                                      4.117173  \n",
       "6467                                      4.052495  \n",
       "\n",
       "[6468 rows x 6 columns]"
      ]
     },
     "execution_count": 5,
     "metadata": {},
     "output_type": "execute_result"
    }
   ],
   "source": [
    "data = data.drop(['Code'],axis=1)\n",
    "data"
   ]
  },
  {
   "cell_type": "markdown",
   "metadata": {
    "id": "7b0sAzP7k7H1"
   },
   "source": [
    "### *Basic Details of dataset*"
   ]
  },
  {
   "cell_type": "code",
   "execution_count": 6,
   "metadata": {
    "colab": {
     "base_uri": "https://localhost:8080/"
    },
    "id": "gEVD9nwylAsr",
    "outputId": "e0947c61-fd9b-4b2c-eccb-9d5363741a9e"
   },
   "outputs": [
    {
     "data": {
      "text/plain": [
       "(6468, 6)"
      ]
     },
     "execution_count": 6,
     "metadata": {},
     "output_type": "execute_result"
    }
   ],
   "source": [
    "data.shape"
   ]
  },
  {
   "cell_type": "code",
   "execution_count": 7,
   "metadata": {
    "colab": {
     "base_uri": "https://localhost:8080/"
    },
    "id": "KQPMRzTMlHJi",
    "outputId": "a42ff3ee-8c00-4b2e-bdf6-153c723f3051"
   },
   "outputs": [
    {
     "name": "stdout",
     "output_type": "stream",
     "text": [
      "<class 'pandas.core.frame.DataFrame'>\n",
      "RangeIndex: 6468 entries, 0 to 6467\n",
      "Data columns (total 6 columns):\n",
      " #   Column                                           Non-Null Count  Dtype  \n",
      "---  ------                                           --------------  -----  \n",
      " 0   Entity                                           6468 non-null   object \n",
      " 1   Year                                             6468 non-null   int64  \n",
      " 2   Air pollution (total) (deaths per 100,000)       6468 non-null   float64\n",
      " 3   Indoor air pollution (deaths per 100,000)        6468 non-null   float64\n",
      " 4   Outdoor particulate matter (deaths per 100,000)  6468 non-null   float64\n",
      " 5   Outdoor ozone pollution (deaths per 100,000)     6468 non-null   float64\n",
      "dtypes: float64(4), int64(1), object(1)\n",
      "memory usage: 303.3+ KB\n"
     ]
    }
   ],
   "source": [
    "data.info()"
   ]
  },
  {
   "cell_type": "code",
   "execution_count": 8,
   "metadata": {
    "colab": {
     "base_uri": "https://localhost:8080/",
     "height": 362
    },
    "id": "4NljeV8zlKVy",
    "outputId": "a166495f-7238-4214-d176-23d67a19f14d"
   },
   "outputs": [
    {
     "data": {
      "text/html": [
       "<div>\n",
       "<style scoped>\n",
       "    .dataframe tbody tr th:only-of-type {\n",
       "        vertical-align: middle;\n",
       "    }\n",
       "\n",
       "    .dataframe tbody tr th {\n",
       "        vertical-align: top;\n",
       "    }\n",
       "\n",
       "    .dataframe thead th {\n",
       "        text-align: right;\n",
       "    }\n",
       "</style>\n",
       "<table border=\"1\" class=\"dataframe\">\n",
       "  <thead>\n",
       "    <tr style=\"text-align: right;\">\n",
       "      <th></th>\n",
       "      <th>Year</th>\n",
       "      <th>Air pollution (total) (deaths per 100,000)</th>\n",
       "      <th>Indoor air pollution (deaths per 100,000)</th>\n",
       "      <th>Outdoor particulate matter (deaths per 100,000)</th>\n",
       "      <th>Outdoor ozone pollution (deaths per 100,000)</th>\n",
       "    </tr>\n",
       "  </thead>\n",
       "  <tbody>\n",
       "    <tr>\n",
       "      <th>count</th>\n",
       "      <td>6468.000000</td>\n",
       "      <td>6468.000000</td>\n",
       "      <td>6468.000000</td>\n",
       "      <td>6468.000000</td>\n",
       "      <td>6468.000000</td>\n",
       "    </tr>\n",
       "    <tr>\n",
       "      <th>mean</th>\n",
       "      <td>2003.500000</td>\n",
       "      <td>87.804083</td>\n",
       "      <td>50.481504</td>\n",
       "      <td>35.114982</td>\n",
       "      <td>3.370793</td>\n",
       "    </tr>\n",
       "    <tr>\n",
       "      <th>std</th>\n",
       "      <td>8.078372</td>\n",
       "      <td>57.845436</td>\n",
       "      <td>58.722565</td>\n",
       "      <td>18.207369</td>\n",
       "      <td>4.325445</td>\n",
       "    </tr>\n",
       "    <tr>\n",
       "      <th>min</th>\n",
       "      <td>1990.000000</td>\n",
       "      <td>8.401696</td>\n",
       "      <td>0.003859</td>\n",
       "      <td>7.542899</td>\n",
       "      <td>0.000000</td>\n",
       "    </tr>\n",
       "    <tr>\n",
       "      <th>25%</th>\n",
       "      <td>1996.750000</td>\n",
       "      <td>41.016114</td>\n",
       "      <td>2.002779</td>\n",
       "      <td>21.955108</td>\n",
       "      <td>1.302905</td>\n",
       "    </tr>\n",
       "    <tr>\n",
       "      <th>50%</th>\n",
       "      <td>2003.500000</td>\n",
       "      <td>72.653557</td>\n",
       "      <td>23.737851</td>\n",
       "      <td>30.977196</td>\n",
       "      <td>2.338684</td>\n",
       "    </tr>\n",
       "    <tr>\n",
       "      <th>75%</th>\n",
       "      <td>2010.250000</td>\n",
       "      <td>127.607177</td>\n",
       "      <td>90.138777</td>\n",
       "      <td>44.604181</td>\n",
       "      <td>3.515409</td>\n",
       "    </tr>\n",
       "    <tr>\n",
       "      <th>max</th>\n",
       "      <td>2017.000000</td>\n",
       "      <td>318.463253</td>\n",
       "      <td>293.509187</td>\n",
       "      <td>132.815726</td>\n",
       "      <td>37.356034</td>\n",
       "    </tr>\n",
       "  </tbody>\n",
       "</table>\n",
       "</div>"
      ],
      "text/plain": [
       "              Year  Air pollution (total) (deaths per 100,000)  \\\n",
       "count  6468.000000                                 6468.000000   \n",
       "mean   2003.500000                                   87.804083   \n",
       "std       8.078372                                   57.845436   \n",
       "min    1990.000000                                    8.401696   \n",
       "25%    1996.750000                                   41.016114   \n",
       "50%    2003.500000                                   72.653557   \n",
       "75%    2010.250000                                  127.607177   \n",
       "max    2017.000000                                  318.463253   \n",
       "\n",
       "       Indoor air pollution (deaths per 100,000)  \\\n",
       "count                                6468.000000   \n",
       "mean                                   50.481504   \n",
       "std                                    58.722565   \n",
       "min                                     0.003859   \n",
       "25%                                     2.002779   \n",
       "50%                                    23.737851   \n",
       "75%                                    90.138777   \n",
       "max                                   293.509187   \n",
       "\n",
       "       Outdoor particulate matter (deaths per 100,000)  \\\n",
       "count                                      6468.000000   \n",
       "mean                                         35.114982   \n",
       "std                                          18.207369   \n",
       "min                                           7.542899   \n",
       "25%                                          21.955108   \n",
       "50%                                          30.977196   \n",
       "75%                                          44.604181   \n",
       "max                                         132.815726   \n",
       "\n",
       "       Outdoor ozone pollution (deaths per 100,000)  \n",
       "count                                   6468.000000  \n",
       "mean                                       3.370793  \n",
       "std                                        4.325445  \n",
       "min                                        0.000000  \n",
       "25%                                        1.302905  \n",
       "50%                                        2.338684  \n",
       "75%                                        3.515409  \n",
       "max                                       37.356034  "
      ]
     },
     "execution_count": 8,
     "metadata": {},
     "output_type": "execute_result"
    }
   ],
   "source": [
    "data.describe()"
   ]
  },
  {
   "cell_type": "code",
   "execution_count": 9,
   "metadata": {
    "colab": {
     "base_uri": "https://localhost:8080/"
    },
    "id": "mm5uaqAqmgID",
    "outputId": "3da9bb99-b07f-428d-d9c7-1f09b8c4adbd"
   },
   "outputs": [
    {
     "data": {
      "text/plain": [
       "Index(['Entity', 'Year', 'Air pollution (total) (deaths per 100,000)',\n",
       "       'Indoor air pollution (deaths per 100,000)',\n",
       "       'Outdoor particulate matter (deaths per 100,000)',\n",
       "       'Outdoor ozone pollution (deaths per 100,000)'],\n",
       "      dtype='object')"
      ]
     },
     "execution_count": 9,
     "metadata": {},
     "output_type": "execute_result"
    }
   ],
   "source": [
    "data.columns"
   ]
  },
  {
   "cell_type": "markdown",
   "metadata": {
    "id": "JZoSOAtDmxK8"
   },
   "source": [
    "### *Finding outliers*"
   ]
  },
  {
   "cell_type": "code",
   "execution_count": 10,
   "metadata": {
    "colab": {
     "base_uri": "https://localhost:8080/",
     "height": 298
    },
    "id": "7Ctvtr0yoLgb",
    "outputId": "9182327e-2c1d-4201-d313-936292c9947c"
   },
   "outputs": [
    {
     "data": {
      "text/plain": [
       "Text(0.5, 1.0, 'Box Plot of Air pollution (total) (deaths per 100,000)')"
      ]
     },
     "execution_count": 10,
     "metadata": {},
     "output_type": "execute_result"
    },
    {
     "data": {
      "image/png": "[encoded data removed]",
      "text/plain": [
       "<Figure size 432x288 with 1 Axes>"
      ]
     },
     "metadata": {
      "needs_background": "light"
     },
     "output_type": "display_data"
    }
   ],
   "source": [
    "plt.boxplot(data['Air pollution (total) (deaths per 100,000)'])\n",
    "plt.title('Box Plot of Air pollution (total) (deaths per 100,000)')"
   ]
  },
  {
   "cell_type": "code",
   "execution_count": 11,
   "metadata": {
    "colab": {
     "base_uri": "https://localhost:8080/",
     "height": 298
    },
    "id": "pMu4GES0ojh7",
    "outputId": "9a837fe5-44fd-4467-dec1-f97acbae24ab"
   },
   "outputs": [
    {
     "data": {
      "text/plain": [
       "Text(0.5, 1.0, 'Box Plot of Indoor air pollution (deaths per 100,000)')"
      ]
     },
     "execution_count": 11,
     "metadata": {},
     "output_type": "execute_result"
    },
    {
     "data": {
      "image/png": "[encoded data removed]",
      "text/plain": [
       "<Figure size 432x288 with 1 Axes>"
      ]
     },
     "metadata": {
      "needs_background": "light"
     },
     "output_type": "display_data"
    }
   ],
   "source": [
    "plt.boxplot(data['Indoor air pollution (deaths per 100,000)'])\n",
    "plt.title('Box Plot of Indoor air pollution (deaths per 100,000)')"
   ]
  },
  {
   "cell_type": "code",
   "execution_count": 12,
   "metadata": {
    "colab": {
     "base_uri": "https://localhost:8080/",
     "height": 298
    },
    "id": "AleOMZsWosgr",
    "outputId": "fc60be00-d3b4-4a84-f2c4-52aa81632ec5"
   },
   "outputs": [
    {
     "data": {
      "text/plain": [
       "Text(0.5, 1.0, 'Box Plot of Outdoor particulate matter (deaths per 100,000)')"
      ]
     },
     "execution_count": 12,
     "metadata": {},
     "output_type": "execute_result"
    },
    {
     "data": {
      "image/png": "[encoded data removed]",
      "text/plain": [
       "<Figure size 432x288 with 1 Axes>"
      ]
     },
     "metadata": {
      "needs_background": "light"
     },
     "output_type": "display_data"
    }
   ],
   "source": [
    "plt.boxplot(data['Outdoor particulate matter (deaths per 100,000)'])\n",
    "plt.title('Box Plot of Outdoor particulate matter (deaths per 100,000)')"
   ]
  },
  {
   "cell_type": "code",
   "execution_count": 13,
   "metadata": {
    "colab": {
     "base_uri": "https://localhost:8080/",
     "height": 298
    },
    "id": "NTGE8jSsowiC",
    "outputId": "d4f28a74-6501-4dc4-ea23-9ae80f4036b4"
   },
   "outputs": [
    {
     "data": {
      "text/plain": [
       "Text(0.5, 1.0, 'Box Plot of Outdoor ozone pollution (deaths per 100,000)')"
      ]
     },
     "execution_count": 13,
     "metadata": {},
     "output_type": "execute_result"
    },
    {
     "data": {
      "image/png": "[encoded data removed]",
      "text/plain": [
       "<Figure size 432x288 with 1 Axes>"
      ]
     },
     "metadata": {
      "needs_background": "light"
     },
     "output_type": "display_data"
    }
   ],
   "source": [
    "plt.boxplot(data['Outdoor ozone pollution (deaths per 100,000)'])\n",
    "plt.title('Box Plot of Outdoor ozone pollution (deaths per 100,000)')"
   ]
  },
  {
   "cell_type": "code",
   "execution_count": 14,
   "metadata": {
    "id": "u9BJW7k-q4Lt"
   },
   "outputs": [
    {
     "ename": "SyntaxError",
     "evalue": "invalid syntax (<ipython-input-14-d3e543b74111>, line 1)",
     "output_type": "error",
     "traceback": [
      "\u001b[1;36m  File \u001b[1;32m\"<ipython-input-14-d3e543b74111>\"\u001b[1;36m, line \u001b[1;32m1\u001b[0m\n\u001b[1;33m    From above box plots we can see that there is no outliers in dataset\u001b[0m\n\u001b[1;37m         ^\u001b[0m\n\u001b[1;31mSyntaxError\u001b[0m\u001b[1;31m:\u001b[0m invalid syntax\n"
     ]
    }
   ],
   "source": [
    "From above box plots we can see that there is no outliers in dataset"
   ]
  },
  {
   "cell_type": "markdown",
   "metadata": {
    "id": "6pVxUwILru6D"
   },
   "source": [
    "## ***Min-Max Scaling***"
   ]
  },
  {
   "cell_type": "code",
   "execution_count": 15,
   "metadata": {
    "id": "Hmb7RWH8r98k"
   },
   "outputs": [],
   "source": [
    "from sklearn import preprocessing"
   ]
  },
  {
   "cell_type": "code",
   "execution_count": 16,
   "metadata": {
    "colab": {
     "base_uri": "https://localhost:8080/",
     "height": 846
    },
    "id": "bsrIL3zZsFIj",
    "outputId": "5c09f45c-2d6a-42ec-fa09-7243835f912d"
   },
   "outputs": [
    {
     "data": {
      "text/plain": [
       "<AxesSubplot:>"
      ]
     },
     "execution_count": 16,
     "metadata": {},
     "output_type": "execute_result"
    },
    {
     "data": {
      "image/png": "[encoded data removed]",
      "text/plain": [
       "<Figure size 1080x720 with 2 Axes>"
      ]
     },
     "metadata": {
      "needs_background": "light"
     },
     "output_type": "display_data"
    }
   ],
   "source": [
    "corrmet = data.corr()\n",
    "plt.subplots(figsize=(15,10))\n",
    "sns.heatmap(corrmet,annot=True,linewidth=.2)"
   ]
  },
  {
   "cell_type": "code",
   "execution_count": 17,
   "metadata": {
    "id": "-Du1imKeuSF7"
   },
   "outputs": [],
   "source": [
    "y = data['Air pollution (total) (deaths per 100,000)']\n",
    "x = data.drop(['Entity', 'Year', 'Air pollution (total) (deaths per 100,000)'],axis=1)"
   ]
  },
  {
   "cell_type": "code",
   "execution_count": 18,
   "metadata": {
    "colab": {
     "base_uri": "https://localhost:8080/",
     "height": 300
    },
    "id": "h2f4zzxKtnnV",
    "outputId": "b2ab6caa-3c30-4538-c788-3120da672394"
   },
   "outputs": [
    {
     "data": {
      "text/html": [
       "<div>\n",
       "<style scoped>\n",
       "    .dataframe tbody tr th:only-of-type {\n",
       "        vertical-align: middle;\n",
       "    }\n",
       "\n",
       "    .dataframe tbody tr th {\n",
       "        vertical-align: top;\n",
       "    }\n",
       "\n",
       "    .dataframe thead th {\n",
       "        text-align: right;\n",
       "    }\n",
       "</style>\n",
       "<table border=\"1\" class=\"dataframe\">\n",
       "  <thead>\n",
       "    <tr style=\"text-align: right;\">\n",
       "      <th></th>\n",
       "      <th>Indoor air pollution (deaths per 100,000)</th>\n",
       "      <th>Outdoor particulate matter (deaths per 100,000)</th>\n",
       "      <th>Outdoor ozone pollution (deaths per 100,000)</th>\n",
       "    </tr>\n",
       "  </thead>\n",
       "  <tbody>\n",
       "    <tr>\n",
       "      <th>count</th>\n",
       "      <td>6468.000000</td>\n",
       "      <td>6468.000000</td>\n",
       "      <td>6468.000000</td>\n",
       "    </tr>\n",
       "    <tr>\n",
       "      <th>mean</th>\n",
       "      <td>50.481504</td>\n",
       "      <td>35.114982</td>\n",
       "      <td>3.370793</td>\n",
       "    </tr>\n",
       "    <tr>\n",
       "      <th>std</th>\n",
       "      <td>58.722565</td>\n",
       "      <td>18.207369</td>\n",
       "      <td>4.325445</td>\n",
       "    </tr>\n",
       "    <tr>\n",
       "      <th>min</th>\n",
       "      <td>0.003859</td>\n",
       "      <td>7.542899</td>\n",
       "      <td>0.000000</td>\n",
       "    </tr>\n",
       "    <tr>\n",
       "      <th>25%</th>\n",
       "      <td>2.002779</td>\n",
       "      <td>21.955108</td>\n",
       "      <td>1.302905</td>\n",
       "    </tr>\n",
       "    <tr>\n",
       "      <th>50%</th>\n",
       "      <td>23.737851</td>\n",
       "      <td>30.977196</td>\n",
       "      <td>2.338684</td>\n",
       "    </tr>\n",
       "    <tr>\n",
       "      <th>75%</th>\n",
       "      <td>90.138777</td>\n",
       "      <td>44.604181</td>\n",
       "      <td>3.515409</td>\n",
       "    </tr>\n",
       "    <tr>\n",
       "      <th>max</th>\n",
       "      <td>293.509187</td>\n",
       "      <td>132.815726</td>\n",
       "      <td>37.356034</td>\n",
       "    </tr>\n",
       "  </tbody>\n",
       "</table>\n",
       "</div>"
      ],
      "text/plain": [
       "       Indoor air pollution (deaths per 100,000)  \\\n",
       "count                                6468.000000   \n",
       "mean                                   50.481504   \n",
       "std                                    58.722565   \n",
       "min                                     0.003859   \n",
       "25%                                     2.002779   \n",
       "50%                                    23.737851   \n",
       "75%                                    90.138777   \n",
       "max                                   293.509187   \n",
       "\n",
       "       Outdoor particulate matter (deaths per 100,000)  \\\n",
       "count                                      6468.000000   \n",
       "mean                                         35.114982   \n",
       "std                                          18.207369   \n",
       "min                                           7.542899   \n",
       "25%                                          21.955108   \n",
       "50%                                          30.977196   \n",
       "75%                                          44.604181   \n",
       "max                                         132.815726   \n",
       "\n",
       "       Outdoor ozone pollution (deaths per 100,000)  \n",
       "count                                   6468.000000  \n",
       "mean                                       3.370793  \n",
       "std                                        4.325445  \n",
       "min                                        0.000000  \n",
       "25%                                        1.302905  \n",
       "50%                                        2.338684  \n",
       "75%                                        3.515409  \n",
       "max                                       37.356034  "
      ]
     },
     "execution_count": 18,
     "metadata": {},
     "output_type": "execute_result"
    }
   ],
   "source": [
    "x.describe()"
   ]
  },
  {
   "cell_type": "code",
   "execution_count": 19,
   "metadata": {
    "colab": {
     "base_uri": "https://localhost:8080/",
     "height": 424
    },
    "id": "ZzcEEV8dt0bN",
    "outputId": "fed9b159-1163-4bc5-9bab-48032a260edf"
   },
   "outputs": [
    {
     "data": {
      "text/html": [
       "<div>\n",
       "<style scoped>\n",
       "    .dataframe tbody tr th:only-of-type {\n",
       "        vertical-align: middle;\n",
       "    }\n",
       "\n",
       "    .dataframe tbody tr th {\n",
       "        vertical-align: top;\n",
       "    }\n",
       "\n",
       "    .dataframe thead th {\n",
       "        text-align: right;\n",
       "    }\n",
       "</style>\n",
       "<table border=\"1\" class=\"dataframe\">\n",
       "  <thead>\n",
       "    <tr style=\"text-align: right;\">\n",
       "      <th></th>\n",
       "      <th>0</th>\n",
       "      <th>1</th>\n",
       "      <th>2</th>\n",
       "    </tr>\n",
       "  </thead>\n",
       "  <tbody>\n",
       "    <tr>\n",
       "      <th>0</th>\n",
       "      <td>0.852997</td>\n",
       "      <td>0.310552</td>\n",
       "      <td>0.150349</td>\n",
       "    </tr>\n",
       "    <tr>\n",
       "      <th>1</th>\n",
       "      <td>0.826463</td>\n",
       "      <td>0.307257</td>\n",
       "      <td>0.150015</td>\n",
       "    </tr>\n",
       "    <tr>\n",
       "      <th>2</th>\n",
       "      <td>0.790582</td>\n",
       "      <td>0.292968</td>\n",
       "      <td>0.150225</td>\n",
       "    </tr>\n",
       "    <tr>\n",
       "      <th>3</th>\n",
       "      <td>0.789234</td>\n",
       "      <td>0.294535</td>\n",
       "      <td>0.151388</td>\n",
       "    </tr>\n",
       "    <tr>\n",
       "      <th>4</th>\n",
       "      <td>0.813727</td>\n",
       "      <td>0.303748</td>\n",
       "      <td>0.153092</td>\n",
       "    </tr>\n",
       "    <tr>\n",
       "      <th>...</th>\n",
       "      <td>...</td>\n",
       "      <td>...</td>\n",
       "      <td>...</td>\n",
       "    </tr>\n",
       "    <tr>\n",
       "      <th>6463</th>\n",
       "      <td>0.386542</td>\n",
       "      <td>0.160024</td>\n",
       "      <td>0.118489</td>\n",
       "    </tr>\n",
       "    <tr>\n",
       "      <th>6464</th>\n",
       "      <td>0.370350</td>\n",
       "      <td>0.153407</td>\n",
       "      <td>0.115027</td>\n",
       "    </tr>\n",
       "    <tr>\n",
       "      <th>6465</th>\n",
       "      <td>0.355485</td>\n",
       "      <td>0.145064</td>\n",
       "      <td>0.112456</td>\n",
       "    </tr>\n",
       "    <tr>\n",
       "      <th>6466</th>\n",
       "      <td>0.342033</td>\n",
       "      <td>0.144490</td>\n",
       "      <td>0.110214</td>\n",
       "    </tr>\n",
       "    <tr>\n",
       "      <th>6467</th>\n",
       "      <td>0.327872</td>\n",
       "      <td>0.148662</td>\n",
       "      <td>0.108483</td>\n",
       "    </tr>\n",
       "  </tbody>\n",
       "</table>\n",
       "<p>6468 rows × 3 columns</p>\n",
       "</div>"
      ],
      "text/plain": [
       "             0         1         2\n",
       "0     0.852997  0.310552  0.150349\n",
       "1     0.826463  0.307257  0.150015\n",
       "2     0.790582  0.292968  0.150225\n",
       "3     0.789234  0.294535  0.151388\n",
       "4     0.813727  0.303748  0.153092\n",
       "...        ...       ...       ...\n",
       "6463  0.386542  0.160024  0.118489\n",
       "6464  0.370350  0.153407  0.115027\n",
       "6465  0.355485  0.145064  0.112456\n",
       "6466  0.342033  0.144490  0.110214\n",
       "6467  0.327872  0.148662  0.108483\n",
       "\n",
       "[6468 rows x 3 columns]"
      ]
     },
     "execution_count": 19,
     "metadata": {},
     "output_type": "execute_result"
    }
   ],
   "source": [
    "min_max = preprocessing.MinMaxScaler(feature_range=(0,1))\n",
    "x = min_max.fit_transform(x)\n",
    "x = pd.DataFrame(x)\n",
    "x"
   ]
  },
  {
   "cell_type": "code",
   "execution_count": 20,
   "metadata": {
    "id": "WOv4Ll1r0UqF"
   },
   "outputs": [],
   "source": [
    "x_train,x_test,y_train,y_test = train_test_split(x,y,random_state=42,test_size=0.2)\n",
    "lr = LinearRegression()\n",
    "model = lr.fit(x_train,y_train)\n",
    "prediction = model.predict(x_test)\n"
   ]
  },
  {
   "cell_type": "code",
   "execution_count": 21,
   "metadata": {
    "colab": {
     "base_uri": "https://localhost:8080/"
    },
    "id": "VeMukMha10Iu",
    "outputId": "db0b1e6d-6e83-4e07-b8f5-93915e3fa79f",
    "scrolled": true
   },
   "outputs": [
    {
     "name": "stdout",
     "output_type": "stream",
     "text": [
      "MSE is :  0.0985465751333441\n",
      "R squared value is :  0.9999703144084231\n"
     ]
    }
   ],
   "source": [
    "from sklearn.metrics import mean_squared_error\n",
    "from sklearn.metrics import r2_score\n",
    "print('MSE is : ',mean_squared_error(y_test,prediction))\n",
    "print('R squared value is : ',r2_score(y_test,prediction))\n"
   ]
  },
  {
   "cell_type": "code",
   "execution_count": 22,
   "metadata": {},
   "outputs": [
    {
     "data": {
      "text/html": [
       "<div>\n",
       "<style scoped>\n",
       "    .dataframe tbody tr th:only-of-type {\n",
       "        vertical-align: middle;\n",
       "    }\n",
       "\n",
       "    .dataframe tbody tr th {\n",
       "        vertical-align: top;\n",
       "    }\n",
       "\n",
       "    .dataframe thead th {\n",
       "        text-align: right;\n",
       "    }\n",
       "</style>\n",
       "<table border=\"1\" class=\"dataframe\">\n",
       "  <thead>\n",
       "    <tr style=\"text-align: right;\">\n",
       "      <th></th>\n",
       "      <th>Year</th>\n",
       "      <th>Air pollution (total) (deaths per 100,000)</th>\n",
       "      <th>Indoor air pollution (deaths per 100,000)</th>\n",
       "      <th>Outdoor particulate matter (deaths per 100,000)</th>\n",
       "      <th>Outdoor ozone pollution (deaths per 100,000)</th>\n",
       "      <th>Entity</th>\n",
       "    </tr>\n",
       "    <tr>\n",
       "      <th>Entity</th>\n",
       "      <th></th>\n",
       "      <th></th>\n",
       "      <th></th>\n",
       "      <th></th>\n",
       "      <th></th>\n",
       "      <th></th>\n",
       "    </tr>\n",
       "  </thead>\n",
       "  <tbody>\n",
       "    <tr>\n",
       "      <th>Papua New Guinea</th>\n",
       "      <td>2003.5</td>\n",
       "      <td>285.494328</td>\n",
       "      <td>258.717975</td>\n",
       "      <td>26.657853</td>\n",
       "      <td>0.194349</td>\n",
       "      <td>Papua New Guinea</td>\n",
       "    </tr>\n",
       "    <tr>\n",
       "      <th>Afghanistan</th>\n",
       "      <td>2003.5</td>\n",
       "      <td>252.842551</td>\n",
       "      <td>203.967377</td>\n",
       "      <td>45.979634</td>\n",
       "      <td>5.797506</td>\n",
       "      <td>Afghanistan</td>\n",
       "    </tr>\n",
       "    <tr>\n",
       "      <th>Oceania</th>\n",
       "      <td>2003.5</td>\n",
       "      <td>225.706140</td>\n",
       "      <td>197.166775</td>\n",
       "      <td>28.363715</td>\n",
       "      <td>0.258772</td>\n",
       "      <td>Oceania</td>\n",
       "    </tr>\n",
       "    <tr>\n",
       "      <th>Central African Republic</th>\n",
       "      <td>2003.5</td>\n",
       "      <td>223.826758</td>\n",
       "      <td>181.785495</td>\n",
       "      <td>38.838389</td>\n",
       "      <td>6.286493</td>\n",
       "      <td>Central African Republic</td>\n",
       "    </tr>\n",
       "    <tr>\n",
       "      <th>Solomon Islands</th>\n",
       "      <td>2003.5</td>\n",
       "      <td>218.664031</td>\n",
       "      <td>199.800174</td>\n",
       "      <td>18.840167</td>\n",
       "      <td>0.039209</td>\n",
       "      <td>Solomon Islands</td>\n",
       "    </tr>\n",
       "    <tr>\n",
       "      <th>...</th>\n",
       "      <td>...</td>\n",
       "      <td>...</td>\n",
       "      <td>...</td>\n",
       "      <td>...</td>\n",
       "      <td>...</td>\n",
       "      <td>...</td>\n",
       "    </tr>\n",
       "    <tr>\n",
       "      <th>Japan</th>\n",
       "      <td>2003.5</td>\n",
       "      <td>17.182493</td>\n",
       "      <td>0.086986</td>\n",
       "      <td>15.752146</td>\n",
       "      <td>1.623360</td>\n",
       "      <td>Japan</td>\n",
       "    </tr>\n",
       "    <tr>\n",
       "      <th>Finland</th>\n",
       "      <td>2003.5</td>\n",
       "      <td>16.630969</td>\n",
       "      <td>0.573122</td>\n",
       "      <td>15.284359</td>\n",
       "      <td>0.862992</td>\n",
       "      <td>Finland</td>\n",
       "    </tr>\n",
       "    <tr>\n",
       "      <th>Iceland</th>\n",
       "      <td>2003.5</td>\n",
       "      <td>16.506321</td>\n",
       "      <td>0.480580</td>\n",
       "      <td>14.610092</td>\n",
       "      <td>1.596746</td>\n",
       "      <td>Iceland</td>\n",
       "    </tr>\n",
       "    <tr>\n",
       "      <th>New Zealand</th>\n",
       "      <td>2003.5</td>\n",
       "      <td>15.925364</td>\n",
       "      <td>0.290862</td>\n",
       "      <td>15.568717</td>\n",
       "      <td>0.072751</td>\n",
       "      <td>New Zealand</td>\n",
       "    </tr>\n",
       "    <tr>\n",
       "      <th>Sweden</th>\n",
       "      <td>2003.5</td>\n",
       "      <td>15.728593</td>\n",
       "      <td>0.617477</td>\n",
       "      <td>14.059741</td>\n",
       "      <td>1.177272</td>\n",
       "      <td>Sweden</td>\n",
       "    </tr>\n",
       "  </tbody>\n",
       "</table>\n",
       "<p>231 rows × 6 columns</p>\n",
       "</div>"
      ],
      "text/plain": [
       "                            Year  Air pollution (total) (deaths per 100,000)  \\\n",
       "Entity                                                                         \n",
       "Papua New Guinea          2003.5                                  285.494328   \n",
       "Afghanistan               2003.5                                  252.842551   \n",
       "Oceania                   2003.5                                  225.706140   \n",
       "Central African Republic  2003.5                                  223.826758   \n",
       "Solomon Islands           2003.5                                  218.664031   \n",
       "...                          ...                                         ...   \n",
       "Japan                     2003.5                                   17.182493   \n",
       "Finland                   2003.5                                   16.630969   \n",
       "Iceland                   2003.5                                   16.506321   \n",
       "New Zealand               2003.5                                   15.925364   \n",
       "Sweden                    2003.5                                   15.728593   \n",
       "\n",
       "                          Indoor air pollution (deaths per 100,000)  \\\n",
       "Entity                                                                \n",
       "Papua New Guinea                                         258.717975   \n",
       "Afghanistan                                              203.967377   \n",
       "Oceania                                                  197.166775   \n",
       "Central African Republic                                 181.785495   \n",
       "Solomon Islands                                          199.800174   \n",
       "...                                                             ...   \n",
       "Japan                                                      0.086986   \n",
       "Finland                                                    0.573122   \n",
       "Iceland                                                    0.480580   \n",
       "New Zealand                                                0.290862   \n",
       "Sweden                                                     0.617477   \n",
       "\n",
       "                          Outdoor particulate matter (deaths per 100,000)  \\\n",
       "Entity                                                                      \n",
       "Papua New Guinea                                                26.657853   \n",
       "Afghanistan                                                     45.979634   \n",
       "Oceania                                                         28.363715   \n",
       "Central African Republic                                        38.838389   \n",
       "Solomon Islands                                                 18.840167   \n",
       "...                                                                   ...   \n",
       "Japan                                                           15.752146   \n",
       "Finland                                                         15.284359   \n",
       "Iceland                                                         14.610092   \n",
       "New Zealand                                                     15.568717   \n",
       "Sweden                                                          14.059741   \n",
       "\n",
       "                          Outdoor ozone pollution (deaths per 100,000)  \\\n",
       "Entity                                                                   \n",
       "Papua New Guinea                                              0.194349   \n",
       "Afghanistan                                                   5.797506   \n",
       "Oceania                                                       0.258772   \n",
       "Central African Republic                                      6.286493   \n",
       "Solomon Islands                                               0.039209   \n",
       "...                                                                ...   \n",
       "Japan                                                         1.623360   \n",
       "Finland                                                       0.862992   \n",
       "Iceland                                                       1.596746   \n",
       "New Zealand                                                   0.072751   \n",
       "Sweden                                                        1.177272   \n",
       "\n",
       "                                            Entity  \n",
       "Entity                                              \n",
       "Papua New Guinea                  Papua New Guinea  \n",
       "Afghanistan                            Afghanistan  \n",
       "Oceania                                    Oceania  \n",
       "Central African Republic  Central African Republic  \n",
       "Solomon Islands                    Solomon Islands  \n",
       "...                                            ...  \n",
       "Japan                                        Japan  \n",
       "Finland                                    Finland  \n",
       "Iceland                                    Iceland  \n",
       "New Zealand                            New Zealand  \n",
       "Sweden                                      Sweden  \n",
       "\n",
       "[231 rows x 6 columns]"
      ]
     },
     "execution_count": 22,
     "metadata": {},
     "output_type": "execute_result"
    }
   ],
   "source": [
    "entity_df = data.groupby('Entity').mean().sort_values('Air pollution (total) (deaths per 100,000)', ascending=False)\n",
    "entity_df['Entity'] = entity_df.index\n",
    "entity_df"
   ]
  },
  {
   "cell_type": "code",
   "execution_count": 23,
   "metadata": {},
   "outputs": [
    {
     "data": {
      "image/png": "[encoded data removed]",
      "text/plain": [
       "<Figure size 432x288 with 1 Axes>"
      ]
     },
     "metadata": {
      "needs_background": "light"
     },
     "output_type": "display_data"
    }
   ],
   "source": [
    "sns.barplot(x=\"Entity\", y=\"Air pollution (total) (deaths per 100,000)\", data=entity_df.head(10))\n",
    "plt.title(\"Country ranking\")\n",
    "plt.show()"
   ]
  },
  {
   "cell_type": "code",
   "execution_count": 24,
   "metadata": {},
   "outputs": [
    {
     "data": {
      "text/plain": [
       "<AxesSubplot:xlabel='Year'>"
      ]
     },
     "execution_count": 24,
     "metadata": {},
     "output_type": "execute_result"
    },
    {
     "data": {
      "image/png": "[encoded data removed]",
      "text/plain": [
       "<Figure size 432x288 with 1 Axes>"
      ]
     },
     "metadata": {
      "needs_background": "light"
     },
     "output_type": "display_data"
    }
   ],
   "source": [
    "df = data.pivot_table(index = 'Year',  values = data.columns[2:], aggfunc = np.sum )\n",
    "#df['Year'] = df.index\n",
    "df.reset_index(level = 0, inplace = True)\n",
    "df.plot(x = 'Year', kind = 'bar' )"
   ]
  },
  {
   "cell_type": "code",
   "execution_count": 25,
   "metadata": {},
   "outputs": [
    {
     "data": {
      "text/plain": [
       "Index(['Year', 'Air pollution (total) (deaths per 100,000)',\n",
       "       'Indoor air pollution (deaths per 100,000)',\n",
       "       'Outdoor ozone pollution (deaths per 100,000)',\n",
       "       'Outdoor particulate matter (deaths per 100,000)'],\n",
       "      dtype='object')"
      ]
     },
     "execution_count": 25,
     "metadata": {},
     "output_type": "execute_result"
    }
   ],
   "source": [
    "df.columns"
   ]
  },
  {
   "cell_type": "code",
   "execution_count": 26,
   "metadata": {},
   "outputs": [
    {
     "data": {
      "text/plain": [
       "<AxesSubplot:xlabel='Year', ylabel='Outdoor particulate matter (deaths per 100,000)'>"
      ]
     },
     "execution_count": 26,
     "metadata": {},
     "output_type": "execute_result"
    },
    {
     "data": {
      "image/png": "[encoded data removed]",
      "text/plain": [
       "<Figure size 432x288 with 1 Axes>"
      ]
     },
     "metadata": {
      "needs_background": "light"
     },
     "output_type": "display_data"
    },
    {
     "data": {
      "image/png": "[encoded data removed]",
      "text/plain": [
       "<Figure size 432x288 with 1 Axes>"
      ]
     },
     "metadata": {
      "needs_background": "light"
     },
     "output_type": "display_data"
    },
    {
     "data": {
      "image/png": "[encoded data removed]",
      "text/plain": [
       "<Figure size 432x288 with 1 Axes>"
      ]
     },
     "metadata": {
      "needs_background": "light"
     },
     "output_type": "display_data"
    },
    {
     "data": {
      "image/png": "[encoded data removed]",
      "text/plain": [
       "<Figure size 432x288 with 1 Axes>"
      ]
     },
     "metadata": {
      "needs_background": "light"
     },
     "output_type": "display_data"
    }
   ],
   "source": [
    "#Confirming the relationship b/w Year, deaths due to different kind of pollutions\n",
    "df.plot(x = 'Year', y = df.columns[1], kind = 'scatter' )\n",
    "df.plot(x = 'Year', y = df.columns[2], kind = 'scatter' )\n",
    "df.plot(x = 'Year', y = df.columns[3], kind = 'scatter' )\n",
    "df.plot(x = 'Year', y = df.columns[4], kind = 'scatter')"
   ]
  },
  {
   "cell_type": "code",
   "execution_count": 27,
   "metadata": {},
   "outputs": [
    {
     "data": {
      "text/plain": [
       "<AxesSubplot:xlabel='Year', ylabel='Outdoor particulate matter (deaths per 100,000)'>"
      ]
     },
     "execution_count": 27,
     "metadata": {},
     "output_type": "execute_result"
    },
    {
     "data": {
      "image/png": "[encoded data removed]",
      "text/plain": [
       "<Figure size 432x288 with 1 Axes>"
      ]
     },
     "metadata": {
      "needs_background": "light"
     },
     "output_type": "display_data"
    },
    {
     "data": {
      "image/png": "[encoded data removed]",
      "text/plain": [
       "<Figure size 432x288 with 1 Axes>"
      ]
     },
     "metadata": {
      "needs_background": "light"
     },
     "output_type": "display_data"
    },
    {
     "data": {
      "image/png": "[encoded data removed]",
      "text/plain": [
       "<Figure size 432x288 with 1 Axes>"
      ]
     },
     "metadata": {
      "needs_background": "light"
     },
     "output_type": "display_data"
    },
    {
     "data": {
      "image/png": "[encoded data removed]",
      "text/plain": [
       "<Figure size 432x288 with 1 Axes>"
      ]
     },
     "metadata": {
      "needs_background": "light"
     },
     "output_type": "display_data"
    }
   ],
   "source": [
    "#Confirming the relationship b/w Year, deaths due to different kind of pollutions\n",
    "data.plot(x = 'Year', y = data.columns[1], kind = 'scatter' )\n",
    "data.plot(x = 'Year', y = data.columns[2], kind = 'scatter' )\n",
    "data.plot(x = 'Year', y = data.columns[3], kind = 'scatter' )\n",
    "data.plot(x = 'Year', y = data.columns[4], kind = 'scatter') "
   ]
  },
  {
   "cell_type": "code",
   "execution_count": 28,
   "metadata": {},
   "outputs": [
    {
     "data": {
      "image/png": "[encoded data removed]",
      "text/plain": [
       "<Figure size 432x288 with 1 Axes>"
      ]
     },
     "metadata": {
      "needs_background": "light"
     },
     "output_type": "display_data"
    }
   ],
   "source": [
    "fig = sns.lineplot(x=\"Year\", y=\"Air pollution (total) (deaths per 100,000)\", data=data)\n",
    "fig = sns.lineplot(x=\"Year\", y=\"Indoor air pollution (deaths per 100,000)\", data=data)\n",
    "fig = sns.lineplot(x=\"Year\", y=\"Outdoor particulate matter (deaths per 100,000)\", data=data)\n",
    "fig = sns.lineplot(x=\"Year\", y=\"Outdoor ozone pollution (deaths per 100,000)\", data=data)\n",
    "\n",
    "plt.title(\"World wide death rates from air pollution\")\n",
    "plt.show()"
   ]
  },
  {
   "cell_type": "code",
   "execution_count": 29,
   "metadata": {},
   "outputs": [
    {
     "data": {
      "image/png": "[encoded data removed]",
      "text/plain": [
       "<Figure size 432x288 with 1 Axes>"
      ]
     },
     "metadata": {
      "needs_background": "light"
     },
     "output_type": "display_data"
    }
   ],
   "source": [
    "fig = sns.lineplot(x=\"Year\", y=\"Air pollution (total) (deaths per 100,000)\", data=data)\n",
    "\n",
    "plt.title(\"World wide death rates from air pollution\")\n",
    "plt.show()"
   ]
  },
  {
   "cell_type": "code",
   "execution_count": 30,
   "metadata": {},
   "outputs": [
    {
     "data": {
      "text/html": [
       "<div>\n",
       "<style scoped>\n",
       "    .dataframe tbody tr th:only-of-type {\n",
       "        vertical-align: middle;\n",
       "    }\n",
       "\n",
       "    .dataframe tbody tr th {\n",
       "        vertical-align: top;\n",
       "    }\n",
       "\n",
       "    .dataframe thead th {\n",
       "        text-align: right;\n",
       "    }\n",
       "</style>\n",
       "<table border=\"1\" class=\"dataframe\">\n",
       "  <thead>\n",
       "    <tr style=\"text-align: right;\">\n",
       "      <th></th>\n",
       "      <th>Air pollution (total) (deaths per 100,000)</th>\n",
       "      <th>Indoor air pollution (deaths per 100,000)</th>\n",
       "      <th>Outdoor particulate matter (deaths per 100,000)</th>\n",
       "      <th>Outdoor ozone pollution (deaths per 100,000)</th>\n",
       "      <th>Entity</th>\n",
       "    </tr>\n",
       "    <tr>\n",
       "      <th>Year</th>\n",
       "      <th></th>\n",
       "      <th></th>\n",
       "      <th></th>\n",
       "      <th></th>\n",
       "      <th></th>\n",
       "    </tr>\n",
       "  </thead>\n",
       "  <tbody>\n",
       "    <tr>\n",
       "      <th>1990</th>\n",
       "      <td>107.089841</td>\n",
       "      <td>68.312194</td>\n",
       "      <td>36.261170</td>\n",
       "      <td>4.015773</td>\n",
       "      <td>1990</td>\n",
       "    </tr>\n",
       "    <tr>\n",
       "      <th>1991</th>\n",
       "      <td>105.921658</td>\n",
       "      <td>66.869724</td>\n",
       "      <td>36.545388</td>\n",
       "      <td>3.984672</td>\n",
       "      <td>1991</td>\n",
       "    </tr>\n",
       "    <tr>\n",
       "      <th>1992</th>\n",
       "      <td>105.099761</td>\n",
       "      <td>65.680723</td>\n",
       "      <td>36.913712</td>\n",
       "      <td>3.964914</td>\n",
       "      <td>1992</td>\n",
       "    </tr>\n",
       "    <tr>\n",
       "      <th>1993</th>\n",
       "      <td>104.530294</td>\n",
       "      <td>64.615918</td>\n",
       "      <td>37.406590</td>\n",
       "      <td>3.946316</td>\n",
       "      <td>1993</td>\n",
       "    </tr>\n",
       "    <tr>\n",
       "      <th>1994</th>\n",
       "      <td>103.658924</td>\n",
       "      <td>63.614777</td>\n",
       "      <td>37.545409</td>\n",
       "      <td>3.914225</td>\n",
       "      <td>1994</td>\n",
       "    </tr>\n",
       "    <tr>\n",
       "      <th>1995</th>\n",
       "      <td>102.178770</td>\n",
       "      <td>62.375173</td>\n",
       "      <td>37.318275</td>\n",
       "      <td>3.873288</td>\n",
       "      <td>1995</td>\n",
       "    </tr>\n",
       "    <tr>\n",
       "      <th>1996</th>\n",
       "      <td>100.949738</td>\n",
       "      <td>61.072006</td>\n",
       "      <td>37.417970</td>\n",
       "      <td>3.824122</td>\n",
       "      <td>1996</td>\n",
       "    </tr>\n",
       "    <tr>\n",
       "      <th>1997</th>\n",
       "      <td>99.531074</td>\n",
       "      <td>59.679681</td>\n",
       "      <td>37.416956</td>\n",
       "      <td>3.776676</td>\n",
       "      <td>1997</td>\n",
       "    </tr>\n",
       "    <tr>\n",
       "      <th>1998</th>\n",
       "      <td>97.961221</td>\n",
       "      <td>58.288431</td>\n",
       "      <td>37.262728</td>\n",
       "      <td>3.727547</td>\n",
       "      <td>1998</td>\n",
       "    </tr>\n",
       "    <tr>\n",
       "      <th>1999</th>\n",
       "      <td>96.141187</td>\n",
       "      <td>56.813680</td>\n",
       "      <td>36.958366</td>\n",
       "      <td>3.649193</td>\n",
       "      <td>1999</td>\n",
       "    </tr>\n",
       "    <tr>\n",
       "      <th>2000</th>\n",
       "      <td>94.136833</td>\n",
       "      <td>55.448578</td>\n",
       "      <td>36.362504</td>\n",
       "      <td>3.570941</td>\n",
       "      <td>2000</td>\n",
       "    </tr>\n",
       "    <tr>\n",
       "      <th>2001</th>\n",
       "      <td>92.312278</td>\n",
       "      <td>53.818590</td>\n",
       "      <td>36.215850</td>\n",
       "      <td>3.492535</td>\n",
       "      <td>2001</td>\n",
       "    </tr>\n",
       "    <tr>\n",
       "      <th>2002</th>\n",
       "      <td>90.862931</td>\n",
       "      <td>52.405749</td>\n",
       "      <td>36.207134</td>\n",
       "      <td>3.441083</td>\n",
       "      <td>2002</td>\n",
       "    </tr>\n",
       "    <tr>\n",
       "      <th>2003</th>\n",
       "      <td>89.404137</td>\n",
       "      <td>51.093677</td>\n",
       "      <td>36.086295</td>\n",
       "      <td>3.390936</td>\n",
       "      <td>2003</td>\n",
       "    </tr>\n",
       "    <tr>\n",
       "      <th>2004</th>\n",
       "      <td>87.503509</td>\n",
       "      <td>49.713497</td>\n",
       "      <td>35.615380</td>\n",
       "      <td>3.306608</td>\n",
       "      <td>2004</td>\n",
       "    </tr>\n",
       "    <tr>\n",
       "      <th>2005</th>\n",
       "      <td>85.691292</td>\n",
       "      <td>48.313814</td>\n",
       "      <td>35.237155</td>\n",
       "      <td>3.241187</td>\n",
       "      <td>2005</td>\n",
       "    </tr>\n",
       "    <tr>\n",
       "      <th>2006</th>\n",
       "      <td>83.934835</td>\n",
       "      <td>46.825171</td>\n",
       "      <td>35.020987</td>\n",
       "      <td>3.159885</td>\n",
       "      <td>2006</td>\n",
       "    </tr>\n",
       "    <tr>\n",
       "      <th>2007</th>\n",
       "      <td>82.160667</td>\n",
       "      <td>45.313340</td>\n",
       "      <td>34.794159</td>\n",
       "      <td>3.099871</td>\n",
       "      <td>2007</td>\n",
       "    </tr>\n",
       "    <tr>\n",
       "      <th>2008</th>\n",
       "      <td>80.496200</td>\n",
       "      <td>43.922472</td>\n",
       "      <td>34.550931</td>\n",
       "      <td>3.047797</td>\n",
       "      <td>2008</td>\n",
       "    </tr>\n",
       "    <tr>\n",
       "      <th>2009</th>\n",
       "      <td>78.790268</td>\n",
       "      <td>42.628554</td>\n",
       "      <td>34.162344</td>\n",
       "      <td>3.004844</td>\n",
       "      <td>2009</td>\n",
       "    </tr>\n",
       "    <tr>\n",
       "      <th>2010</th>\n",
       "      <td>77.064985</td>\n",
       "      <td>41.348448</td>\n",
       "      <td>33.738364</td>\n",
       "      <td>2.964486</td>\n",
       "      <td>2010</td>\n",
       "    </tr>\n",
       "    <tr>\n",
       "      <th>2011</th>\n",
       "      <td>75.535045</td>\n",
       "      <td>39.909481</td>\n",
       "      <td>33.670358</td>\n",
       "      <td>2.923970</td>\n",
       "      <td>2011</td>\n",
       "    </tr>\n",
       "    <tr>\n",
       "      <th>2012</th>\n",
       "      <td>73.435749</td>\n",
       "      <td>38.744867</td>\n",
       "      <td>32.748811</td>\n",
       "      <td>2.883384</td>\n",
       "      <td>2012</td>\n",
       "    </tr>\n",
       "    <tr>\n",
       "      <th>2013</th>\n",
       "      <td>71.687582</td>\n",
       "      <td>37.627485</td>\n",
       "      <td>32.133318</td>\n",
       "      <td>2.849438</td>\n",
       "      <td>2013</td>\n",
       "    </tr>\n",
       "    <tr>\n",
       "      <th>2014</th>\n",
       "      <td>69.858609</td>\n",
       "      <td>36.577851</td>\n",
       "      <td>31.352917</td>\n",
       "      <td>2.831798</td>\n",
       "      <td>2014</td>\n",
       "    </tr>\n",
       "    <tr>\n",
       "      <th>2015</th>\n",
       "      <td>69.186114</td>\n",
       "      <td>35.118477</td>\n",
       "      <td>32.132401</td>\n",
       "      <td>2.837229</td>\n",
       "      <td>2015</td>\n",
       "    </tr>\n",
       "    <tr>\n",
       "      <th>2016</th>\n",
       "      <td>67.262836</td>\n",
       "      <td>34.227205</td>\n",
       "      <td>31.090073</td>\n",
       "      <td>2.828902</td>\n",
       "      <td>2016</td>\n",
       "    </tr>\n",
       "    <tr>\n",
       "      <th>2017</th>\n",
       "      <td>66.127983</td>\n",
       "      <td>33.122548</td>\n",
       "      <td>31.053957</td>\n",
       "      <td>2.830573</td>\n",
       "      <td>2017</td>\n",
       "    </tr>\n",
       "  </tbody>\n",
       "</table>\n",
       "</div>"
      ],
      "text/plain": [
       "      Air pollution (total) (deaths per 100,000)  \\\n",
       "Year                                               \n",
       "1990                                  107.089841   \n",
       "1991                                  105.921658   \n",
       "1992                                  105.099761   \n",
       "1993                                  104.530294   \n",
       "1994                                  103.658924   \n",
       "1995                                  102.178770   \n",
       "1996                                  100.949738   \n",
       "1997                                   99.531074   \n",
       "1998                                   97.961221   \n",
       "1999                                   96.141187   \n",
       "2000                                   94.136833   \n",
       "2001                                   92.312278   \n",
       "2002                                   90.862931   \n",
       "2003                                   89.404137   \n",
       "2004                                   87.503509   \n",
       "2005                                   85.691292   \n",
       "2006                                   83.934835   \n",
       "2007                                   82.160667   \n",
       "2008                                   80.496200   \n",
       "2009                                   78.790268   \n",
       "2010                                   77.064985   \n",
       "2011                                   75.535045   \n",
       "2012                                   73.435749   \n",
       "2013                                   71.687582   \n",
       "2014                                   69.858609   \n",
       "2015                                   69.186114   \n",
       "2016                                   67.262836   \n",
       "2017                                   66.127983   \n",
       "\n",
       "      Indoor air pollution (deaths per 100,000)  \\\n",
       "Year                                              \n",
       "1990                                  68.312194   \n",
       "1991                                  66.869724   \n",
       "1992                                  65.680723   \n",
       "1993                                  64.615918   \n",
       "1994                                  63.614777   \n",
       "1995                                  62.375173   \n",
       "1996                                  61.072006   \n",
       "1997                                  59.679681   \n",
       "1998                                  58.288431   \n",
       "1999                                  56.813680   \n",
       "2000                                  55.448578   \n",
       "2001                                  53.818590   \n",
       "2002                                  52.405749   \n",
       "2003                                  51.093677   \n",
       "2004                                  49.713497   \n",
       "2005                                  48.313814   \n",
       "2006                                  46.825171   \n",
       "2007                                  45.313340   \n",
       "2008                                  43.922472   \n",
       "2009                                  42.628554   \n",
       "2010                                  41.348448   \n",
       "2011                                  39.909481   \n",
       "2012                                  38.744867   \n",
       "2013                                  37.627485   \n",
       "2014                                  36.577851   \n",
       "2015                                  35.118477   \n",
       "2016                                  34.227205   \n",
       "2017                                  33.122548   \n",
       "\n",
       "      Outdoor particulate matter (deaths per 100,000)  \\\n",
       "Year                                                    \n",
       "1990                                        36.261170   \n",
       "1991                                        36.545388   \n",
       "1992                                        36.913712   \n",
       "1993                                        37.406590   \n",
       "1994                                        37.545409   \n",
       "1995                                        37.318275   \n",
       "1996                                        37.417970   \n",
       "1997                                        37.416956   \n",
       "1998                                        37.262728   \n",
       "1999                                        36.958366   \n",
       "2000                                        36.362504   \n",
       "2001                                        36.215850   \n",
       "2002                                        36.207134   \n",
       "2003                                        36.086295   \n",
       "2004                                        35.615380   \n",
       "2005                                        35.237155   \n",
       "2006                                        35.020987   \n",
       "2007                                        34.794159   \n",
       "2008                                        34.550931   \n",
       "2009                                        34.162344   \n",
       "2010                                        33.738364   \n",
       "2011                                        33.670358   \n",
       "2012                                        32.748811   \n",
       "2013                                        32.133318   \n",
       "2014                                        31.352917   \n",
       "2015                                        32.132401   \n",
       "2016                                        31.090073   \n",
       "2017                                        31.053957   \n",
       "\n",
       "      Outdoor ozone pollution (deaths per 100,000)  Entity  \n",
       "Year                                                        \n",
       "1990                                      4.015773    1990  \n",
       "1991                                      3.984672    1991  \n",
       "1992                                      3.964914    1992  \n",
       "1993                                      3.946316    1993  \n",
       "1994                                      3.914225    1994  \n",
       "1995                                      3.873288    1995  \n",
       "1996                                      3.824122    1996  \n",
       "1997                                      3.776676    1997  \n",
       "1998                                      3.727547    1998  \n",
       "1999                                      3.649193    1999  \n",
       "2000                                      3.570941    2000  \n",
       "2001                                      3.492535    2001  \n",
       "2002                                      3.441083    2002  \n",
       "2003                                      3.390936    2003  \n",
       "2004                                      3.306608    2004  \n",
       "2005                                      3.241187    2005  \n",
       "2006                                      3.159885    2006  \n",
       "2007                                      3.099871    2007  \n",
       "2008                                      3.047797    2008  \n",
       "2009                                      3.004844    2009  \n",
       "2010                                      2.964486    2010  \n",
       "2011                                      2.923970    2011  \n",
       "2012                                      2.883384    2012  \n",
       "2013                                      2.849438    2013  \n",
       "2014                                      2.831798    2014  \n",
       "2015                                      2.837229    2015  \n",
       "2016                                      2.828902    2016  \n",
       "2017                                      2.830573    2017  "
      ]
     },
     "execution_count": 30,
     "metadata": {},
     "output_type": "execute_result"
    }
   ],
   "source": [
    "univar = data.groupby('Year').mean().sort_values('Air pollution (total) (deaths per 100,000)', ascending=False)\n",
    "univar['Entity'] = univar.index\n",
    "univar"
   ]
  },
  {
   "cell_type": "code",
   "execution_count": 31,
   "metadata": {},
   "outputs": [
    {
     "name": "stderr",
     "output_type": "stream",
     "text": [
      "C:\\Users\\SUHAIR\\anaconda3\\ANACONDA\\lib\\site-packages\\seaborn\\distributions.py:2557: FutureWarning: `distplot` is a deprecated function and will be removed in a future version. Please adapt your code to use either `displot` (a figure-level function with similar flexibility) or `histplot` (an axes-level function for histograms).\n",
      "  warnings.warn(msg, FutureWarning)\n",
      "C:\\Users\\SUHAIR\\anaconda3\\ANACONDA\\lib\\site-packages\\seaborn\\distributions.py:2557: FutureWarning: `distplot` is a deprecated function and will be removed in a future version. Please adapt your code to use either `displot` (a figure-level function with similar flexibility) or `histplot` (an axes-level function for histograms).\n",
      "  warnings.warn(msg, FutureWarning)\n",
      "C:\\Users\\SUHAIR\\anaconda3\\ANACONDA\\lib\\site-packages\\seaborn\\distributions.py:2557: FutureWarning: `distplot` is a deprecated function and will be removed in a future version. Please adapt your code to use either `displot` (a figure-level function with similar flexibility) or `histplot` (an axes-level function for histograms).\n",
      "  warnings.warn(msg, FutureWarning)\n",
      "C:\\Users\\SUHAIR\\anaconda3\\ANACONDA\\lib\\site-packages\\seaborn\\distributions.py:2557: FutureWarning: `distplot` is a deprecated function and will be removed in a future version. Please adapt your code to use either `displot` (a figure-level function with similar flexibility) or `histplot` (an axes-level function for histograms).\n",
      "  warnings.warn(msg, FutureWarning)\n",
      "C:\\Users\\SUHAIR\\anaconda3\\ANACONDA\\lib\\site-packages\\seaborn\\distributions.py:2557: FutureWarning: `distplot` is a deprecated function and will be removed in a future version. Please adapt your code to use either `displot` (a figure-level function with similar flexibility) or `histplot` (an axes-level function for histograms).\n",
      "  warnings.warn(msg, FutureWarning)\n",
      "C:\\Users\\SUHAIR\\anaconda3\\ANACONDA\\lib\\site-packages\\seaborn\\distributions.py:2557: FutureWarning: `distplot` is a deprecated function and will be removed in a future version. Please adapt your code to use either `displot` (a figure-level function with similar flexibility) or `histplot` (an axes-level function for histograms).\n",
      "  warnings.warn(msg, FutureWarning)\n",
      "C:\\Users\\SUHAIR\\anaconda3\\ANACONDA\\lib\\site-packages\\seaborn\\distributions.py:2557: FutureWarning: `distplot` is a deprecated function and will be removed in a future version. Please adapt your code to use either `displot` (a figure-level function with similar flexibility) or `histplot` (an axes-level function for histograms).\n",
      "  warnings.warn(msg, FutureWarning)\n",
      "C:\\Users\\SUHAIR\\anaconda3\\ANACONDA\\lib\\site-packages\\seaborn\\distributions.py:2557: FutureWarning: `distplot` is a deprecated function and will be removed in a future version. Please adapt your code to use either `displot` (a figure-level function with similar flexibility) or `histplot` (an axes-level function for histograms).\n",
      "  warnings.warn(msg, FutureWarning)\n",
      "C:\\Users\\SUHAIR\\anaconda3\\ANACONDA\\lib\\site-packages\\seaborn\\distributions.py:2557: FutureWarning: `distplot` is a deprecated function and will be removed in a future version. Please adapt your code to use either `displot` (a figure-level function with similar flexibility) or `histplot` (an axes-level function for histograms).\n",
      "  warnings.warn(msg, FutureWarning)\n",
      "C:\\Users\\SUHAIR\\anaconda3\\ANACONDA\\lib\\site-packages\\seaborn\\distributions.py:2557: FutureWarning: `distplot` is a deprecated function and will be removed in a future version. Please adapt your code to use either `displot` (a figure-level function with similar flexibility) or `histplot` (an axes-level function for histograms).\n",
      "  warnings.warn(msg, FutureWarning)\n",
      "C:\\Users\\SUHAIR\\anaconda3\\ANACONDA\\lib\\site-packages\\seaborn\\distributions.py:2557: FutureWarning: `distplot` is a deprecated function and will be removed in a future version. Please adapt your code to use either `displot` (a figure-level function with similar flexibility) or `histplot` (an axes-level function for histograms).\n",
      "  warnings.warn(msg, FutureWarning)\n",
      "C:\\Users\\SUHAIR\\anaconda3\\ANACONDA\\lib\\site-packages\\seaborn\\distributions.py:2557: FutureWarning: `distplot` is a deprecated function and will be removed in a future version. Please adapt your code to use either `displot` (a figure-level function with similar flexibility) or `histplot` (an axes-level function for histograms).\n",
      "  warnings.warn(msg, FutureWarning)\n",
      "C:\\Users\\SUHAIR\\anaconda3\\ANACONDA\\lib\\site-packages\\seaborn\\distributions.py:2557: FutureWarning: `distplot` is a deprecated function and will be removed in a future version. Please adapt your code to use either `displot` (a figure-level function with similar flexibility) or `histplot` (an axes-level function for histograms).\n",
      "  warnings.warn(msg, FutureWarning)\n",
      "C:\\Users\\SUHAIR\\anaconda3\\ANACONDA\\lib\\site-packages\\seaborn\\distributions.py:2557: FutureWarning: `distplot` is a deprecated function and will be removed in a future version. Please adapt your code to use either `displot` (a figure-level function with similar flexibility) or `histplot` (an axes-level function for histograms).\n",
      "  warnings.warn(msg, FutureWarning)\n",
      "C:\\Users\\SUHAIR\\anaconda3\\ANACONDA\\lib\\site-packages\\seaborn\\distributions.py:2557: FutureWarning: `distplot` is a deprecated function and will be removed in a future version. Please adapt your code to use either `displot` (a figure-level function with similar flexibility) or `histplot` (an axes-level function for histograms).\n",
      "  warnings.warn(msg, FutureWarning)\n",
      "C:\\Users\\SUHAIR\\anaconda3\\ANACONDA\\lib\\site-packages\\seaborn\\distributions.py:2557: FutureWarning: `distplot` is a deprecated function and will be removed in a future version. Please adapt your code to use either `displot` (a figure-level function with similar flexibility) or `histplot` (an axes-level function for histograms).\n",
      "  warnings.warn(msg, FutureWarning)\n",
      "C:\\Users\\SUHAIR\\anaconda3\\ANACONDA\\lib\\site-packages\\seaborn\\distributions.py:2557: FutureWarning: `distplot` is a deprecated function and will be removed in a future version. Please adapt your code to use either `displot` (a figure-level function with similar flexibility) or `histplot` (an axes-level function for histograms).\n",
      "  warnings.warn(msg, FutureWarning)\n",
      "C:\\Users\\SUHAIR\\anaconda3\\ANACONDA\\lib\\site-packages\\seaborn\\distributions.py:2557: FutureWarning: `distplot` is a deprecated function and will be removed in a future version. Please adapt your code to use either `displot` (a figure-level function with similar flexibility) or `histplot` (an axes-level function for histograms).\n",
      "  warnings.warn(msg, FutureWarning)\n",
      "C:\\Users\\SUHAIR\\anaconda3\\ANACONDA\\lib\\site-packages\\seaborn\\distributions.py:2557: FutureWarning: `distplot` is a deprecated function and will be removed in a future version. Please adapt your code to use either `displot` (a figure-level function with similar flexibility) or `histplot` (an axes-level function for histograms).\n",
      "  warnings.warn(msg, FutureWarning)\n",
      "C:\\Users\\SUHAIR\\anaconda3\\ANACONDA\\lib\\site-packages\\seaborn\\distributions.py:2557: FutureWarning: `distplot` is a deprecated function and will be removed in a future version. Please adapt your code to use either `displot` (a figure-level function with similar flexibility) or `histplot` (an axes-level function for histograms).\n",
      "  warnings.warn(msg, FutureWarning)\n",
      "C:\\Users\\SUHAIR\\anaconda3\\ANACONDA\\lib\\site-packages\\seaborn\\distributions.py:2557: FutureWarning: `distplot` is a deprecated function and will be removed in a future version. Please adapt your code to use either `displot` (a figure-level function with similar flexibility) or `histplot` (an axes-level function for histograms).\n",
      "  warnings.warn(msg, FutureWarning)\n",
      "C:\\Users\\SUHAIR\\anaconda3\\ANACONDA\\lib\\site-packages\\seaborn\\distributions.py:2557: FutureWarning: `distplot` is a deprecated function and will be removed in a future version. Please adapt your code to use either `displot` (a figure-level function with similar flexibility) or `histplot` (an axes-level function for histograms).\n",
      "  warnings.warn(msg, FutureWarning)\n",
      "C:\\Users\\SUHAIR\\anaconda3\\ANACONDA\\lib\\site-packages\\seaborn\\distributions.py:2557: FutureWarning: `distplot` is a deprecated function and will be removed in a future version. Please adapt your code to use either `displot` (a figure-level function with similar flexibility) or `histplot` (an axes-level function for histograms).\n",
      "  warnings.warn(msg, FutureWarning)\n",
      "C:\\Users\\SUHAIR\\anaconda3\\ANACONDA\\lib\\site-packages\\seaborn\\distributions.py:2557: FutureWarning: `distplot` is a deprecated function and will be removed in a future version. Please adapt your code to use either `displot` (a figure-level function with similar flexibility) or `histplot` (an axes-level function for histograms).\n",
      "  warnings.warn(msg, FutureWarning)\n",
      "C:\\Users\\SUHAIR\\anaconda3\\ANACONDA\\lib\\site-packages\\seaborn\\distributions.py:2557: FutureWarning: `distplot` is a deprecated function and will be removed in a future version. Please adapt your code to use either `displot` (a figure-level function with similar flexibility) or `histplot` (an axes-level function for histograms).\n",
      "  warnings.warn(msg, FutureWarning)\n",
      "C:\\Users\\SUHAIR\\anaconda3\\ANACONDA\\lib\\site-packages\\seaborn\\distributions.py:2557: FutureWarning: `distplot` is a deprecated function and will be removed in a future version. Please adapt your code to use either `displot` (a figure-level function with similar flexibility) or `histplot` (an axes-level function for histograms).\n",
      "  warnings.warn(msg, FutureWarning)\n",
      "C:\\Users\\SUHAIR\\anaconda3\\ANACONDA\\lib\\site-packages\\seaborn\\distributions.py:2557: FutureWarning: `distplot` is a deprecated function and will be removed in a future version. Please adapt your code to use either `displot` (a figure-level function with similar flexibility) or `histplot` (an axes-level function for histograms).\n",
      "  warnings.warn(msg, FutureWarning)\n",
      "C:\\Users\\SUHAIR\\anaconda3\\ANACONDA\\lib\\site-packages\\seaborn\\distributions.py:2557: FutureWarning: `distplot` is a deprecated function and will be removed in a future version. Please adapt your code to use either `displot` (a figure-level function with similar flexibility) or `histplot` (an axes-level function for histograms).\n",
      "  warnings.warn(msg, FutureWarning)\n"
     ]
    },
    {
     "data": {
      "image/png": "[encoded data removed]",
      "text/plain": [
       "<Figure size 421.5x360 with 1 Axes>"
      ]
     },
     "metadata": {
      "needs_background": "light"
     },
     "output_type": "display_data"
    }
   ],
   "source": [
    "sns.FacetGrid(data,hue=\"Year\",height=5).map(sns.distplot,\"Air pollution (total) (deaths per 100,000)\").add_legend(); \n",
    "plt.show();\n"
   ]
  },
  {
   "cell_type": "code",
   "execution_count": 32,
   "metadata": {},
   "outputs": [
    {
     "data": {
      "image/png": "[encoded data removed]",
      "text/plain": [
       "<Figure size 421.5x360 with 1 Axes>"
      ]
     },
     "metadata": {
      "needs_background": "light"
     },
     "output_type": "display_data"
    }
   ],
   "source": [
    "sns.FacetGrid(df,hue=\"Year\",height=5).map(plt.scatter,\"Year\",\"Indoor air pollution (deaths per 100,000)\").add_legend(); "
   ]
  },
  {
   "cell_type": "code",
   "execution_count": 33,
   "metadata": {},
   "outputs": [
    {
     "data": {
      "image/png": "[encoded data removed]",
      "text/plain": [
       "<Figure size 421.5x360 with 1 Axes>"
      ]
     },
     "metadata": {
      "needs_background": "light"
     },
     "output_type": "display_data"
    }
   ],
   "source": [
    "sns.FacetGrid(df,hue=\"Year\",height=5).map(plt.scatter,\"Year\",\"Outdoor ozone pollution (deaths per 100,000)\").add_legend(); \n"
   ]
  },
  {
   "cell_type": "code",
   "execution_count": 34,
   "metadata": {},
   "outputs": [
    {
     "data": {
      "image/png": "[encoded data removed]",
      "text/plain": [
       "<Figure size 421.5x360 with 1 Axes>"
      ]
     },
     "metadata": {
      "needs_background": "light"
     },
     "output_type": "display_data"
    }
   ],
   "source": [
    "sns.FacetGrid(df,hue=\"Year\",height=5).map(plt.scatter,\"Year\",\"Outdoor ozone pollution (deaths per 100,000)\").add_legend(); "
   ]
  },
  {
   "cell_type": "markdown",
   "metadata": {},
   "source": [
    "#Modeling "
   ]
  },
  {
   "cell_type": "code",
   "execution_count": 35,
   "metadata": {},
   "outputs": [
    {
     "data": {
      "text/html": [
       "<div>\n",
       "<style scoped>\n",
       "    .dataframe tbody tr th:only-of-type {\n",
       "        vertical-align: middle;\n",
       "    }\n",
       "\n",
       "    .dataframe tbody tr th {\n",
       "        vertical-align: top;\n",
       "    }\n",
       "\n",
       "    .dataframe thead th {\n",
       "        text-align: right;\n",
       "    }\n",
       "</style>\n",
       "<table border=\"1\" class=\"dataframe\">\n",
       "  <thead>\n",
       "    <tr style=\"text-align: right;\">\n",
       "      <th></th>\n",
       "      <th>Entity</th>\n",
       "      <th>Year</th>\n",
       "      <th>Air pollution (total) (deaths per 100,000)</th>\n",
       "      <th>Indoor air pollution (deaths per 100,000)</th>\n",
       "      <th>Outdoor particulate matter (deaths per 100,000)</th>\n",
       "      <th>Outdoor ozone pollution (deaths per 100,000)</th>\n",
       "    </tr>\n",
       "  </thead>\n",
       "  <tbody>\n",
       "    <tr>\n",
       "      <th>0</th>\n",
       "      <td>Afghanistan</td>\n",
       "      <td>1990</td>\n",
       "      <td>299.477309</td>\n",
       "      <td>250.362910</td>\n",
       "      <td>46.446589</td>\n",
       "      <td>5.616442</td>\n",
       "    </tr>\n",
       "    <tr>\n",
       "      <th>1</th>\n",
       "      <td>Afghanistan</td>\n",
       "      <td>1991</td>\n",
       "      <td>291.277967</td>\n",
       "      <td>242.575125</td>\n",
       "      <td>46.033841</td>\n",
       "      <td>5.603960</td>\n",
       "    </tr>\n",
       "    <tr>\n",
       "      <th>2</th>\n",
       "      <td>Afghanistan</td>\n",
       "      <td>1992</td>\n",
       "      <td>278.963056</td>\n",
       "      <td>232.043878</td>\n",
       "      <td>44.243766</td>\n",
       "      <td>5.611822</td>\n",
       "    </tr>\n",
       "    <tr>\n",
       "      <th>3</th>\n",
       "      <td>Afghanistan</td>\n",
       "      <td>1993</td>\n",
       "      <td>278.790815</td>\n",
       "      <td>231.648134</td>\n",
       "      <td>44.440148</td>\n",
       "      <td>5.655266</td>\n",
       "    </tr>\n",
       "    <tr>\n",
       "      <th>4</th>\n",
       "      <td>Afghanistan</td>\n",
       "      <td>1994</td>\n",
       "      <td>287.162923</td>\n",
       "      <td>238.837177</td>\n",
       "      <td>45.594328</td>\n",
       "      <td>5.718922</td>\n",
       "    </tr>\n",
       "  </tbody>\n",
       "</table>\n",
       "</div>"
      ],
      "text/plain": [
       "        Entity  Year  Air pollution (total) (deaths per 100,000)  \\\n",
       "0  Afghanistan  1990                                  299.477309   \n",
       "1  Afghanistan  1991                                  291.277967   \n",
       "2  Afghanistan  1992                                  278.963056   \n",
       "3  Afghanistan  1993                                  278.790815   \n",
       "4  Afghanistan  1994                                  287.162923   \n",
       "\n",
       "   Indoor air pollution (deaths per 100,000)  \\\n",
       "0                                 250.362910   \n",
       "1                                 242.575125   \n",
       "2                                 232.043878   \n",
       "3                                 231.648134   \n",
       "4                                 238.837177   \n",
       "\n",
       "   Outdoor particulate matter (deaths per 100,000)  \\\n",
       "0                                        46.446589   \n",
       "1                                        46.033841   \n",
       "2                                        44.243766   \n",
       "3                                        44.440148   \n",
       "4                                        45.594328   \n",
       "\n",
       "   Outdoor ozone pollution (deaths per 100,000)  \n",
       "0                                      5.616442  \n",
       "1                                      5.603960  \n",
       "2                                      5.611822  \n",
       "3                                      5.655266  \n",
       "4                                      5.718922  "
      ]
     },
     "execution_count": 35,
     "metadata": {},
     "output_type": "execute_result"
    }
   ],
   "source": [
    "data.head()"
   ]
  },
  {
   "cell_type": "code",
   "execution_count": 36,
   "metadata": {},
   "outputs": [
    {
     "data": {
      "text/plain": [
       "Index(['Entity', 'Year', 'Air pollution (total) (deaths per 100,000)',\n",
       "       'Indoor air pollution (deaths per 100,000)',\n",
       "       'Outdoor particulate matter (deaths per 100,000)',\n",
       "       'Outdoor ozone pollution (deaths per 100,000)'],\n",
       "      dtype='object')"
      ]
     },
     "execution_count": 36,
     "metadata": {},
     "output_type": "execute_result"
    }
   ],
   "source": [
    "data.columns"
   ]
  },
  {
   "cell_type": "code",
   "execution_count": 37,
   "metadata": {},
   "outputs": [
    {
     "data": {
      "text/plain": [
       "(6468, 6)"
      ]
     },
     "execution_count": 37,
     "metadata": {},
     "output_type": "execute_result"
    }
   ],
   "source": [
    "data.shape"
   ]
  },
  {
   "cell_type": "code",
   "execution_count": 38,
   "metadata": {},
   "outputs": [],
   "source": [
    "y = data['Year']\n",
    "x = data.drop(['Entity', 'Year', 'Air pollution (total) (deaths per 100,000)'],axis=1)"
   ]
  },
  {
   "cell_type": "code",
   "execution_count": 39,
   "metadata": {},
   "outputs": [],
   "source": [
    "#x_train,x_test,y_train,y_test = train_test_split(x,y,random_state=42,test_size=0.2)\n",
    "x_train,x_test,y_train,y_test = train_test_split(x,y,random_state = 42, test_size = .25)"
   ]
  },
  {
   "cell_type": "code",
   "execution_count": 40,
   "metadata": {},
   "outputs": [
    {
     "name": "stderr",
     "output_type": "stream",
     "text": [
      "C:\\Users\\SUHAIR\\anaconda3\\ANACONDA\\lib\\site-packages\\sklearn\\linear_model\\_logistic.py:763: ConvergenceWarning: lbfgs failed to converge (status=1):\n",
      "STOP: TOTAL NO. of ITERATIONS REACHED LIMIT.\n",
      "\n",
      "Increase the number of iterations (max_iter) or scale the data as shown in:\n",
      "    https://scikit-learn.org/stable/modules/preprocessing.html\n",
      "Please also refer to the documentation for alternative solver options:\n",
      "    https://scikit-learn.org/stable/modules/linear_model.html#logistic-regression\n",
      "  n_iter_i = _check_optimize_result(\n"
     ]
    }
   ],
   "source": [
    "#Model 1 :Logistic Regression\n",
    "from sklearn.linear_model import LogisticRegression\n",
    "logit_model = LogisticRegression()\n",
    "logit_model.fit(x_train,y_train)\n",
    "y_pred = logit_model.predict(x_test)"
   ]
  },
  {
   "cell_type": "code",
   "execution_count": 41,
   "metadata": {},
   "outputs": [],
   "source": [
    "from sklearn.metrics import confusion_matrix,accuracy_score,precision_score,recall_score,f1_score"
   ]
  },
  {
   "cell_type": "code",
   "execution_count": 42,
   "metadata": {},
   "outputs": [
    {
     "name": "stdout",
     "output_type": "stream",
     "text": [
      "Accuracy is: 0.03525046382189239\n",
      "Precision_score is: 0.03525046382189239\n",
      "Recall_score: 0.03525046382189239\n",
      "f1_score is: 0.03525046382189239\n"
     ]
    },
    {
     "name": "stderr",
     "output_type": "stream",
     "text": [
      "C:\\Users\\SUHAIR\\anaconda3\\ANACONDA\\lib\\site-packages\\sklearn\\metrics\\_classification.py:1295: UserWarning: Note that pos_label (set to 'positive') is ignored when average != 'binary' (got 'micro'). You may use labels=[pos_label] to specify a single positive class.\n",
      "  warnings.warn(\"Note that pos_label (set to %r) is ignored when \"\n",
      "C:\\Users\\SUHAIR\\anaconda3\\ANACONDA\\lib\\site-packages\\sklearn\\metrics\\_classification.py:1295: UserWarning: Note that pos_label (set to 'positive') is ignored when average != 'binary' (got 'micro'). You may use labels=[pos_label] to specify a single positive class.\n",
      "  warnings.warn(\"Note that pos_label (set to %r) is ignored when \"\n",
      "C:\\Users\\SUHAIR\\anaconda3\\ANACONDA\\lib\\site-packages\\sklearn\\metrics\\_classification.py:1295: UserWarning: Note that pos_label (set to 'positive') is ignored when average != 'binary' (got 'micro'). You may use labels=[pos_label] to specify a single positive class.\n",
      "  warnings.warn(\"Note that pos_label (set to %r) is ignored when \"\n"
     ]
    }
   ],
   "source": [
    "print(\"Accuracy is:\",accuracy_score(y_test,y_pred) )\n",
    "print(\"Precision_score is:\",precision_score(y_test,y_pred,pos_label='positive',average='micro') )\n",
    "print(\"Recall_score:\",recall_score(y_test,y_pred,pos_label='positive',average='micro') )\n",
    "print(\"f1_score is:\",f1_score(y_test,y_pred,pos_label='positive',average='micro') )"
   ]
  },
  {
   "cell_type": "code",
   "execution_count": 43,
   "metadata": {},
   "outputs": [
    {
     "data": {
      "text/plain": [
       "2001    72\n",
       "2000    68\n",
       "2017    65\n",
       "2013    64\n",
       "1992    63\n",
       "2011    63\n",
       "2009    62\n",
       "1998    61\n",
       "1991    61\n",
       "2005    61\n",
       "1996    60\n",
       "2008    60\n",
       "1997    59\n",
       "2014    59\n",
       "2006    59\n",
       "1999    58\n",
       "2015    58\n",
       "2002    56\n",
       "2012    53\n",
       "2016    53\n",
       "1990    53\n",
       "2010    53\n",
       "2004    53\n",
       "1994    51\n",
       "2007    50\n",
       "1995    48\n",
       "2003    47\n",
       "1993    47\n",
       "Name: Year, dtype: int64"
      ]
     },
     "execution_count": 43,
     "metadata": {},
     "output_type": "execute_result"
    }
   ],
   "source": [
    "y_test.value_counts()"
   ]
  },
  {
   "cell_type": "code",
   "execution_count": 44,
   "metadata": {},
   "outputs": [
    {
     "data": {
      "text/plain": [
       "array([[ 1, 13,  3,  9,  3,  1,  0,  0,  0,  0,  0,  0,  0,  1,  0,  0,\n",
       "         0,  8,  0,  0,  1,  0,  0,  0,  0,  3, 10,  0],\n",
       "       [ 1, 10,  1,  8,  3,  5,  0,  0,  0,  0,  0,  0,  0,  0,  0,  0,\n",
       "         0,  7,  0,  0,  1,  0,  8,  0,  0,  3, 14,  0],\n",
       "       [ 3, 11,  2, 10,  2,  3,  0,  0,  0,  0,  0,  0,  0,  1,  0,  0,\n",
       "         0, 10,  0,  0,  1,  0,  5,  0,  0,  2, 13,  0],\n",
       "       [ 2, 11,  2,  4,  3,  4,  0,  0,  0,  0,  0,  0,  0,  0,  0,  0,\n",
       "         0,  5,  0,  0,  1,  0,  7,  0,  0,  1,  7,  0],\n",
       "       [ 5,  9,  3,  4,  4,  3,  0,  0,  0,  0,  0,  0,  0,  0,  0,  0,\n",
       "         0,  6,  0,  0,  0,  0,  8,  0,  0,  2,  7,  0],\n",
       "       [ 2, 15,  1,  7,  2,  0,  0,  0,  0,  0,  0,  0,  0,  1,  1,  0,\n",
       "         0,  5,  0,  0,  1,  0,  3,  0,  0,  2,  8,  0],\n",
       "       [ 1, 14,  0,  6,  3,  4,  0,  0,  0,  0,  0,  0,  0,  0,  0,  0,\n",
       "         0,  7,  0,  0,  1,  0,  3,  0,  0,  5, 16,  0],\n",
       "       [ 3,  8,  1,  9,  4,  2,  0,  0,  0,  0,  0,  0,  0,  1,  0,  0,\n",
       "         0,  9,  0,  0,  3,  0,  3,  0,  0,  3, 13,  0],\n",
       "       [ 3, 12,  1,  7,  3,  2,  0,  0,  0,  0,  0,  0,  0,  1,  0,  0,\n",
       "         0, 11,  0,  0,  0,  0,  2,  0,  0,  3, 16,  0],\n",
       "       [ 2,  7,  1,  9,  1,  4,  0,  0,  0,  0,  0,  0,  0,  2,  0,  0,\n",
       "         0,  8,  0,  0,  0,  0,  4,  0,  0,  2, 18,  0],\n",
       "       [ 1, 15,  2,  7,  4,  2,  0,  0,  0,  0,  0,  0,  0,  2,  0,  0,\n",
       "         0, 13,  0,  0,  0,  0,  6,  0,  0,  3, 13,  0],\n",
       "       [ 1, 15,  1,  9,  2,  4,  0,  0,  0,  0,  0,  0,  0,  2,  0,  0,\n",
       "         0, 10,  0,  0,  1,  0,  6,  0,  0,  4, 17,  0],\n",
       "       [ 0, 12,  1,  7,  4,  2,  0,  0,  0,  0,  0,  0,  0,  0,  0,  0,\n",
       "         0,  7,  0,  0,  1,  0,  5,  0,  0,  2, 15,  0],\n",
       "       [ 2,  8,  1,  6,  2,  1,  0,  0,  0,  0,  0,  0,  0,  2,  0,  0,\n",
       "         0,  6,  0,  0,  1,  0,  2,  0,  0,  1, 15,  0],\n",
       "       [ 3, 13,  0,  5,  2,  2,  0,  0,  0,  0,  0,  0,  0,  1,  0,  0,\n",
       "         0,  8,  0,  0,  2,  0,  4,  0,  0,  4,  9,  0],\n",
       "       [ 2,  9,  0,  8,  4,  4,  0,  0,  0,  0,  0,  0,  0,  1,  0,  0,\n",
       "         0,  7,  0,  0,  0,  0,  4,  0,  0,  5, 17,  0],\n",
       "       [ 3,  7,  0,  6,  2,  3,  0,  0,  0,  0,  0,  0,  0,  2,  0,  0,\n",
       "         0, 11,  0,  0,  0,  0,  4,  0,  0,  1, 20,  0],\n",
       "       [ 5, 11,  1,  3,  0,  2,  0,  0,  0,  0,  0,  0,  0,  0,  0,  0,\n",
       "         0,  6,  0,  0,  0,  0,  2,  0,  0,  3, 17,  0],\n",
       "       [ 3, 11,  0,  6,  1,  4,  0,  0,  0,  0,  0,  0,  0,  1,  0,  0,\n",
       "         0,  8,  0,  0,  1,  0,  8,  0,  0,  1, 16,  0],\n",
       "       [ 5, 10,  0,  9,  2,  2,  0,  0,  0,  0,  0,  0,  0,  0,  0,  0,\n",
       "         0, 10,  0,  0,  3,  0,  5,  0,  0,  1, 15,  0],\n",
       "       [ 7,  3,  0,  8,  0,  1,  0,  0,  0,  0,  0,  0,  0,  0,  0,  0,\n",
       "         0, 13,  0,  0,  1,  0,  6,  0,  0,  2, 12,  0],\n",
       "       [ 4,  9,  0,  2,  2,  2,  0,  0,  0,  0,  0,  0,  0,  0,  1,  0,\n",
       "         0, 11,  0,  0,  1,  0, 10,  0,  0,  2, 19,  0],\n",
       "       [ 0,  7,  0,  6,  2,  4,  0,  0,  0,  0,  0,  0,  0,  0,  1,  0,\n",
       "         0, 11,  0,  0,  3,  0,  4,  0,  0,  0, 15,  0],\n",
       "       [ 4,  7,  0,  2,  3,  6,  0,  0,  0,  0,  0,  0,  0,  1,  1,  0,\n",
       "         0,  5,  0,  0,  6,  0,  5,  0,  0,  4, 20,  0],\n",
       "       [ 2,  6,  1,  1,  2,  3,  0,  0,  0,  0,  0,  0,  0,  0,  1,  0,\n",
       "         0, 11,  0,  0,  6,  0,  6,  0,  0,  3, 17,  0],\n",
       "       [ 6,  6,  0,  5,  0,  4,  0,  0,  0,  0,  0,  0,  0,  1,  0,  0,\n",
       "         0,  6,  0,  0,  1,  0,  8,  0,  0,  0, 21,  0],\n",
       "       [ 3,  2,  0,  6,  0,  3,  0,  0,  0,  0,  0,  0,  0,  0,  0,  0,\n",
       "         0,  7,  0,  0,  3,  0,  5,  0,  0,  1, 23,  0],\n",
       "       [ 2,  5,  0,  3,  0,  3,  0,  0,  0,  0,  0,  0,  0,  0,  0,  0,\n",
       "         0, 11,  0,  0,  1,  0,  5,  0,  0,  4, 31,  0]], dtype=int64)"
      ]
     },
     "execution_count": 44,
     "metadata": {},
     "output_type": "execute_result"
    }
   ],
   "source": [
    "confusion_matrix(y_test,y_pred)"
   ]
  },
  {
   "cell_type": "code",
   "execution_count": 45,
   "metadata": {},
   "outputs": [],
   "source": [
    "#model 2: KNN classifier\n",
    "from sklearn.neighbors import KNeighborsClassifier\n",
    "knnmodel = KNeighborsClassifier()\n",
    "knnmodel.fit(x_train,y_train)\n",
    "y_pred = knnmodel.predict(x_test)"
   ]
  },
  {
   "cell_type": "code",
   "execution_count": 46,
   "metadata": {},
   "outputs": [
    {
     "name": "stdout",
     "output_type": "stream",
     "text": [
      "Accuracy is: 1.0\n",
      "f1_score is: 0.023500309214594926\n"
     ]
    },
    {
     "name": "stderr",
     "output_type": "stream",
     "text": [
      "C:\\Users\\SUHAIR\\anaconda3\\ANACONDA\\lib\\site-packages\\sklearn\\metrics\\_classification.py:1295: UserWarning: Note that pos_label (set to 'positive') is ignored when average != 'binary' (got 'micro'). You may use labels=[pos_label] to specify a single positive class.\n",
      "  warnings.warn(\"Note that pos_label (set to %r) is ignored when \"\n"
     ]
    }
   ],
   "source": [
    "print(\"Accuracy is:\",knnmodel.score(x_test,y_pred))\n",
    "print(\"f1_score is:\",f1_score(y_test,y_pred,pos_label='positive',average='micro') )"
   ]
  },
  {
   "cell_type": "code",
   "execution_count": 47,
   "metadata": {},
   "outputs": [
    {
     "data": {
      "text/plain": [
       "array([[ 5, 22,  3,  2,  3,  2,  4,  1,  2,  2,  1,  1,  1,  2,  0,  0,\n",
       "         0,  1,  0,  0,  0,  0,  1,  0,  0,  0,  0,  0],\n",
       "       [27,  2, 13,  3,  2,  4,  0,  1,  0,  1,  0,  0,  1,  0,  0,  1,\n",
       "         1,  0,  1,  1,  0,  0,  2,  0,  1,  0,  0,  0],\n",
       "       [22, 21,  3,  6,  4,  1,  0,  0,  0,  0,  0,  0,  0,  1,  0,  1,\n",
       "         1,  0,  0,  0,  0,  0,  1,  0,  0,  1,  0,  1],\n",
       "       [12,  4, 13,  2, 14,  1,  0,  0,  0,  0,  0,  0,  0,  0,  0,  0,\n",
       "         0,  0,  0,  0,  1,  0,  0,  0,  0,  0,  0,  0],\n",
       "       [12, 11,  6,  7,  0, 11,  0,  0,  1,  0,  0,  0,  1,  0,  0,  0,\n",
       "         0,  0,  0,  0,  0,  0,  0,  0,  1,  0,  0,  1],\n",
       "       [ 7,  4,  5,  4, 10,  1,  7,  0,  1,  2,  1,  2,  1,  0,  0,  0,\n",
       "         1,  0,  0,  1,  0,  0,  0,  0,  0,  0,  1,  0],\n",
       "       [ 6,  2,  6,  7,  8, 14,  1,  4,  2,  4,  1,  1,  0,  0,  1,  0,\n",
       "         1,  0,  0,  0,  0,  0,  1,  0,  0,  0,  1,  0],\n",
       "       [ 5,  3, 10, 10,  6,  7,  7,  3,  4,  2,  0,  0,  0,  0,  1,  0,\n",
       "         0,  0,  0,  0,  0,  0,  1,  0,  0,  0,  0,  0],\n",
       "       [ 7,  3,  5,  6,  8,  4,  5, 10,  0,  4,  0,  1,  1,  0,  1,  1,\n",
       "         0,  0,  1,  0,  0,  0,  1,  2,  0,  1,  0,  0],\n",
       "       [ 7,  6,  2,  6,  2,  1,  4,  6,  9,  3,  4,  0,  2,  0,  0,  0,\n",
       "         0,  1,  1,  0,  0,  1,  1,  2,  0,  0,  0,  0],\n",
       "       [ 6,  5,  3,  8,  4,  3,  3,  3,  7, 10,  2,  6,  2,  2,  1,  0,\n",
       "         0,  0,  0,  0,  0,  0,  1,  0,  1,  0,  1,  0],\n",
       "       [ 8,  5,  3,  3,  2,  3,  4,  3,  5,  8, 11,  1,  9,  1,  3,  0,\n",
       "         0,  0,  1,  0,  0,  1,  1,  0,  0,  0,  0,  0],\n",
       "       [ 9,  3,  2,  5,  5,  2,  1,  1,  1,  3,  2, 13,  0,  6,  1,  0,\n",
       "         1,  0,  0,  0,  0,  0,  0,  0,  0,  0,  1,  0],\n",
       "       [ 3,  2,  0,  1,  2,  0,  2,  0,  1,  4,  7,  3, 11,  0,  2,  3,\n",
       "         1,  0,  0,  0,  0,  0,  2,  0,  1,  0,  2,  0],\n",
       "       [ 4,  3,  4,  4,  3,  1,  3,  2,  1,  1,  2,  1,  4,  9,  3,  3,\n",
       "         1,  1,  0,  0,  0,  0,  0,  1,  1,  0,  1,  0],\n",
       "       [11,  4,  6,  3,  4,  1,  4,  1,  0,  3,  2,  1,  3,  0,  6,  2,\n",
       "         6,  0,  0,  0,  1,  0,  0,  0,  0,  0,  3,  0],\n",
       "       [ 7,  3,  3,  1,  3,  1,  0,  1,  0,  2,  3,  1,  1,  2,  6, 16,\n",
       "         1,  4,  2,  1,  0,  0,  0,  0,  0,  0,  0,  1],\n",
       "       [ 1,  2,  2,  3,  2,  2,  0,  2,  6,  0,  2,  4,  4,  0,  4,  6,\n",
       "         3,  1,  5,  0,  0,  0,  0,  0,  0,  0,  1,  0],\n",
       "       [ 7,  4,  1,  3,  0,  3,  0,  0,  3,  0,  1,  2,  3,  3,  4,  4,\n",
       "         5,  7,  1,  7,  1,  1,  0,  0,  0,  0,  0,  0],\n",
       "       [ 6,  1,  3,  2,  1,  4,  3,  1,  3,  1,  1,  3,  4,  0,  3,  4,\n",
       "         2,  4,  5,  1,  5,  1,  2,  1,  0,  0,  1,  0],\n",
       "       [ 6,  2,  3,  2,  0,  3,  2,  1,  5,  2,  0,  3,  2,  3,  2,  3,\n",
       "         1,  4,  1,  2,  1,  0,  3,  1,  0,  1,  0,  0],\n",
       "       [ 8,  2,  3,  1,  1,  3,  2,  1,  5,  1,  0,  4,  0,  0,  3,  2,\n",
       "         1,  3,  0,  3, 13,  1,  4,  0,  1,  0,  1,  0],\n",
       "       [ 6,  2,  5,  4,  1,  2,  0,  2,  2,  1,  3,  1,  0,  2,  2,  1,\n",
       "         3,  1,  2,  2,  2,  1,  2,  0,  3,  2,  0,  1],\n",
       "       [ 4,  6,  1,  3,  1,  1,  2,  1,  2,  1,  1,  1,  1,  3,  3,  2,\n",
       "         2,  2,  3,  3,  2,  2,  9,  0,  1,  3,  4,  0],\n",
       "       [ 4,  2,  3,  1,  3,  1,  1,  0,  2,  3,  1,  0,  1,  4,  1,  0,\n",
       "         0,  4,  3,  0,  2,  2,  2,  7,  0,  8,  2,  2],\n",
       "       [ 5,  3,  4,  6,  1,  2,  0,  2,  1,  2,  1,  0,  4,  1,  2,  2,\n",
       "         3,  0,  1,  2,  3,  1,  3,  3,  0,  1,  2,  3],\n",
       "       [ 5,  3,  3,  3,  4,  0,  2,  2,  1,  0,  1,  0,  2,  1,  1,  3,\n",
       "         0,  1,  0,  1,  3,  0,  6,  0,  2,  5,  0,  4],\n",
       "       [ 4,  0,  4,  3,  5,  1,  2,  2,  3,  2,  2,  3,  0,  3,  2,  0,\n",
       "         0,  1,  2,  2,  0,  2,  2,  0,  3, 10,  6,  1]], dtype=int64)"
      ]
     },
     "execution_count": 47,
     "metadata": {},
     "output_type": "execute_result"
    }
   ],
   "source": [
    "#confusion matrix\n",
    "confusion_matrix(y_test,y_pred)"
   ]
  },
  {
   "cell_type": "markdown",
   "metadata": {},
   "source": [
    "#6 fine-tuning Models"
   ]
  },
  {
   "cell_type": "code",
   "execution_count": 49,
   "metadata": {},
   "outputs": [],
   "source": [
    "from sklearn.model_selection import cross_val_score\n",
    "all_model = [LogisticRegression(), KNeighborsClassifier()]"
   ]
  },
  {
   "cell_type": "code",
   "execution_count": 50,
   "metadata": {},
   "outputs": [
    {
     "name": "stderr",
     "output_type": "stream",
     "text": [
      "C:\\Users\\SUHAIR\\anaconda3\\ANACONDA\\lib\\site-packages\\sklearn\\linear_model\\_logistic.py:763: ConvergenceWarning: lbfgs failed to converge (status=1):\n",
      "STOP: TOTAL NO. of ITERATIONS REACHED LIMIT.\n",
      "\n",
      "Increase the number of iterations (max_iter) or scale the data as shown in:\n",
      "    https://scikit-learn.org/stable/modules/preprocessing.html\n",
      "Please also refer to the documentation for alternative solver options:\n",
      "    https://scikit-learn.org/stable/modules/linear_model.html#logistic-regression\n",
      "  n_iter_i = _check_optimize_result(\n",
      "C:\\Users\\SUHAIR\\anaconda3\\ANACONDA\\lib\\site-packages\\sklearn\\model_selection\\_validation.py:683: UserWarning: Scoring failed. The score on this train-test partition for these parameters will be set to nan. Details: \n",
      "Traceback (most recent call last):\n",
      "  File \"C:\\Users\\SUHAIR\\anaconda3\\ANACONDA\\lib\\site-packages\\sklearn\\model_selection\\_validation.py\", line 674, in _score\n",
      "    scores = scorer(estimator, X_test, y_test)\n",
      "  File \"C:\\Users\\SUHAIR\\anaconda3\\ANACONDA\\lib\\site-packages\\sklearn\\metrics\\_scorer.py\", line 87, in __call__\n",
      "    score = scorer._score(cached_call, estimator,\n",
      "  File \"C:\\Users\\SUHAIR\\anaconda3\\ANACONDA\\lib\\site-packages\\sklearn\\metrics\\_scorer.py\", line 242, in _score\n",
      "    return self._sign * self._score_func(y_true, y_pred,\n",
      "  File \"C:\\Users\\SUHAIR\\anaconda3\\ANACONDA\\lib\\site-packages\\sklearn\\utils\\validation.py\", line 63, in inner_f\n",
      "    return f(*args, **kwargs)\n",
      "  File \"C:\\Users\\SUHAIR\\anaconda3\\ANACONDA\\lib\\site-packages\\sklearn\\metrics\\_classification.py\", line 1771, in recall_score\n",
      "    _, r, _, _ = precision_recall_fscore_support(y_true, y_pred,\n",
      "  File \"C:\\Users\\SUHAIR\\anaconda3\\ANACONDA\\lib\\site-packages\\sklearn\\utils\\validation.py\", line 63, in inner_f\n",
      "    return f(*args, **kwargs)\n",
      "  File \"C:\\Users\\SUHAIR\\anaconda3\\ANACONDA\\lib\\site-packages\\sklearn\\metrics\\_classification.py\", line 1461, in precision_recall_fscore_support\n",
      "    labels = _check_set_wise_labels(y_true, y_pred, average, labels,\n",
      "  File \"C:\\Users\\SUHAIR\\anaconda3\\ANACONDA\\lib\\site-packages\\sklearn\\metrics\\_classification.py\", line 1291, in _check_set_wise_labels\n",
      "    raise ValueError(\"Target is %s but average='binary'. Please \"\n",
      "ValueError: Target is multiclass but average='binary'. Please choose another average setting, one of [None, 'micro', 'macro', 'weighted'].\n",
      "\n",
      "  warnings.warn(\n",
      "C:\\Users\\SUHAIR\\anaconda3\\ANACONDA\\lib\\site-packages\\sklearn\\linear_model\\_logistic.py:763: ConvergenceWarning: lbfgs failed to converge (status=1):\n",
      "STOP: TOTAL NO. of ITERATIONS REACHED LIMIT.\n",
      "\n",
      "Increase the number of iterations (max_iter) or scale the data as shown in:\n",
      "    https://scikit-learn.org/stable/modules/preprocessing.html\n",
      "Please also refer to the documentation for alternative solver options:\n",
      "    https://scikit-learn.org/stable/modules/linear_model.html#logistic-regression\n",
      "  n_iter_i = _check_optimize_result(\n",
      "C:\\Users\\SUHAIR\\anaconda3\\ANACONDA\\lib\\site-packages\\sklearn\\model_selection\\_validation.py:683: UserWarning: Scoring failed. The score on this train-test partition for these parameters will be set to nan. Details: \n",
      "Traceback (most recent call last):\n",
      "  File \"C:\\Users\\SUHAIR\\anaconda3\\ANACONDA\\lib\\site-packages\\sklearn\\model_selection\\_validation.py\", line 674, in _score\n",
      "    scores = scorer(estimator, X_test, y_test)\n",
      "  File \"C:\\Users\\SUHAIR\\anaconda3\\ANACONDA\\lib\\site-packages\\sklearn\\metrics\\_scorer.py\", line 87, in __call__\n",
      "    score = scorer._score(cached_call, estimator,\n",
      "  File \"C:\\Users\\SUHAIR\\anaconda3\\ANACONDA\\lib\\site-packages\\sklearn\\metrics\\_scorer.py\", line 242, in _score\n",
      "    return self._sign * self._score_func(y_true, y_pred,\n",
      "  File \"C:\\Users\\SUHAIR\\anaconda3\\ANACONDA\\lib\\site-packages\\sklearn\\utils\\validation.py\", line 63, in inner_f\n",
      "    return f(*args, **kwargs)\n",
      "  File \"C:\\Users\\SUHAIR\\anaconda3\\ANACONDA\\lib\\site-packages\\sklearn\\metrics\\_classification.py\", line 1771, in recall_score\n",
      "    _, r, _, _ = precision_recall_fscore_support(y_true, y_pred,\n",
      "  File \"C:\\Users\\SUHAIR\\anaconda3\\ANACONDA\\lib\\site-packages\\sklearn\\utils\\validation.py\", line 63, in inner_f\n",
      "    return f(*args, **kwargs)\n",
      "  File \"C:\\Users\\SUHAIR\\anaconda3\\ANACONDA\\lib\\site-packages\\sklearn\\metrics\\_classification.py\", line 1461, in precision_recall_fscore_support\n",
      "    labels = _check_set_wise_labels(y_true, y_pred, average, labels,\n",
      "  File \"C:\\Users\\SUHAIR\\anaconda3\\ANACONDA\\lib\\site-packages\\sklearn\\metrics\\_classification.py\", line 1291, in _check_set_wise_labels\n",
      "    raise ValueError(\"Target is %s but average='binary'. Please \"\n",
      "ValueError: Target is multiclass but average='binary'. Please choose another average setting, one of [None, 'micro', 'macro', 'weighted'].\n",
      "\n",
      "  warnings.warn(\n",
      "C:\\Users\\SUHAIR\\anaconda3\\ANACONDA\\lib\\site-packages\\sklearn\\linear_model\\_logistic.py:763: ConvergenceWarning: lbfgs failed to converge (status=1):\n",
      "STOP: TOTAL NO. of ITERATIONS REACHED LIMIT.\n",
      "\n",
      "Increase the number of iterations (max_iter) or scale the data as shown in:\n",
      "    https://scikit-learn.org/stable/modules/preprocessing.html\n",
      "Please also refer to the documentation for alternative solver options:\n",
      "    https://scikit-learn.org/stable/modules/linear_model.html#logistic-regression\n",
      "  n_iter_i = _check_optimize_result(\n",
      "C:\\Users\\SUHAIR\\anaconda3\\ANACONDA\\lib\\site-packages\\sklearn\\model_selection\\_validation.py:683: UserWarning: Scoring failed. The score on this train-test partition for these parameters will be set to nan. Details: \n",
      "Traceback (most recent call last):\n",
      "  File \"C:\\Users\\SUHAIR\\anaconda3\\ANACONDA\\lib\\site-packages\\sklearn\\model_selection\\_validation.py\", line 674, in _score\n",
      "    scores = scorer(estimator, X_test, y_test)\n",
      "  File \"C:\\Users\\SUHAIR\\anaconda3\\ANACONDA\\lib\\site-packages\\sklearn\\metrics\\_scorer.py\", line 87, in __call__\n",
      "    score = scorer._score(cached_call, estimator,\n",
      "  File \"C:\\Users\\SUHAIR\\anaconda3\\ANACONDA\\lib\\site-packages\\sklearn\\metrics\\_scorer.py\", line 242, in _score\n",
      "    return self._sign * self._score_func(y_true, y_pred,\n",
      "  File \"C:\\Users\\SUHAIR\\anaconda3\\ANACONDA\\lib\\site-packages\\sklearn\\utils\\validation.py\", line 63, in inner_f\n",
      "    return f(*args, **kwargs)\n",
      "  File \"C:\\Users\\SUHAIR\\anaconda3\\ANACONDA\\lib\\site-packages\\sklearn\\metrics\\_classification.py\", line 1771, in recall_score\n",
      "    _, r, _, _ = precision_recall_fscore_support(y_true, y_pred,\n",
      "  File \"C:\\Users\\SUHAIR\\anaconda3\\ANACONDA\\lib\\site-packages\\sklearn\\utils\\validation.py\", line 63, in inner_f\n",
      "    return f(*args, **kwargs)\n",
      "  File \"C:\\Users\\SUHAIR\\anaconda3\\ANACONDA\\lib\\site-packages\\sklearn\\metrics\\_classification.py\", line 1461, in precision_recall_fscore_support\n",
      "    labels = _check_set_wise_labels(y_true, y_pred, average, labels,\n",
      "  File \"C:\\Users\\SUHAIR\\anaconda3\\ANACONDA\\lib\\site-packages\\sklearn\\metrics\\_classification.py\", line 1291, in _check_set_wise_labels\n",
      "    raise ValueError(\"Target is %s but average='binary'. Please \"\n",
      "ValueError: Target is multiclass but average='binary'. Please choose another average setting, one of [None, 'micro', 'macro', 'weighted'].\n",
      "\n",
      "  warnings.warn(\n",
      "C:\\Users\\SUHAIR\\anaconda3\\ANACONDA\\lib\\site-packages\\sklearn\\linear_model\\_logistic.py:763: ConvergenceWarning: lbfgs failed to converge (status=1):\n",
      "STOP: TOTAL NO. of ITERATIONS REACHED LIMIT.\n",
      "\n",
      "Increase the number of iterations (max_iter) or scale the data as shown in:\n",
      "    https://scikit-learn.org/stable/modules/preprocessing.html\n",
      "Please also refer to the documentation for alternative solver options:\n",
      "    https://scikit-learn.org/stable/modules/linear_model.html#logistic-regression\n",
      "  n_iter_i = _check_optimize_result(\n",
      "C:\\Users\\SUHAIR\\anaconda3\\ANACONDA\\lib\\site-packages\\sklearn\\model_selection\\_validation.py:683: UserWarning: Scoring failed. The score on this train-test partition for these parameters will be set to nan. Details: \n",
      "Traceback (most recent call last):\n",
      "  File \"C:\\Users\\SUHAIR\\anaconda3\\ANACONDA\\lib\\site-packages\\sklearn\\model_selection\\_validation.py\", line 674, in _score\n",
      "    scores = scorer(estimator, X_test, y_test)\n",
      "  File \"C:\\Users\\SUHAIR\\anaconda3\\ANACONDA\\lib\\site-packages\\sklearn\\metrics\\_scorer.py\", line 87, in __call__\n",
      "    score = scorer._score(cached_call, estimator,\n",
      "  File \"C:\\Users\\SUHAIR\\anaconda3\\ANACONDA\\lib\\site-packages\\sklearn\\metrics\\_scorer.py\", line 242, in _score\n",
      "    return self._sign * self._score_func(y_true, y_pred,\n",
      "  File \"C:\\Users\\SUHAIR\\anaconda3\\ANACONDA\\lib\\site-packages\\sklearn\\utils\\validation.py\", line 63, in inner_f\n",
      "    return f(*args, **kwargs)\n",
      "  File \"C:\\Users\\SUHAIR\\anaconda3\\ANACONDA\\lib\\site-packages\\sklearn\\metrics\\_classification.py\", line 1771, in recall_score\n",
      "    _, r, _, _ = precision_recall_fscore_support(y_true, y_pred,\n",
      "  File \"C:\\Users\\SUHAIR\\anaconda3\\ANACONDA\\lib\\site-packages\\sklearn\\utils\\validation.py\", line 63, in inner_f\n",
      "    return f(*args, **kwargs)\n",
      "  File \"C:\\Users\\SUHAIR\\anaconda3\\ANACONDA\\lib\\site-packages\\sklearn\\metrics\\_classification.py\", line 1461, in precision_recall_fscore_support\n",
      "    labels = _check_set_wise_labels(y_true, y_pred, average, labels,\n",
      "  File \"C:\\Users\\SUHAIR\\anaconda3\\ANACONDA\\lib\\site-packages\\sklearn\\metrics\\_classification.py\", line 1291, in _check_set_wise_labels\n",
      "    raise ValueError(\"Target is %s but average='binary'. Please \"\n",
      "ValueError: Target is multiclass but average='binary'. Please choose another average setting, one of [None, 'micro', 'macro', 'weighted'].\n",
      "\n",
      "  warnings.warn(\n",
      "C:\\Users\\SUHAIR\\anaconda3\\ANACONDA\\lib\\site-packages\\sklearn\\linear_model\\_logistic.py:763: ConvergenceWarning: lbfgs failed to converge (status=1):\n",
      "STOP: TOTAL NO. of ITERATIONS REACHED LIMIT.\n",
      "\n",
      "Increase the number of iterations (max_iter) or scale the data as shown in:\n",
      "    https://scikit-learn.org/stable/modules/preprocessing.html\n",
      "Please also refer to the documentation for alternative solver options:\n",
      "    https://scikit-learn.org/stable/modules/linear_model.html#logistic-regression\n",
      "  n_iter_i = _check_optimize_result(\n",
      "C:\\Users\\SUHAIR\\anaconda3\\ANACONDA\\lib\\site-packages\\sklearn\\model_selection\\_validation.py:683: UserWarning: Scoring failed. The score on this train-test partition for these parameters will be set to nan. Details: \n",
      "Traceback (most recent call last):\n",
      "  File \"C:\\Users\\SUHAIR\\anaconda3\\ANACONDA\\lib\\site-packages\\sklearn\\model_selection\\_validation.py\", line 674, in _score\n",
      "    scores = scorer(estimator, X_test, y_test)\n",
      "  File \"C:\\Users\\SUHAIR\\anaconda3\\ANACONDA\\lib\\site-packages\\sklearn\\metrics\\_scorer.py\", line 87, in __call__\n",
      "    score = scorer._score(cached_call, estimator,\n",
      "  File \"C:\\Users\\SUHAIR\\anaconda3\\ANACONDA\\lib\\site-packages\\sklearn\\metrics\\_scorer.py\", line 242, in _score\n",
      "    return self._sign * self._score_func(y_true, y_pred,\n",
      "  File \"C:\\Users\\SUHAIR\\anaconda3\\ANACONDA\\lib\\site-packages\\sklearn\\utils\\validation.py\", line 63, in inner_f\n",
      "    return f(*args, **kwargs)\n",
      "  File \"C:\\Users\\SUHAIR\\anaconda3\\ANACONDA\\lib\\site-packages\\sklearn\\metrics\\_classification.py\", line 1771, in recall_score\n",
      "    _, r, _, _ = precision_recall_fscore_support(y_true, y_pred,\n",
      "  File \"C:\\Users\\SUHAIR\\anaconda3\\ANACONDA\\lib\\site-packages\\sklearn\\utils\\validation.py\", line 63, in inner_f\n",
      "    return f(*args, **kwargs)\n",
      "  File \"C:\\Users\\SUHAIR\\anaconda3\\ANACONDA\\lib\\site-packages\\sklearn\\metrics\\_classification.py\", line 1461, in precision_recall_fscore_support\n",
      "    labels = _check_set_wise_labels(y_true, y_pred, average, labels,\n",
      "  File \"C:\\Users\\SUHAIR\\anaconda3\\ANACONDA\\lib\\site-packages\\sklearn\\metrics\\_classification.py\", line 1291, in _check_set_wise_labels\n",
      "    raise ValueError(\"Target is %s but average='binary'. Please \"\n",
      "ValueError: Target is multiclass but average='binary'. Please choose another average setting, one of [None, 'micro', 'macro', 'weighted'].\n",
      "\n",
      "  warnings.warn(\n",
      "C:\\Users\\SUHAIR\\anaconda3\\ANACONDA\\lib\\site-packages\\sklearn\\linear_model\\_logistic.py:763: ConvergenceWarning: lbfgs failed to converge (status=1):\n",
      "STOP: TOTAL NO. of ITERATIONS REACHED LIMIT.\n",
      "\n",
      "Increase the number of iterations (max_iter) or scale the data as shown in:\n",
      "    https://scikit-learn.org/stable/modules/preprocessing.html\n",
      "Please also refer to the documentation for alternative solver options:\n",
      "    https://scikit-learn.org/stable/modules/linear_model.html#logistic-regression\n",
      "  n_iter_i = _check_optimize_result(\n",
      "C:\\Users\\SUHAIR\\anaconda3\\ANACONDA\\lib\\site-packages\\sklearn\\model_selection\\_validation.py:683: UserWarning: Scoring failed. The score on this train-test partition for these parameters will be set to nan. Details: \n",
      "Traceback (most recent call last):\n",
      "  File \"C:\\Users\\SUHAIR\\anaconda3\\ANACONDA\\lib\\site-packages\\sklearn\\model_selection\\_validation.py\", line 674, in _score\n",
      "    scores = scorer(estimator, X_test, y_test)\n",
      "  File \"C:\\Users\\SUHAIR\\anaconda3\\ANACONDA\\lib\\site-packages\\sklearn\\metrics\\_scorer.py\", line 87, in __call__\n",
      "    score = scorer._score(cached_call, estimator,\n",
      "  File \"C:\\Users\\SUHAIR\\anaconda3\\ANACONDA\\lib\\site-packages\\sklearn\\metrics\\_scorer.py\", line 242, in _score\n",
      "    return self._sign * self._score_func(y_true, y_pred,\n",
      "  File \"C:\\Users\\SUHAIR\\anaconda3\\ANACONDA\\lib\\site-packages\\sklearn\\utils\\validation.py\", line 63, in inner_f\n",
      "    return f(*args, **kwargs)\n",
      "  File \"C:\\Users\\SUHAIR\\anaconda3\\ANACONDA\\lib\\site-packages\\sklearn\\metrics\\_classification.py\", line 1771, in recall_score\n",
      "    _, r, _, _ = precision_recall_fscore_support(y_true, y_pred,\n",
      "  File \"C:\\Users\\SUHAIR\\anaconda3\\ANACONDA\\lib\\site-packages\\sklearn\\utils\\validation.py\", line 63, in inner_f\n",
      "    return f(*args, **kwargs)\n",
      "  File \"C:\\Users\\SUHAIR\\anaconda3\\ANACONDA\\lib\\site-packages\\sklearn\\metrics\\_classification.py\", line 1461, in precision_recall_fscore_support\n",
      "    labels = _check_set_wise_labels(y_true, y_pred, average, labels,\n",
      "  File \"C:\\Users\\SUHAIR\\anaconda3\\ANACONDA\\lib\\site-packages\\sklearn\\metrics\\_classification.py\", line 1291, in _check_set_wise_labels\n",
      "    raise ValueError(\"Target is %s but average='binary'. Please \"\n",
      "ValueError: Target is multiclass but average='binary'. Please choose another average setting, one of [None, 'micro', 'macro', 'weighted'].\n",
      "\n",
      "  warnings.warn(\n",
      "C:\\Users\\SUHAIR\\anaconda3\\ANACONDA\\lib\\site-packages\\sklearn\\linear_model\\_logistic.py:763: ConvergenceWarning: lbfgs failed to converge (status=1):\n",
      "STOP: TOTAL NO. of ITERATIONS REACHED LIMIT.\n",
      "\n",
      "Increase the number of iterations (max_iter) or scale the data as shown in:\n",
      "    https://scikit-learn.org/stable/modules/preprocessing.html\n",
      "Please also refer to the documentation for alternative solver options:\n",
      "    https://scikit-learn.org/stable/modules/linear_model.html#logistic-regression\n",
      "  n_iter_i = _check_optimize_result(\n",
      "C:\\Users\\SUHAIR\\anaconda3\\ANACONDA\\lib\\site-packages\\sklearn\\model_selection\\_validation.py:683: UserWarning: Scoring failed. The score on this train-test partition for these parameters will be set to nan. Details: \n",
      "Traceback (most recent call last):\n",
      "  File \"C:\\Users\\SUHAIR\\anaconda3\\ANACONDA\\lib\\site-packages\\sklearn\\model_selection\\_validation.py\", line 674, in _score\n",
      "    scores = scorer(estimator, X_test, y_test)\n",
      "  File \"C:\\Users\\SUHAIR\\anaconda3\\ANACONDA\\lib\\site-packages\\sklearn\\metrics\\_scorer.py\", line 87, in __call__\n",
      "    score = scorer._score(cached_call, estimator,\n",
      "  File \"C:\\Users\\SUHAIR\\anaconda3\\ANACONDA\\lib\\site-packages\\sklearn\\metrics\\_scorer.py\", line 242, in _score\n",
      "    return self._sign * self._score_func(y_true, y_pred,\n",
      "  File \"C:\\Users\\SUHAIR\\anaconda3\\ANACONDA\\lib\\site-packages\\sklearn\\utils\\validation.py\", line 63, in inner_f\n",
      "    return f(*args, **kwargs)\n",
      "  File \"C:\\Users\\SUHAIR\\anaconda3\\ANACONDA\\lib\\site-packages\\sklearn\\metrics\\_classification.py\", line 1771, in recall_score\n",
      "    _, r, _, _ = precision_recall_fscore_support(y_true, y_pred,\n",
      "  File \"C:\\Users\\SUHAIR\\anaconda3\\ANACONDA\\lib\\site-packages\\sklearn\\utils\\validation.py\", line 63, in inner_f\n",
      "    return f(*args, **kwargs)\n",
      "  File \"C:\\Users\\SUHAIR\\anaconda3\\ANACONDA\\lib\\site-packages\\sklearn\\metrics\\_classification.py\", line 1461, in precision_recall_fscore_support\n",
      "    labels = _check_set_wise_labels(y_true, y_pred, average, labels,\n",
      "  File \"C:\\Users\\SUHAIR\\anaconda3\\ANACONDA\\lib\\site-packages\\sklearn\\metrics\\_classification.py\", line 1291, in _check_set_wise_labels\n",
      "    raise ValueError(\"Target is %s but average='binary'. Please \"\n",
      "ValueError: Target is multiclass but average='binary'. Please choose another average setting, one of [None, 'micro', 'macro', 'weighted'].\n",
      "\n",
      "  warnings.warn(\n",
      "C:\\Users\\SUHAIR\\anaconda3\\ANACONDA\\lib\\site-packages\\sklearn\\linear_model\\_logistic.py:763: ConvergenceWarning: lbfgs failed to converge (status=1):\n",
      "STOP: TOTAL NO. of ITERATIONS REACHED LIMIT.\n",
      "\n",
      "Increase the number of iterations (max_iter) or scale the data as shown in:\n",
      "    https://scikit-learn.org/stable/modules/preprocessing.html\n",
      "Please also refer to the documentation for alternative solver options:\n",
      "    https://scikit-learn.org/stable/modules/linear_model.html#logistic-regression\n",
      "  n_iter_i = _check_optimize_result(\n",
      "C:\\Users\\SUHAIR\\anaconda3\\ANACONDA\\lib\\site-packages\\sklearn\\model_selection\\_validation.py:683: UserWarning: Scoring failed. The score on this train-test partition for these parameters will be set to nan. Details: \n",
      "Traceback (most recent call last):\n",
      "  File \"C:\\Users\\SUHAIR\\anaconda3\\ANACONDA\\lib\\site-packages\\sklearn\\model_selection\\_validation.py\", line 674, in _score\n",
      "    scores = scorer(estimator, X_test, y_test)\n",
      "  File \"C:\\Users\\SUHAIR\\anaconda3\\ANACONDA\\lib\\site-packages\\sklearn\\metrics\\_scorer.py\", line 87, in __call__\n",
      "    score = scorer._score(cached_call, estimator,\n",
      "  File \"C:\\Users\\SUHAIR\\anaconda3\\ANACONDA\\lib\\site-packages\\sklearn\\metrics\\_scorer.py\", line 242, in _score\n",
      "    return self._sign * self._score_func(y_true, y_pred,\n",
      "  File \"C:\\Users\\SUHAIR\\anaconda3\\ANACONDA\\lib\\site-packages\\sklearn\\utils\\validation.py\", line 63, in inner_f\n",
      "    return f(*args, **kwargs)\n",
      "  File \"C:\\Users\\SUHAIR\\anaconda3\\ANACONDA\\lib\\site-packages\\sklearn\\metrics\\_classification.py\", line 1771, in recall_score\n",
      "    _, r, _, _ = precision_recall_fscore_support(y_true, y_pred,\n",
      "  File \"C:\\Users\\SUHAIR\\anaconda3\\ANACONDA\\lib\\site-packages\\sklearn\\utils\\validation.py\", line 63, in inner_f\n",
      "    return f(*args, **kwargs)\n",
      "  File \"C:\\Users\\SUHAIR\\anaconda3\\ANACONDA\\lib\\site-packages\\sklearn\\metrics\\_classification.py\", line 1461, in precision_recall_fscore_support\n",
      "    labels = _check_set_wise_labels(y_true, y_pred, average, labels,\n",
      "  File \"C:\\Users\\SUHAIR\\anaconda3\\ANACONDA\\lib\\site-packages\\sklearn\\metrics\\_classification.py\", line 1291, in _check_set_wise_labels\n",
      "    raise ValueError(\"Target is %s but average='binary'. Please \"\n",
      "ValueError: Target is multiclass but average='binary'. Please choose another average setting, one of [None, 'micro', 'macro', 'weighted'].\n",
      "\n",
      "  warnings.warn(\n",
      "C:\\Users\\SUHAIR\\anaconda3\\ANACONDA\\lib\\site-packages\\sklearn\\linear_model\\_logistic.py:763: ConvergenceWarning: lbfgs failed to converge (status=1):\n",
      "STOP: TOTAL NO. of ITERATIONS REACHED LIMIT.\n",
      "\n",
      "Increase the number of iterations (max_iter) or scale the data as shown in:\n",
      "    https://scikit-learn.org/stable/modules/preprocessing.html\n",
      "Please also refer to the documentation for alternative solver options:\n",
      "    https://scikit-learn.org/stable/modules/linear_model.html#logistic-regression\n",
      "  n_iter_i = _check_optimize_result(\n",
      "C:\\Users\\SUHAIR\\anaconda3\\ANACONDA\\lib\\site-packages\\sklearn\\model_selection\\_validation.py:683: UserWarning: Scoring failed. The score on this train-test partition for these parameters will be set to nan. Details: \n",
      "Traceback (most recent call last):\n",
      "  File \"C:\\Users\\SUHAIR\\anaconda3\\ANACONDA\\lib\\site-packages\\sklearn\\model_selection\\_validation.py\", line 674, in _score\n",
      "    scores = scorer(estimator, X_test, y_test)\n",
      "  File \"C:\\Users\\SUHAIR\\anaconda3\\ANACONDA\\lib\\site-packages\\sklearn\\metrics\\_scorer.py\", line 87, in __call__\n",
      "    score = scorer._score(cached_call, estimator,\n",
      "  File \"C:\\Users\\SUHAIR\\anaconda3\\ANACONDA\\lib\\site-packages\\sklearn\\metrics\\_scorer.py\", line 242, in _score\n",
      "    return self._sign * self._score_func(y_true, y_pred,\n",
      "  File \"C:\\Users\\SUHAIR\\anaconda3\\ANACONDA\\lib\\site-packages\\sklearn\\utils\\validation.py\", line 63, in inner_f\n",
      "    return f(*args, **kwargs)\n",
      "  File \"C:\\Users\\SUHAIR\\anaconda3\\ANACONDA\\lib\\site-packages\\sklearn\\metrics\\_classification.py\", line 1771, in recall_score\n",
      "    _, r, _, _ = precision_recall_fscore_support(y_true, y_pred,\n",
      "  File \"C:\\Users\\SUHAIR\\anaconda3\\ANACONDA\\lib\\site-packages\\sklearn\\utils\\validation.py\", line 63, in inner_f\n",
      "    return f(*args, **kwargs)\n",
      "  File \"C:\\Users\\SUHAIR\\anaconda3\\ANACONDA\\lib\\site-packages\\sklearn\\metrics\\_classification.py\", line 1461, in precision_recall_fscore_support\n",
      "    labels = _check_set_wise_labels(y_true, y_pred, average, labels,\n",
      "  File \"C:\\Users\\SUHAIR\\anaconda3\\ANACONDA\\lib\\site-packages\\sklearn\\metrics\\_classification.py\", line 1291, in _check_set_wise_labels\n",
      "    raise ValueError(\"Target is %s but average='binary'. Please \"\n",
      "ValueError: Target is multiclass but average='binary'. Please choose another average setting, one of [None, 'micro', 'macro', 'weighted'].\n",
      "\n",
      "  warnings.warn(\n",
      "C:\\Users\\SUHAIR\\anaconda3\\ANACONDA\\lib\\site-packages\\sklearn\\linear_model\\_logistic.py:763: ConvergenceWarning: lbfgs failed to converge (status=1):\n",
      "STOP: TOTAL NO. of ITERATIONS REACHED LIMIT.\n",
      "\n",
      "Increase the number of iterations (max_iter) or scale the data as shown in:\n",
      "    https://scikit-learn.org/stable/modules/preprocessing.html\n",
      "Please also refer to the documentation for alternative solver options:\n",
      "    https://scikit-learn.org/stable/modules/linear_model.html#logistic-regression\n",
      "  n_iter_i = _check_optimize_result(\n",
      "C:\\Users\\SUHAIR\\anaconda3\\ANACONDA\\lib\\site-packages\\sklearn\\model_selection\\_validation.py:683: UserWarning: Scoring failed. The score on this train-test partition for these parameters will be set to nan. Details: \n",
      "Traceback (most recent call last):\n",
      "  File \"C:\\Users\\SUHAIR\\anaconda3\\ANACONDA\\lib\\site-packages\\sklearn\\model_selection\\_validation.py\", line 674, in _score\n",
      "    scores = scorer(estimator, X_test, y_test)\n",
      "  File \"C:\\Users\\SUHAIR\\anaconda3\\ANACONDA\\lib\\site-packages\\sklearn\\metrics\\_scorer.py\", line 87, in __call__\n",
      "    score = scorer._score(cached_call, estimator,\n",
      "  File \"C:\\Users\\SUHAIR\\anaconda3\\ANACONDA\\lib\\site-packages\\sklearn\\metrics\\_scorer.py\", line 242, in _score\n",
      "    return self._sign * self._score_func(y_true, y_pred,\n",
      "  File \"C:\\Users\\SUHAIR\\anaconda3\\ANACONDA\\lib\\site-packages\\sklearn\\utils\\validation.py\", line 63, in inner_f\n",
      "    return f(*args, **kwargs)\n",
      "  File \"C:\\Users\\SUHAIR\\anaconda3\\ANACONDA\\lib\\site-packages\\sklearn\\metrics\\_classification.py\", line 1771, in recall_score\n",
      "    _, r, _, _ = precision_recall_fscore_support(y_true, y_pred,\n",
      "  File \"C:\\Users\\SUHAIR\\anaconda3\\ANACONDA\\lib\\site-packages\\sklearn\\utils\\validation.py\", line 63, in inner_f\n",
      "    return f(*args, **kwargs)\n",
      "  File \"C:\\Users\\SUHAIR\\anaconda3\\ANACONDA\\lib\\site-packages\\sklearn\\metrics\\_classification.py\", line 1461, in precision_recall_fscore_support\n",
      "    labels = _check_set_wise_labels(y_true, y_pred, average, labels,\n",
      "  File \"C:\\Users\\SUHAIR\\anaconda3\\ANACONDA\\lib\\site-packages\\sklearn\\metrics\\_classification.py\", line 1291, in _check_set_wise_labels\n",
      "    raise ValueError(\"Target is %s but average='binary'. Please \"\n",
      "ValueError: Target is multiclass but average='binary'. Please choose another average setting, one of [None, 'micro', 'macro', 'weighted'].\n",
      "\n",
      "  warnings.warn(\n",
      "C:\\Users\\SUHAIR\\anaconda3\\ANACONDA\\lib\\site-packages\\sklearn\\linear_model\\_logistic.py:763: ConvergenceWarning: lbfgs failed to converge (status=1):\n",
      "STOP: TOTAL NO. of ITERATIONS REACHED LIMIT.\n",
      "\n",
      "Increase the number of iterations (max_iter) or scale the data as shown in:\n",
      "    https://scikit-learn.org/stable/modules/preprocessing.html\n",
      "Please also refer to the documentation for alternative solver options:\n",
      "    https://scikit-learn.org/stable/modules/linear_model.html#logistic-regression\n",
      "  n_iter_i = _check_optimize_result(\n",
      "C:\\Users\\SUHAIR\\anaconda3\\ANACONDA\\lib\\site-packages\\sklearn\\linear_model\\_logistic.py:763: ConvergenceWarning: lbfgs failed to converge (status=1):\n",
      "STOP: TOTAL NO. of ITERATIONS REACHED LIMIT.\n",
      "\n",
      "Increase the number of iterations (max_iter) or scale the data as shown in:\n",
      "    https://scikit-learn.org/stable/modules/preprocessing.html\n",
      "Please also refer to the documentation for alternative solver options:\n",
      "    https://scikit-learn.org/stable/modules/linear_model.html#logistic-regression\n",
      "  n_iter_i = _check_optimize_result(\n",
      "C:\\Users\\SUHAIR\\anaconda3\\ANACONDA\\lib\\site-packages\\sklearn\\linear_model\\_logistic.py:763: ConvergenceWarning: lbfgs failed to converge (status=1):\n",
      "STOP: TOTAL NO. of ITERATIONS REACHED LIMIT.\n",
      "\n",
      "Increase the number of iterations (max_iter) or scale the data as shown in:\n",
      "    https://scikit-learn.org/stable/modules/preprocessing.html\n",
      "Please also refer to the documentation for alternative solver options:\n",
      "    https://scikit-learn.org/stable/modules/linear_model.html#logistic-regression\n",
      "  n_iter_i = _check_optimize_result(\n",
      "C:\\Users\\SUHAIR\\anaconda3\\ANACONDA\\lib\\site-packages\\sklearn\\linear_model\\_logistic.py:763: ConvergenceWarning: lbfgs failed to converge (status=1):\n",
      "STOP: TOTAL NO. of ITERATIONS REACHED LIMIT.\n",
      "\n",
      "Increase the number of iterations (max_iter) or scale the data as shown in:\n",
      "    https://scikit-learn.org/stable/modules/preprocessing.html\n",
      "Please also refer to the documentation for alternative solver options:\n",
      "    https://scikit-learn.org/stable/modules/linear_model.html#logistic-regression\n",
      "  n_iter_i = _check_optimize_result(\n",
      "C:\\Users\\SUHAIR\\anaconda3\\ANACONDA\\lib\\site-packages\\sklearn\\linear_model\\_logistic.py:763: ConvergenceWarning: lbfgs failed to converge (status=1):\n",
      "STOP: TOTAL NO. of ITERATIONS REACHED LIMIT.\n",
      "\n",
      "Increase the number of iterations (max_iter) or scale the data as shown in:\n",
      "    https://scikit-learn.org/stable/modules/preprocessing.html\n",
      "Please also refer to the documentation for alternative solver options:\n",
      "    https://scikit-learn.org/stable/modules/linear_model.html#logistic-regression\n",
      "  n_iter_i = _check_optimize_result(\n",
      "C:\\Users\\SUHAIR\\anaconda3\\ANACONDA\\lib\\site-packages\\sklearn\\linear_model\\_logistic.py:763: ConvergenceWarning: lbfgs failed to converge (status=1):\n",
      "STOP: TOTAL NO. of ITERATIONS REACHED LIMIT.\n",
      "\n",
      "Increase the number of iterations (max_iter) or scale the data as shown in:\n",
      "    https://scikit-learn.org/stable/modules/preprocessing.html\n",
      "Please also refer to the documentation for alternative solver options:\n",
      "    https://scikit-learn.org/stable/modules/linear_model.html#logistic-regression\n",
      "  n_iter_i = _check_optimize_result(\n",
      "C:\\Users\\SUHAIR\\anaconda3\\ANACONDA\\lib\\site-packages\\sklearn\\linear_model\\_logistic.py:763: ConvergenceWarning: lbfgs failed to converge (status=1):\n",
      "STOP: TOTAL NO. of ITERATIONS REACHED LIMIT.\n",
      "\n",
      "Increase the number of iterations (max_iter) or scale the data as shown in:\n",
      "    https://scikit-learn.org/stable/modules/preprocessing.html\n",
      "Please also refer to the documentation for alternative solver options:\n",
      "    https://scikit-learn.org/stable/modules/linear_model.html#logistic-regression\n",
      "  n_iter_i = _check_optimize_result(\n",
      "C:\\Users\\SUHAIR\\anaconda3\\ANACONDA\\lib\\site-packages\\sklearn\\linear_model\\_logistic.py:763: ConvergenceWarning: lbfgs failed to converge (status=1):\n",
      "STOP: TOTAL NO. of ITERATIONS REACHED LIMIT.\n",
      "\n",
      "Increase the number of iterations (max_iter) or scale the data as shown in:\n",
      "    https://scikit-learn.org/stable/modules/preprocessing.html\n",
      "Please also refer to the documentation for alternative solver options:\n",
      "    https://scikit-learn.org/stable/modules/linear_model.html#logistic-regression\n",
      "  n_iter_i = _check_optimize_result(\n",
      "C:\\Users\\SUHAIR\\anaconda3\\ANACONDA\\lib\\site-packages\\sklearn\\linear_model\\_logistic.py:763: ConvergenceWarning: lbfgs failed to converge (status=1):\n",
      "STOP: TOTAL NO. of ITERATIONS REACHED LIMIT.\n",
      "\n",
      "Increase the number of iterations (max_iter) or scale the data as shown in:\n",
      "    https://scikit-learn.org/stable/modules/preprocessing.html\n",
      "Please also refer to the documentation for alternative solver options:\n",
      "    https://scikit-learn.org/stable/modules/linear_model.html#logistic-regression\n",
      "  n_iter_i = _check_optimize_result(\n",
      "C:\\Users\\SUHAIR\\anaconda3\\ANACONDA\\lib\\site-packages\\sklearn\\linear_model\\_logistic.py:763: ConvergenceWarning: lbfgs failed to converge (status=1):\n",
      "STOP: TOTAL NO. of ITERATIONS REACHED LIMIT.\n",
      "\n",
      "Increase the number of iterations (max_iter) or scale the data as shown in:\n",
      "    https://scikit-learn.org/stable/modules/preprocessing.html\n",
      "Please also refer to the documentation for alternative solver options:\n",
      "    https://scikit-learn.org/stable/modules/linear_model.html#logistic-regression\n",
      "  n_iter_i = _check_optimize_result(\n",
      "C:\\Users\\SUHAIR\\anaconda3\\ANACONDA\\lib\\site-packages\\sklearn\\model_selection\\_validation.py:683: UserWarning: Scoring failed. The score on this train-test partition for these parameters will be set to nan. Details: \n",
      "Traceback (most recent call last):\n",
      "  File \"C:\\Users\\SUHAIR\\anaconda3\\ANACONDA\\lib\\site-packages\\sklearn\\model_selection\\_validation.py\", line 674, in _score\n",
      "    scores = scorer(estimator, X_test, y_test)\n",
      "  File \"C:\\Users\\SUHAIR\\anaconda3\\ANACONDA\\lib\\site-packages\\sklearn\\metrics\\_scorer.py\", line 87, in __call__\n",
      "    score = scorer._score(cached_call, estimator,\n",
      "  File \"C:\\Users\\SUHAIR\\anaconda3\\ANACONDA\\lib\\site-packages\\sklearn\\metrics\\_scorer.py\", line 242, in _score\n",
      "    return self._sign * self._score_func(y_true, y_pred,\n",
      "  File \"C:\\Users\\SUHAIR\\anaconda3\\ANACONDA\\lib\\site-packages\\sklearn\\utils\\validation.py\", line 63, in inner_f\n",
      "    return f(*args, **kwargs)\n",
      "  File \"C:\\Users\\SUHAIR\\anaconda3\\ANACONDA\\lib\\site-packages\\sklearn\\metrics\\_classification.py\", line 1771, in recall_score\n",
      "    _, r, _, _ = precision_recall_fscore_support(y_true, y_pred,\n",
      "  File \"C:\\Users\\SUHAIR\\anaconda3\\ANACONDA\\lib\\site-packages\\sklearn\\utils\\validation.py\", line 63, in inner_f\n",
      "    return f(*args, **kwargs)\n",
      "  File \"C:\\Users\\SUHAIR\\anaconda3\\ANACONDA\\lib\\site-packages\\sklearn\\metrics\\_classification.py\", line 1461, in precision_recall_fscore_support\n",
      "    labels = _check_set_wise_labels(y_true, y_pred, average, labels,\n",
      "  File \"C:\\Users\\SUHAIR\\anaconda3\\ANACONDA\\lib\\site-packages\\sklearn\\metrics\\_classification.py\", line 1291, in _check_set_wise_labels\n",
      "    raise ValueError(\"Target is %s but average='binary'. Please \"\n",
      "ValueError: Target is multiclass but average='binary'. Please choose another average setting, one of [None, 'micro', 'macro', 'weighted'].\n",
      "\n",
      "  warnings.warn(\n",
      "C:\\Users\\SUHAIR\\anaconda3\\ANACONDA\\lib\\site-packages\\sklearn\\model_selection\\_validation.py:683: UserWarning: Scoring failed. The score on this train-test partition for these parameters will be set to nan. Details: \n",
      "Traceback (most recent call last):\n",
      "  File \"C:\\Users\\SUHAIR\\anaconda3\\ANACONDA\\lib\\site-packages\\sklearn\\model_selection\\_validation.py\", line 674, in _score\n",
      "    scores = scorer(estimator, X_test, y_test)\n",
      "  File \"C:\\Users\\SUHAIR\\anaconda3\\ANACONDA\\lib\\site-packages\\sklearn\\metrics\\_scorer.py\", line 87, in __call__\n",
      "    score = scorer._score(cached_call, estimator,\n",
      "  File \"C:\\Users\\SUHAIR\\anaconda3\\ANACONDA\\lib\\site-packages\\sklearn\\metrics\\_scorer.py\", line 242, in _score\n",
      "    return self._sign * self._score_func(y_true, y_pred,\n",
      "  File \"C:\\Users\\SUHAIR\\anaconda3\\ANACONDA\\lib\\site-packages\\sklearn\\utils\\validation.py\", line 63, in inner_f\n",
      "    return f(*args, **kwargs)\n",
      "  File \"C:\\Users\\SUHAIR\\anaconda3\\ANACONDA\\lib\\site-packages\\sklearn\\metrics\\_classification.py\", line 1771, in recall_score\n",
      "    _, r, _, _ = precision_recall_fscore_support(y_true, y_pred,\n",
      "  File \"C:\\Users\\SUHAIR\\anaconda3\\ANACONDA\\lib\\site-packages\\sklearn\\utils\\validation.py\", line 63, in inner_f\n",
      "    return f(*args, **kwargs)\n",
      "  File \"C:\\Users\\SUHAIR\\anaconda3\\ANACONDA\\lib\\site-packages\\sklearn\\metrics\\_classification.py\", line 1461, in precision_recall_fscore_support\n",
      "    labels = _check_set_wise_labels(y_true, y_pred, average, labels,\n",
      "  File \"C:\\Users\\SUHAIR\\anaconda3\\ANACONDA\\lib\\site-packages\\sklearn\\metrics\\_classification.py\", line 1291, in _check_set_wise_labels\n",
      "    raise ValueError(\"Target is %s but average='binary'. Please \"\n",
      "ValueError: Target is multiclass but average='binary'. Please choose another average setting, one of [None, 'micro', 'macro', 'weighted'].\n",
      "\n",
      "  warnings.warn(\n",
      "C:\\Users\\SUHAIR\\anaconda3\\ANACONDA\\lib\\site-packages\\sklearn\\model_selection\\_validation.py:683: UserWarning: Scoring failed. The score on this train-test partition for these parameters will be set to nan. Details: \n",
      "Traceback (most recent call last):\n",
      "  File \"C:\\Users\\SUHAIR\\anaconda3\\ANACONDA\\lib\\site-packages\\sklearn\\model_selection\\_validation.py\", line 674, in _score\n",
      "    scores = scorer(estimator, X_test, y_test)\n",
      "  File \"C:\\Users\\SUHAIR\\anaconda3\\ANACONDA\\lib\\site-packages\\sklearn\\metrics\\_scorer.py\", line 87, in __call__\n",
      "    score = scorer._score(cached_call, estimator,\n",
      "  File \"C:\\Users\\SUHAIR\\anaconda3\\ANACONDA\\lib\\site-packages\\sklearn\\metrics\\_scorer.py\", line 242, in _score\n",
      "    return self._sign * self._score_func(y_true, y_pred,\n",
      "  File \"C:\\Users\\SUHAIR\\anaconda3\\ANACONDA\\lib\\site-packages\\sklearn\\utils\\validation.py\", line 63, in inner_f\n",
      "    return f(*args, **kwargs)\n",
      "  File \"C:\\Users\\SUHAIR\\anaconda3\\ANACONDA\\lib\\site-packages\\sklearn\\metrics\\_classification.py\", line 1771, in recall_score\n",
      "    _, r, _, _ = precision_recall_fscore_support(y_true, y_pred,\n",
      "  File \"C:\\Users\\SUHAIR\\anaconda3\\ANACONDA\\lib\\site-packages\\sklearn\\utils\\validation.py\", line 63, in inner_f\n",
      "    return f(*args, **kwargs)\n",
      "  File \"C:\\Users\\SUHAIR\\anaconda3\\ANACONDA\\lib\\site-packages\\sklearn\\metrics\\_classification.py\", line 1461, in precision_recall_fscore_support\n",
      "    labels = _check_set_wise_labels(y_true, y_pred, average, labels,\n",
      "  File \"C:\\Users\\SUHAIR\\anaconda3\\ANACONDA\\lib\\site-packages\\sklearn\\metrics\\_classification.py\", line 1291, in _check_set_wise_labels\n",
      "    raise ValueError(\"Target is %s but average='binary'. Please \"\n",
      "ValueError: Target is multiclass but average='binary'. Please choose another average setting, one of [None, 'micro', 'macro', 'weighted'].\n",
      "\n",
      "  warnings.warn(\n",
      "C:\\Users\\SUHAIR\\anaconda3\\ANACONDA\\lib\\site-packages\\sklearn\\model_selection\\_validation.py:683: UserWarning: Scoring failed. The score on this train-test partition for these parameters will be set to nan. Details: \n",
      "Traceback (most recent call last):\n",
      "  File \"C:\\Users\\SUHAIR\\anaconda3\\ANACONDA\\lib\\site-packages\\sklearn\\model_selection\\_validation.py\", line 674, in _score\n",
      "    scores = scorer(estimator, X_test, y_test)\n",
      "  File \"C:\\Users\\SUHAIR\\anaconda3\\ANACONDA\\lib\\site-packages\\sklearn\\metrics\\_scorer.py\", line 87, in __call__\n",
      "    score = scorer._score(cached_call, estimator,\n",
      "  File \"C:\\Users\\SUHAIR\\anaconda3\\ANACONDA\\lib\\site-packages\\sklearn\\metrics\\_scorer.py\", line 242, in _score\n",
      "    return self._sign * self._score_func(y_true, y_pred,\n",
      "  File \"C:\\Users\\SUHAIR\\anaconda3\\ANACONDA\\lib\\site-packages\\sklearn\\utils\\validation.py\", line 63, in inner_f\n",
      "    return f(*args, **kwargs)\n",
      "  File \"C:\\Users\\SUHAIR\\anaconda3\\ANACONDA\\lib\\site-packages\\sklearn\\metrics\\_classification.py\", line 1771, in recall_score\n",
      "    _, r, _, _ = precision_recall_fscore_support(y_true, y_pred,\n",
      "  File \"C:\\Users\\SUHAIR\\anaconda3\\ANACONDA\\lib\\site-packages\\sklearn\\utils\\validation.py\", line 63, in inner_f\n",
      "    return f(*args, **kwargs)\n",
      "  File \"C:\\Users\\SUHAIR\\anaconda3\\ANACONDA\\lib\\site-packages\\sklearn\\metrics\\_classification.py\", line 1461, in precision_recall_fscore_support\n",
      "    labels = _check_set_wise_labels(y_true, y_pred, average, labels,\n",
      "  File \"C:\\Users\\SUHAIR\\anaconda3\\ANACONDA\\lib\\site-packages\\sklearn\\metrics\\_classification.py\", line 1291, in _check_set_wise_labels\n",
      "    raise ValueError(\"Target is %s but average='binary'. Please \"\n",
      "ValueError: Target is multiclass but average='binary'. Please choose another average setting, one of [None, 'micro', 'macro', 'weighted'].\n",
      "\n",
      "  warnings.warn(\n",
      "C:\\Users\\SUHAIR\\anaconda3\\ANACONDA\\lib\\site-packages\\sklearn\\model_selection\\_validation.py:683: UserWarning: Scoring failed. The score on this train-test partition for these parameters will be set to nan. Details: \n",
      "Traceback (most recent call last):\n",
      "  File \"C:\\Users\\SUHAIR\\anaconda3\\ANACONDA\\lib\\site-packages\\sklearn\\model_selection\\_validation.py\", line 674, in _score\n",
      "    scores = scorer(estimator, X_test, y_test)\n",
      "  File \"C:\\Users\\SUHAIR\\anaconda3\\ANACONDA\\lib\\site-packages\\sklearn\\metrics\\_scorer.py\", line 87, in __call__\n",
      "    score = scorer._score(cached_call, estimator,\n",
      "  File \"C:\\Users\\SUHAIR\\anaconda3\\ANACONDA\\lib\\site-packages\\sklearn\\metrics\\_scorer.py\", line 242, in _score\n",
      "    return self._sign * self._score_func(y_true, y_pred,\n",
      "  File \"C:\\Users\\SUHAIR\\anaconda3\\ANACONDA\\lib\\site-packages\\sklearn\\utils\\validation.py\", line 63, in inner_f\n",
      "    return f(*args, **kwargs)\n",
      "  File \"C:\\Users\\SUHAIR\\anaconda3\\ANACONDA\\lib\\site-packages\\sklearn\\metrics\\_classification.py\", line 1771, in recall_score\n",
      "    _, r, _, _ = precision_recall_fscore_support(y_true, y_pred,\n",
      "  File \"C:\\Users\\SUHAIR\\anaconda3\\ANACONDA\\lib\\site-packages\\sklearn\\utils\\validation.py\", line 63, in inner_f\n",
      "    return f(*args, **kwargs)\n",
      "  File \"C:\\Users\\SUHAIR\\anaconda3\\ANACONDA\\lib\\site-packages\\sklearn\\metrics\\_classification.py\", line 1461, in precision_recall_fscore_support\n",
      "    labels = _check_set_wise_labels(y_true, y_pred, average, labels,\n",
      "  File \"C:\\Users\\SUHAIR\\anaconda3\\ANACONDA\\lib\\site-packages\\sklearn\\metrics\\_classification.py\", line 1291, in _check_set_wise_labels\n",
      "    raise ValueError(\"Target is %s but average='binary'. Please \"\n",
      "ValueError: Target is multiclass but average='binary'. Please choose another average setting, one of [None, 'micro', 'macro', 'weighted'].\n",
      "\n",
      "  warnings.warn(\n",
      "C:\\Users\\SUHAIR\\anaconda3\\ANACONDA\\lib\\site-packages\\sklearn\\model_selection\\_validation.py:683: UserWarning: Scoring failed. The score on this train-test partition for these parameters will be set to nan. Details: \n",
      "Traceback (most recent call last):\n",
      "  File \"C:\\Users\\SUHAIR\\anaconda3\\ANACONDA\\lib\\site-packages\\sklearn\\model_selection\\_validation.py\", line 674, in _score\n",
      "    scores = scorer(estimator, X_test, y_test)\n",
      "  File \"C:\\Users\\SUHAIR\\anaconda3\\ANACONDA\\lib\\site-packages\\sklearn\\metrics\\_scorer.py\", line 87, in __call__\n",
      "    score = scorer._score(cached_call, estimator,\n",
      "  File \"C:\\Users\\SUHAIR\\anaconda3\\ANACONDA\\lib\\site-packages\\sklearn\\metrics\\_scorer.py\", line 242, in _score\n",
      "    return self._sign * self._score_func(y_true, y_pred,\n",
      "  File \"C:\\Users\\SUHAIR\\anaconda3\\ANACONDA\\lib\\site-packages\\sklearn\\utils\\validation.py\", line 63, in inner_f\n",
      "    return f(*args, **kwargs)\n",
      "  File \"C:\\Users\\SUHAIR\\anaconda3\\ANACONDA\\lib\\site-packages\\sklearn\\metrics\\_classification.py\", line 1771, in recall_score\n",
      "    _, r, _, _ = precision_recall_fscore_support(y_true, y_pred,\n",
      "  File \"C:\\Users\\SUHAIR\\anaconda3\\ANACONDA\\lib\\site-packages\\sklearn\\utils\\validation.py\", line 63, in inner_f\n",
      "    return f(*args, **kwargs)\n",
      "  File \"C:\\Users\\SUHAIR\\anaconda3\\ANACONDA\\lib\\site-packages\\sklearn\\metrics\\_classification.py\", line 1461, in precision_recall_fscore_support\n",
      "    labels = _check_set_wise_labels(y_true, y_pred, average, labels,\n",
      "  File \"C:\\Users\\SUHAIR\\anaconda3\\ANACONDA\\lib\\site-packages\\sklearn\\metrics\\_classification.py\", line 1291, in _check_set_wise_labels\n",
      "    raise ValueError(\"Target is %s but average='binary'. Please \"\n",
      "ValueError: Target is multiclass but average='binary'. Please choose another average setting, one of [None, 'micro', 'macro', 'weighted'].\n",
      "\n",
      "  warnings.warn(\n",
      "C:\\Users\\SUHAIR\\anaconda3\\ANACONDA\\lib\\site-packages\\sklearn\\model_selection\\_validation.py:683: UserWarning: Scoring failed. The score on this train-test partition for these parameters will be set to nan. Details: \n",
      "Traceback (most recent call last):\n",
      "  File \"C:\\Users\\SUHAIR\\anaconda3\\ANACONDA\\lib\\site-packages\\sklearn\\model_selection\\_validation.py\", line 674, in _score\n",
      "    scores = scorer(estimator, X_test, y_test)\n",
      "  File \"C:\\Users\\SUHAIR\\anaconda3\\ANACONDA\\lib\\site-packages\\sklearn\\metrics\\_scorer.py\", line 87, in __call__\n",
      "    score = scorer._score(cached_call, estimator,\n",
      "  File \"C:\\Users\\SUHAIR\\anaconda3\\ANACONDA\\lib\\site-packages\\sklearn\\metrics\\_scorer.py\", line 242, in _score\n",
      "    return self._sign * self._score_func(y_true, y_pred,\n",
      "  File \"C:\\Users\\SUHAIR\\anaconda3\\ANACONDA\\lib\\site-packages\\sklearn\\utils\\validation.py\", line 63, in inner_f\n",
      "    return f(*args, **kwargs)\n",
      "  File \"C:\\Users\\SUHAIR\\anaconda3\\ANACONDA\\lib\\site-packages\\sklearn\\metrics\\_classification.py\", line 1771, in recall_score\n",
      "    _, r, _, _ = precision_recall_fscore_support(y_true, y_pred,\n",
      "  File \"C:\\Users\\SUHAIR\\anaconda3\\ANACONDA\\lib\\site-packages\\sklearn\\utils\\validation.py\", line 63, in inner_f\n",
      "    return f(*args, **kwargs)\n",
      "  File \"C:\\Users\\SUHAIR\\anaconda3\\ANACONDA\\lib\\site-packages\\sklearn\\metrics\\_classification.py\", line 1461, in precision_recall_fscore_support\n",
      "    labels = _check_set_wise_labels(y_true, y_pred, average, labels,\n",
      "  File \"C:\\Users\\SUHAIR\\anaconda3\\ANACONDA\\lib\\site-packages\\sklearn\\metrics\\_classification.py\", line 1291, in _check_set_wise_labels\n",
      "    raise ValueError(\"Target is %s but average='binary'. Please \"\n",
      "ValueError: Target is multiclass but average='binary'. Please choose another average setting, one of [None, 'micro', 'macro', 'weighted'].\n",
      "\n",
      "  warnings.warn(\n",
      "C:\\Users\\SUHAIR\\anaconda3\\ANACONDA\\lib\\site-packages\\sklearn\\model_selection\\_validation.py:683: UserWarning: Scoring failed. The score on this train-test partition for these parameters will be set to nan. Details: \n",
      "Traceback (most recent call last):\n",
      "  File \"C:\\Users\\SUHAIR\\anaconda3\\ANACONDA\\lib\\site-packages\\sklearn\\model_selection\\_validation.py\", line 674, in _score\n",
      "    scores = scorer(estimator, X_test, y_test)\n",
      "  File \"C:\\Users\\SUHAIR\\anaconda3\\ANACONDA\\lib\\site-packages\\sklearn\\metrics\\_scorer.py\", line 87, in __call__\n",
      "    score = scorer._score(cached_call, estimator,\n",
      "  File \"C:\\Users\\SUHAIR\\anaconda3\\ANACONDA\\lib\\site-packages\\sklearn\\metrics\\_scorer.py\", line 242, in _score\n",
      "    return self._sign * self._score_func(y_true, y_pred,\n",
      "  File \"C:\\Users\\SUHAIR\\anaconda3\\ANACONDA\\lib\\site-packages\\sklearn\\utils\\validation.py\", line 63, in inner_f\n",
      "    return f(*args, **kwargs)\n",
      "  File \"C:\\Users\\SUHAIR\\anaconda3\\ANACONDA\\lib\\site-packages\\sklearn\\metrics\\_classification.py\", line 1771, in recall_score\n",
      "    _, r, _, _ = precision_recall_fscore_support(y_true, y_pred,\n",
      "  File \"C:\\Users\\SUHAIR\\anaconda3\\ANACONDA\\lib\\site-packages\\sklearn\\utils\\validation.py\", line 63, in inner_f\n",
      "    return f(*args, **kwargs)\n",
      "  File \"C:\\Users\\SUHAIR\\anaconda3\\ANACONDA\\lib\\site-packages\\sklearn\\metrics\\_classification.py\", line 1461, in precision_recall_fscore_support\n",
      "    labels = _check_set_wise_labels(y_true, y_pred, average, labels,\n",
      "  File \"C:\\Users\\SUHAIR\\anaconda3\\ANACONDA\\lib\\site-packages\\sklearn\\metrics\\_classification.py\", line 1291, in _check_set_wise_labels\n",
      "    raise ValueError(\"Target is %s but average='binary'. Please \"\n",
      "ValueError: Target is multiclass but average='binary'. Please choose another average setting, one of [None, 'micro', 'macro', 'weighted'].\n",
      "\n",
      "  warnings.warn(\n",
      "C:\\Users\\SUHAIR\\anaconda3\\ANACONDA\\lib\\site-packages\\sklearn\\model_selection\\_validation.py:683: UserWarning: Scoring failed. The score on this train-test partition for these parameters will be set to nan. Details: \n",
      "Traceback (most recent call last):\n",
      "  File \"C:\\Users\\SUHAIR\\anaconda3\\ANACONDA\\lib\\site-packages\\sklearn\\model_selection\\_validation.py\", line 674, in _score\n",
      "    scores = scorer(estimator, X_test, y_test)\n",
      "  File \"C:\\Users\\SUHAIR\\anaconda3\\ANACONDA\\lib\\site-packages\\sklearn\\metrics\\_scorer.py\", line 87, in __call__\n",
      "    score = scorer._score(cached_call, estimator,\n",
      "  File \"C:\\Users\\SUHAIR\\anaconda3\\ANACONDA\\lib\\site-packages\\sklearn\\metrics\\_scorer.py\", line 242, in _score\n",
      "    return self._sign * self._score_func(y_true, y_pred,\n",
      "  File \"C:\\Users\\SUHAIR\\anaconda3\\ANACONDA\\lib\\site-packages\\sklearn\\utils\\validation.py\", line 63, in inner_f\n",
      "    return f(*args, **kwargs)\n",
      "  File \"C:\\Users\\SUHAIR\\anaconda3\\ANACONDA\\lib\\site-packages\\sklearn\\metrics\\_classification.py\", line 1771, in recall_score\n",
      "    _, r, _, _ = precision_recall_fscore_support(y_true, y_pred,\n",
      "  File \"C:\\Users\\SUHAIR\\anaconda3\\ANACONDA\\lib\\site-packages\\sklearn\\utils\\validation.py\", line 63, in inner_f\n",
      "    return f(*args, **kwargs)\n",
      "  File \"C:\\Users\\SUHAIR\\anaconda3\\ANACONDA\\lib\\site-packages\\sklearn\\metrics\\_classification.py\", line 1461, in precision_recall_fscore_support\n",
      "    labels = _check_set_wise_labels(y_true, y_pred, average, labels,\n",
      "  File \"C:\\Users\\SUHAIR\\anaconda3\\ANACONDA\\lib\\site-packages\\sklearn\\metrics\\_classification.py\", line 1291, in _check_set_wise_labels\n",
      "    raise ValueError(\"Target is %s but average='binary'. Please \"\n",
      "ValueError: Target is multiclass but average='binary'. Please choose another average setting, one of [None, 'micro', 'macro', 'weighted'].\n",
      "\n",
      "  warnings.warn(\n",
      "C:\\Users\\SUHAIR\\anaconda3\\ANACONDA\\lib\\site-packages\\sklearn\\model_selection\\_validation.py:683: UserWarning: Scoring failed. The score on this train-test partition for these parameters will be set to nan. Details: \n",
      "Traceback (most recent call last):\n",
      "  File \"C:\\Users\\SUHAIR\\anaconda3\\ANACONDA\\lib\\site-packages\\sklearn\\model_selection\\_validation.py\", line 674, in _score\n",
      "    scores = scorer(estimator, X_test, y_test)\n",
      "  File \"C:\\Users\\SUHAIR\\anaconda3\\ANACONDA\\lib\\site-packages\\sklearn\\metrics\\_scorer.py\", line 87, in __call__\n",
      "    score = scorer._score(cached_call, estimator,\n",
      "  File \"C:\\Users\\SUHAIR\\anaconda3\\ANACONDA\\lib\\site-packages\\sklearn\\metrics\\_scorer.py\", line 242, in _score\n",
      "    return self._sign * self._score_func(y_true, y_pred,\n",
      "  File \"C:\\Users\\SUHAIR\\anaconda3\\ANACONDA\\lib\\site-packages\\sklearn\\utils\\validation.py\", line 63, in inner_f\n",
      "    return f(*args, **kwargs)\n",
      "  File \"C:\\Users\\SUHAIR\\anaconda3\\ANACONDA\\lib\\site-packages\\sklearn\\metrics\\_classification.py\", line 1771, in recall_score\n",
      "    _, r, _, _ = precision_recall_fscore_support(y_true, y_pred,\n",
      "  File \"C:\\Users\\SUHAIR\\anaconda3\\ANACONDA\\lib\\site-packages\\sklearn\\utils\\validation.py\", line 63, in inner_f\n",
      "    return f(*args, **kwargs)\n",
      "  File \"C:\\Users\\SUHAIR\\anaconda3\\ANACONDA\\lib\\site-packages\\sklearn\\metrics\\_classification.py\", line 1461, in precision_recall_fscore_support\n",
      "    labels = _check_set_wise_labels(y_true, y_pred, average, labels,\n",
      "  File \"C:\\Users\\SUHAIR\\anaconda3\\ANACONDA\\lib\\site-packages\\sklearn\\metrics\\_classification.py\", line 1291, in _check_set_wise_labels\n",
      "    raise ValueError(\"Target is %s but average='binary'. Please \"\n",
      "ValueError: Target is multiclass but average='binary'. Please choose another average setting, one of [None, 'micro', 'macro', 'weighted'].\n",
      "\n",
      "  warnings.warn(\n"
     ]
    }
   ],
   "source": [
    "recall = []\n",
    "accuracy = []\n",
    "\n",
    "for model in all_model:\n",
    "    cv = cross_val_score(model, x_train, y_train, scoring='recall', cv=10).mean()\n",
    "    recall.append(cv)\n",
    "\n",
    "    cv = cross_val_score(model, x_train, y_train, scoring='accuracy', cv=10).mean()\n",
    "    accuracy.append(cv)"
   ]
  },
  {
   "cell_type": "code",
   "execution_count": 52,
   "metadata": {},
   "outputs": [
    {
     "name": "stderr",
     "output_type": "stream",
     "text": [
      "C:\\Users\\SUHAIR\\anaconda3\\ANACONDA\\lib\\site-packages\\pandas\\io\\formats\\style.py:1264: RuntimeWarning: All-NaN slice encountered\n",
      "  smin = np.nanmin(s.to_numpy()) if vmin is None else vmin\n",
      "C:\\Users\\SUHAIR\\anaconda3\\ANACONDA\\lib\\site-packages\\pandas\\io\\formats\\style.py:1265: RuntimeWarning: All-NaN slice encountered\n",
      "  smax = np.nanmax(s.to_numpy()) if vmax is None else vmax\n"
     ]
    },
    {
     "data": {
      "text/html": [
       "<style  type=\"text/css\" >\n",
       "#T_52e44_row0_col1{\n",
       "            background-color:  #73a9cf;\n",
       "            color:  #000000;\n",
       "        }#T_52e44_row0_col2,#T_52e44_row1_col2{\n",
       "            background-color:  #000000;\n",
       "            color:  #f1f1f1;\n",
       "        }#T_52e44_row1_col1{\n",
       "            background-color:  #fff7fb;\n",
       "            color:  #000000;\n",
       "        }</style><table id=\"T_52e44_\" ><thead>    <tr>        <th class=\"blank level0\" ></th>        <th class=\"col_heading level0 col0\" >Model</th>        <th class=\"col_heading level0 col1\" >Accuracy</th>        <th class=\"col_heading level0 col2\" >Recall</th>    </tr></thead><tbody>\n",
       "                <tr>\n",
       "                        <th id=\"T_52e44_level0_row0\" class=\"row_heading level0 row0\" >0</th>\n",
       "                        <td id=\"T_52e44_row0_col0\" class=\"data row0 col0\" >LogisticRegression</td>\n",
       "                        <td id=\"T_52e44_row0_col1\" class=\"data row0 col1\" >0.037517</td>\n",
       "                        <td id=\"T_52e44_row0_col2\" class=\"data row0 col2\" >nan</td>\n",
       "            </tr>\n",
       "            <tr>\n",
       "                        <th id=\"T_52e44_level0_row1\" class=\"row_heading level0 row1\" >1</th>\n",
       "                        <td id=\"T_52e44_row1_col0\" class=\"data row1 col0\" >KNeighborsClassifier</td>\n",
       "                        <td id=\"T_52e44_row1_col1\" class=\"data row1 col1\" >0.025354</td>\n",
       "                        <td id=\"T_52e44_row1_col2\" class=\"data row1 col2\" >nan</td>\n",
       "            </tr>\n",
       "    </tbody></table>"
      ],
      "text/plain": [
       "<pandas.io.formats.style.Styler at 0x2050f095e50>"
      ]
     },
     "execution_count": 52,
     "metadata": {},
     "output_type": "execute_result"
    }
   ],
   "source": [
    "model = ['LogisticRegression', 'KNeighborsClassifier']\n",
    "\n",
    "score = pd.DataFrame({'Model': model, 'Accuracy': accuracy, 'Recall': recall})\n",
    "score.style.background_gradient(high=1,axis=0)"
   ]
  },
  {
   "cell_type": "code",
   "execution_count": null,
   "metadata": {},
   "outputs": [],
   "source": []
  }
 ],
 "metadata": {
  "colab": {
   "collapsed_sections": [],
   "name": "Competition_Environmental_Pollution.ipynb",
   "provenance": []
  },
  "kernelspec": {
   "display_name": "Python 3",
   "language": "python",
   "name": "python3"
  },
  "language_info": {
   "codemirror_mode": {
    "name": "ipython",
    "version": 3
   },
   "file_extension": ".py",
   "mimetype": "text/x-python",
   "name": "python",
   "nbconvert_exporter": "python",
   "pygments_lexer": "ipython3",
   "version": "3.8.8"
  }
 },
 "nbformat": 4,
 "nbformat_minor": 1
}
